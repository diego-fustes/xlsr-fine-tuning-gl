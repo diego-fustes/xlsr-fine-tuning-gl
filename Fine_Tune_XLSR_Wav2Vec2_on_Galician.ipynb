{
  "nbformat": 4,
  "nbformat_minor": 0,
  "metadata": {
    "colab": {
      "name": "Fine-Tune XLSR-Wav2Vec2 on Galician.ipynb",
      "provenance": [],
      "collapsed_sections": [],
      "machine_shape": "hm"
    },
    "kernelspec": {
      "name": "python3",
      "display_name": "Python 3"
    },
    "widgets": {
      "application/vnd.jupyter.widget-state+json": {
        "d058f1c61dc14ae7b023647591a05731": {
          "model_module": "@jupyter-widgets/controls",
          "model_name": "HBoxModel",
          "state": {
            "_view_name": "HBoxView",
            "_dom_classes": [],
            "_model_name": "HBoxModel",
            "_view_module": "@jupyter-widgets/controls",
            "_model_module_version": "1.5.0",
            "_view_count": null,
            "_view_module_version": "1.5.0",
            "box_style": "",
            "layout": "IPY_MODEL_70d199e79f894c31927393fe454ff51b",
            "_model_module": "@jupyter-widgets/controls",
            "children": [
              "IPY_MODEL_5a6b6a7cd6c4438a9ad0355de2dd29e6",
              "IPY_MODEL_d0c0397b4b0c4ea98befa27355f992bc"
            ]
          }
        },
        "70d199e79f894c31927393fe454ff51b": {
          "model_module": "@jupyter-widgets/base",
          "model_name": "LayoutModel",
          "state": {
            "_view_name": "LayoutView",
            "grid_template_rows": null,
            "right": null,
            "justify_content": null,
            "_view_module": "@jupyter-widgets/base",
            "overflow": null,
            "_model_module_version": "1.2.0",
            "_view_count": null,
            "flex_flow": null,
            "width": null,
            "min_width": null,
            "border": null,
            "align_items": null,
            "bottom": null,
            "_model_module": "@jupyter-widgets/base",
            "top": null,
            "grid_column": null,
            "overflow_y": null,
            "overflow_x": null,
            "grid_auto_flow": null,
            "grid_area": null,
            "grid_template_columns": null,
            "flex": null,
            "_model_name": "LayoutModel",
            "justify_items": null,
            "grid_row": null,
            "max_height": null,
            "align_content": null,
            "visibility": null,
            "align_self": null,
            "height": null,
            "min_height": null,
            "padding": null,
            "grid_auto_rows": null,
            "grid_gap": null,
            "max_width": null,
            "order": null,
            "_view_module_version": "1.2.0",
            "grid_template_areas": null,
            "object_position": null,
            "object_fit": null,
            "grid_auto_columns": null,
            "margin": null,
            "display": null,
            "left": null
          }
        },
        "5a6b6a7cd6c4438a9ad0355de2dd29e6": {
          "model_module": "@jupyter-widgets/controls",
          "model_name": "FloatProgressModel",
          "state": {
            "_view_name": "ProgressView",
            "style": "IPY_MODEL_34fe44f273754ca892c6f678313c1b09",
            "_dom_classes": [],
            "description": "",
            "_model_name": "FloatProgressModel",
            "bar_style": "info",
            "max": 1,
            "_view_module": "@jupyter-widgets/controls",
            "_model_module_version": "1.5.0",
            "value": 1,
            "_view_count": null,
            "_view_module_version": "1.5.0",
            "orientation": "horizontal",
            "min": 0,
            "description_tooltip": null,
            "_model_module": "@jupyter-widgets/controls",
            "layout": "IPY_MODEL_3ee9da49a7384281b21e9d4df3747b8c"
          }
        },
        "d0c0397b4b0c4ea98befa27355f992bc": {
          "model_module": "@jupyter-widgets/controls",
          "model_name": "HTMLModel",
          "state": {
            "_view_name": "HTMLView",
            "style": "IPY_MODEL_5f9ca4f1a295423196314a1dbfa19a91",
            "_dom_classes": [],
            "description": "",
            "_model_name": "HTMLModel",
            "placeholder": "​",
            "_view_module": "@jupyter-widgets/controls",
            "_model_module_version": "1.5.0",
            "value": " 1/? [00:00&lt;00:00, 14.81 tables/s]",
            "_view_count": null,
            "_view_module_version": "1.5.0",
            "description_tooltip": null,
            "_model_module": "@jupyter-widgets/controls",
            "layout": "IPY_MODEL_b225810e0e704899aec2abe54a58592c"
          }
        },
        "34fe44f273754ca892c6f678313c1b09": {
          "model_module": "@jupyter-widgets/controls",
          "model_name": "ProgressStyleModel",
          "state": {
            "_view_name": "StyleView",
            "_model_name": "ProgressStyleModel",
            "description_width": "initial",
            "_view_module": "@jupyter-widgets/base",
            "_model_module_version": "1.5.0",
            "_view_count": null,
            "_view_module_version": "1.2.0",
            "bar_color": null,
            "_model_module": "@jupyter-widgets/controls"
          }
        },
        "3ee9da49a7384281b21e9d4df3747b8c": {
          "model_module": "@jupyter-widgets/base",
          "model_name": "LayoutModel",
          "state": {
            "_view_name": "LayoutView",
            "grid_template_rows": null,
            "right": null,
            "justify_content": null,
            "_view_module": "@jupyter-widgets/base",
            "overflow": null,
            "_model_module_version": "1.2.0",
            "_view_count": null,
            "flex_flow": null,
            "width": null,
            "min_width": null,
            "border": null,
            "align_items": null,
            "bottom": null,
            "_model_module": "@jupyter-widgets/base",
            "top": null,
            "grid_column": null,
            "overflow_y": null,
            "overflow_x": null,
            "grid_auto_flow": null,
            "grid_area": null,
            "grid_template_columns": null,
            "flex": null,
            "_model_name": "LayoutModel",
            "justify_items": null,
            "grid_row": null,
            "max_height": null,
            "align_content": null,
            "visibility": null,
            "align_self": null,
            "height": null,
            "min_height": null,
            "padding": null,
            "grid_auto_rows": null,
            "grid_gap": null,
            "max_width": null,
            "order": null,
            "_view_module_version": "1.2.0",
            "grid_template_areas": null,
            "object_position": null,
            "object_fit": null,
            "grid_auto_columns": null,
            "margin": null,
            "display": null,
            "left": null
          }
        },
        "5f9ca4f1a295423196314a1dbfa19a91": {
          "model_module": "@jupyter-widgets/controls",
          "model_name": "DescriptionStyleModel",
          "state": {
            "_view_name": "StyleView",
            "_model_name": "DescriptionStyleModel",
            "description_width": "",
            "_view_module": "@jupyter-widgets/base",
            "_model_module_version": "1.5.0",
            "_view_count": null,
            "_view_module_version": "1.2.0",
            "_model_module": "@jupyter-widgets/controls"
          }
        },
        "b225810e0e704899aec2abe54a58592c": {
          "model_module": "@jupyter-widgets/base",
          "model_name": "LayoutModel",
          "state": {
            "_view_name": "LayoutView",
            "grid_template_rows": null,
            "right": null,
            "justify_content": null,
            "_view_module": "@jupyter-widgets/base",
            "overflow": null,
            "_model_module_version": "1.2.0",
            "_view_count": null,
            "flex_flow": null,
            "width": null,
            "min_width": null,
            "border": null,
            "align_items": null,
            "bottom": null,
            "_model_module": "@jupyter-widgets/base",
            "top": null,
            "grid_column": null,
            "overflow_y": null,
            "overflow_x": null,
            "grid_auto_flow": null,
            "grid_area": null,
            "grid_template_columns": null,
            "flex": null,
            "_model_name": "LayoutModel",
            "justify_items": null,
            "grid_row": null,
            "max_height": null,
            "align_content": null,
            "visibility": null,
            "align_self": null,
            "height": null,
            "min_height": null,
            "padding": null,
            "grid_auto_rows": null,
            "grid_gap": null,
            "max_width": null,
            "order": null,
            "_view_module_version": "1.2.0",
            "grid_template_areas": null,
            "object_position": null,
            "object_fit": null,
            "grid_auto_columns": null,
            "margin": null,
            "display": null,
            "left": null
          }
        },
        "a414ee1ac41b4c628eddbefee800524e": {
          "model_module": "@jupyter-widgets/controls",
          "model_name": "HBoxModel",
          "state": {
            "_view_name": "HBoxView",
            "_dom_classes": [],
            "_model_name": "HBoxModel",
            "_view_module": "@jupyter-widgets/controls",
            "_model_module_version": "1.5.0",
            "_view_count": null,
            "_view_module_version": "1.5.0",
            "box_style": "",
            "layout": "IPY_MODEL_b9329b91210644e3a56c188708d4d5b7",
            "_model_module": "@jupyter-widgets/controls",
            "children": [
              "IPY_MODEL_040b457cbc5545e19fcee21b0116f460",
              "IPY_MODEL_3bad7624669c49a0a65ef47fa637eb18"
            ]
          }
        },
        "b9329b91210644e3a56c188708d4d5b7": {
          "model_module": "@jupyter-widgets/base",
          "model_name": "LayoutModel",
          "state": {
            "_view_name": "LayoutView",
            "grid_template_rows": null,
            "right": null,
            "justify_content": null,
            "_view_module": "@jupyter-widgets/base",
            "overflow": null,
            "_model_module_version": "1.2.0",
            "_view_count": null,
            "flex_flow": null,
            "width": null,
            "min_width": null,
            "border": null,
            "align_items": null,
            "bottom": null,
            "_model_module": "@jupyter-widgets/base",
            "top": null,
            "grid_column": null,
            "overflow_y": null,
            "overflow_x": null,
            "grid_auto_flow": null,
            "grid_area": null,
            "grid_template_columns": null,
            "flex": null,
            "_model_name": "LayoutModel",
            "justify_items": null,
            "grid_row": null,
            "max_height": null,
            "align_content": null,
            "visibility": null,
            "align_self": null,
            "height": null,
            "min_height": null,
            "padding": null,
            "grid_auto_rows": null,
            "grid_gap": null,
            "max_width": null,
            "order": null,
            "_view_module_version": "1.2.0",
            "grid_template_areas": null,
            "object_position": null,
            "object_fit": null,
            "grid_auto_columns": null,
            "margin": null,
            "display": null,
            "left": null
          }
        },
        "040b457cbc5545e19fcee21b0116f460": {
          "model_module": "@jupyter-widgets/controls",
          "model_name": "FloatProgressModel",
          "state": {
            "_view_name": "ProgressView",
            "style": "IPY_MODEL_cf5886e8c5cc424cbea202376ab23cab",
            "_dom_classes": [],
            "description": "100%",
            "_model_name": "FloatProgressModel",
            "bar_style": "success",
            "max": 808,
            "_view_module": "@jupyter-widgets/controls",
            "_model_module_version": "1.5.0",
            "value": 808,
            "_view_count": null,
            "_view_module_version": "1.5.0",
            "orientation": "horizontal",
            "min": 0,
            "description_tooltip": null,
            "_model_module": "@jupyter-widgets/controls",
            "layout": "IPY_MODEL_e1fef2f7ebee4308920be475878c275b"
          }
        },
        "3bad7624669c49a0a65ef47fa637eb18": {
          "model_module": "@jupyter-widgets/controls",
          "model_name": "HTMLModel",
          "state": {
            "_view_name": "HTMLView",
            "style": "IPY_MODEL_d87b760346be4439b2b4bc4ef4e569af",
            "_dom_classes": [],
            "description": "",
            "_model_name": "HTMLModel",
            "placeholder": "​",
            "_view_module": "@jupyter-widgets/controls",
            "_model_module_version": "1.5.0",
            "value": " 808/808 [02:16&lt;00:00,  5.90ex/s]",
            "_view_count": null,
            "_view_module_version": "1.5.0",
            "description_tooltip": null,
            "_model_module": "@jupyter-widgets/controls",
            "layout": "IPY_MODEL_fe8c4a51b2954223a65da5d5165401a2"
          }
        },
        "cf5886e8c5cc424cbea202376ab23cab": {
          "model_module": "@jupyter-widgets/controls",
          "model_name": "ProgressStyleModel",
          "state": {
            "_view_name": "StyleView",
            "_model_name": "ProgressStyleModel",
            "description_width": "initial",
            "_view_module": "@jupyter-widgets/base",
            "_model_module_version": "1.5.0",
            "_view_count": null,
            "_view_module_version": "1.2.0",
            "bar_color": null,
            "_model_module": "@jupyter-widgets/controls"
          }
        },
        "e1fef2f7ebee4308920be475878c275b": {
          "model_module": "@jupyter-widgets/base",
          "model_name": "LayoutModel",
          "state": {
            "_view_name": "LayoutView",
            "grid_template_rows": null,
            "right": null,
            "justify_content": null,
            "_view_module": "@jupyter-widgets/base",
            "overflow": null,
            "_model_module_version": "1.2.0",
            "_view_count": null,
            "flex_flow": null,
            "width": null,
            "min_width": null,
            "border": null,
            "align_items": null,
            "bottom": null,
            "_model_module": "@jupyter-widgets/base",
            "top": null,
            "grid_column": null,
            "overflow_y": null,
            "overflow_x": null,
            "grid_auto_flow": null,
            "grid_area": null,
            "grid_template_columns": null,
            "flex": null,
            "_model_name": "LayoutModel",
            "justify_items": null,
            "grid_row": null,
            "max_height": null,
            "align_content": null,
            "visibility": null,
            "align_self": null,
            "height": null,
            "min_height": null,
            "padding": null,
            "grid_auto_rows": null,
            "grid_gap": null,
            "max_width": null,
            "order": null,
            "_view_module_version": "1.2.0",
            "grid_template_areas": null,
            "object_position": null,
            "object_fit": null,
            "grid_auto_columns": null,
            "margin": null,
            "display": null,
            "left": null
          }
        },
        "d87b760346be4439b2b4bc4ef4e569af": {
          "model_module": "@jupyter-widgets/controls",
          "model_name": "DescriptionStyleModel",
          "state": {
            "_view_name": "StyleView",
            "_model_name": "DescriptionStyleModel",
            "description_width": "",
            "_view_module": "@jupyter-widgets/base",
            "_model_module_version": "1.5.0",
            "_view_count": null,
            "_view_module_version": "1.2.0",
            "_model_module": "@jupyter-widgets/controls"
          }
        },
        "fe8c4a51b2954223a65da5d5165401a2": {
          "model_module": "@jupyter-widgets/base",
          "model_name": "LayoutModel",
          "state": {
            "_view_name": "LayoutView",
            "grid_template_rows": null,
            "right": null,
            "justify_content": null,
            "_view_module": "@jupyter-widgets/base",
            "overflow": null,
            "_model_module_version": "1.2.0",
            "_view_count": null,
            "flex_flow": null,
            "width": null,
            "min_width": null,
            "border": null,
            "align_items": null,
            "bottom": null,
            "_model_module": "@jupyter-widgets/base",
            "top": null,
            "grid_column": null,
            "overflow_y": null,
            "overflow_x": null,
            "grid_auto_flow": null,
            "grid_area": null,
            "grid_template_columns": null,
            "flex": null,
            "_model_name": "LayoutModel",
            "justify_items": null,
            "grid_row": null,
            "max_height": null,
            "align_content": null,
            "visibility": null,
            "align_self": null,
            "height": null,
            "min_height": null,
            "padding": null,
            "grid_auto_rows": null,
            "grid_gap": null,
            "max_width": null,
            "order": null,
            "_view_module_version": "1.2.0",
            "grid_template_areas": null,
            "object_position": null,
            "object_fit": null,
            "grid_auto_columns": null,
            "margin": null,
            "display": null,
            "left": null
          }
        },
        "e41d14028e1b4b879c3b85354f442464": {
          "model_module": "@jupyter-widgets/controls",
          "model_name": "HBoxModel",
          "state": {
            "_view_name": "HBoxView",
            "_dom_classes": [],
            "_model_name": "HBoxModel",
            "_view_module": "@jupyter-widgets/controls",
            "_model_module_version": "1.5.0",
            "_view_count": null,
            "_view_module_version": "1.5.0",
            "box_style": "",
            "layout": "IPY_MODEL_be323a31564540c49cd80ed2f4942327",
            "_model_module": "@jupyter-widgets/controls",
            "children": [
              "IPY_MODEL_513bcbd5fa1445d78c95413c5f0c6bfe",
              "IPY_MODEL_9797a1b432c64f1aafd7f9ac220b25f9"
            ]
          }
        },
        "be323a31564540c49cd80ed2f4942327": {
          "model_module": "@jupyter-widgets/base",
          "model_name": "LayoutModel",
          "state": {
            "_view_name": "LayoutView",
            "grid_template_rows": null,
            "right": null,
            "justify_content": null,
            "_view_module": "@jupyter-widgets/base",
            "overflow": null,
            "_model_module_version": "1.2.0",
            "_view_count": null,
            "flex_flow": null,
            "width": null,
            "min_width": null,
            "border": null,
            "align_items": null,
            "bottom": null,
            "_model_module": "@jupyter-widgets/base",
            "top": null,
            "grid_column": null,
            "overflow_y": null,
            "overflow_x": null,
            "grid_auto_flow": null,
            "grid_area": null,
            "grid_template_columns": null,
            "flex": null,
            "_model_name": "LayoutModel",
            "justify_items": null,
            "grid_row": null,
            "max_height": null,
            "align_content": null,
            "visibility": null,
            "align_self": null,
            "height": null,
            "min_height": null,
            "padding": null,
            "grid_auto_rows": null,
            "grid_gap": null,
            "max_width": null,
            "order": null,
            "_view_module_version": "1.2.0",
            "grid_template_areas": null,
            "object_position": null,
            "object_fit": null,
            "grid_auto_columns": null,
            "margin": null,
            "display": null,
            "left": null
          }
        },
        "513bcbd5fa1445d78c95413c5f0c6bfe": {
          "model_module": "@jupyter-widgets/controls",
          "model_name": "FloatProgressModel",
          "state": {
            "_view_name": "ProgressView",
            "style": "IPY_MODEL_3dc7666a1cca43ac8da48d938ccec9bf",
            "_dom_classes": [],
            "description": "100%",
            "_model_name": "FloatProgressModel",
            "bar_style": "success",
            "max": 1,
            "_view_module": "@jupyter-widgets/controls",
            "_model_module_version": "1.5.0",
            "value": 1,
            "_view_count": null,
            "_view_module_version": "1.5.0",
            "orientation": "horizontal",
            "min": 0,
            "description_tooltip": null,
            "_model_module": "@jupyter-widgets/controls",
            "layout": "IPY_MODEL_6f164ad53caf4fcfa367075ceefd5e38"
          }
        },
        "9797a1b432c64f1aafd7f9ac220b25f9": {
          "model_module": "@jupyter-widgets/controls",
          "model_name": "HTMLModel",
          "state": {
            "_view_name": "HTMLView",
            "style": "IPY_MODEL_945cb153b671480aa47fca3f671bfbbd",
            "_dom_classes": [],
            "description": "",
            "_model_name": "HTMLModel",
            "placeholder": "​",
            "_view_module": "@jupyter-widgets/controls",
            "_model_module_version": "1.5.0",
            "value": " 1/1 [00:13&lt;00:00, 13.53s/ba]",
            "_view_count": null,
            "_view_module_version": "1.5.0",
            "description_tooltip": null,
            "_model_module": "@jupyter-widgets/controls",
            "layout": "IPY_MODEL_1297e577384d438baf63d352dac1145c"
          }
        },
        "3dc7666a1cca43ac8da48d938ccec9bf": {
          "model_module": "@jupyter-widgets/controls",
          "model_name": "ProgressStyleModel",
          "state": {
            "_view_name": "StyleView",
            "_model_name": "ProgressStyleModel",
            "description_width": "initial",
            "_view_module": "@jupyter-widgets/base",
            "_model_module_version": "1.5.0",
            "_view_count": null,
            "_view_module_version": "1.2.0",
            "bar_color": null,
            "_model_module": "@jupyter-widgets/controls"
          }
        },
        "6f164ad53caf4fcfa367075ceefd5e38": {
          "model_module": "@jupyter-widgets/base",
          "model_name": "LayoutModel",
          "state": {
            "_view_name": "LayoutView",
            "grid_template_rows": null,
            "right": null,
            "justify_content": null,
            "_view_module": "@jupyter-widgets/base",
            "overflow": null,
            "_model_module_version": "1.2.0",
            "_view_count": null,
            "flex_flow": null,
            "width": null,
            "min_width": null,
            "border": null,
            "align_items": null,
            "bottom": null,
            "_model_module": "@jupyter-widgets/base",
            "top": null,
            "grid_column": null,
            "overflow_y": null,
            "overflow_x": null,
            "grid_auto_flow": null,
            "grid_area": null,
            "grid_template_columns": null,
            "flex": null,
            "_model_name": "LayoutModel",
            "justify_items": null,
            "grid_row": null,
            "max_height": null,
            "align_content": null,
            "visibility": null,
            "align_self": null,
            "height": null,
            "min_height": null,
            "padding": null,
            "grid_auto_rows": null,
            "grid_gap": null,
            "max_width": null,
            "order": null,
            "_view_module_version": "1.2.0",
            "grid_template_areas": null,
            "object_position": null,
            "object_fit": null,
            "grid_auto_columns": null,
            "margin": null,
            "display": null,
            "left": null
          }
        },
        "945cb153b671480aa47fca3f671bfbbd": {
          "model_module": "@jupyter-widgets/controls",
          "model_name": "DescriptionStyleModel",
          "state": {
            "_view_name": "StyleView",
            "_model_name": "DescriptionStyleModel",
            "description_width": "",
            "_view_module": "@jupyter-widgets/base",
            "_model_module_version": "1.5.0",
            "_view_count": null,
            "_view_module_version": "1.2.0",
            "_model_module": "@jupyter-widgets/controls"
          }
        },
        "1297e577384d438baf63d352dac1145c": {
          "model_module": "@jupyter-widgets/base",
          "model_name": "LayoutModel",
          "state": {
            "_view_name": "LayoutView",
            "grid_template_rows": null,
            "right": null,
            "justify_content": null,
            "_view_module": "@jupyter-widgets/base",
            "overflow": null,
            "_model_module_version": "1.2.0",
            "_view_count": null,
            "flex_flow": null,
            "width": null,
            "min_width": null,
            "border": null,
            "align_items": null,
            "bottom": null,
            "_model_module": "@jupyter-widgets/base",
            "top": null,
            "grid_column": null,
            "overflow_y": null,
            "overflow_x": null,
            "grid_auto_flow": null,
            "grid_area": null,
            "grid_template_columns": null,
            "flex": null,
            "_model_name": "LayoutModel",
            "justify_items": null,
            "grid_row": null,
            "max_height": null,
            "align_content": null,
            "visibility": null,
            "align_self": null,
            "height": null,
            "min_height": null,
            "padding": null,
            "grid_auto_rows": null,
            "grid_gap": null,
            "max_width": null,
            "order": null,
            "_view_module_version": "1.2.0",
            "grid_template_areas": null,
            "object_position": null,
            "object_fit": null,
            "grid_auto_columns": null,
            "margin": null,
            "display": null,
            "left": null
          }
        },
        "f5b5d8181edd4f9d83ade0f0f3106394": {
          "model_module": "@jupyter-widgets/controls",
          "model_name": "HBoxModel",
          "state": {
            "_view_name": "HBoxView",
            "_dom_classes": [],
            "_model_name": "HBoxModel",
            "_view_module": "@jupyter-widgets/controls",
            "_model_module_version": "1.5.0",
            "_view_count": null,
            "_view_module_version": "1.5.0",
            "box_style": "",
            "layout": "IPY_MODEL_cc0bebae427441edaa9a438633ac4f2e",
            "_model_module": "@jupyter-widgets/controls",
            "children": [
              "IPY_MODEL_3c1c734473f341ec96a34adc7296f4c2",
              "IPY_MODEL_7ed73425ef9f407cb23677b5a3d9a1a4"
            ]
          }
        },
        "cc0bebae427441edaa9a438633ac4f2e": {
          "model_module": "@jupyter-widgets/base",
          "model_name": "LayoutModel",
          "state": {
            "_view_name": "LayoutView",
            "grid_template_rows": null,
            "right": null,
            "justify_content": null,
            "_view_module": "@jupyter-widgets/base",
            "overflow": null,
            "_model_module_version": "1.2.0",
            "_view_count": null,
            "flex_flow": null,
            "width": null,
            "min_width": null,
            "border": null,
            "align_items": null,
            "bottom": null,
            "_model_module": "@jupyter-widgets/base",
            "top": null,
            "grid_column": null,
            "overflow_y": null,
            "overflow_x": null,
            "grid_auto_flow": null,
            "grid_area": null,
            "grid_template_columns": null,
            "flex": null,
            "_model_name": "LayoutModel",
            "justify_items": null,
            "grid_row": null,
            "max_height": null,
            "align_content": null,
            "visibility": null,
            "align_self": null,
            "height": null,
            "min_height": null,
            "padding": null,
            "grid_auto_rows": null,
            "grid_gap": null,
            "max_width": null,
            "order": null,
            "_view_module_version": "1.2.0",
            "grid_template_areas": null,
            "object_position": null,
            "object_fit": null,
            "grid_auto_columns": null,
            "margin": null,
            "display": null,
            "left": null
          }
        },
        "3c1c734473f341ec96a34adc7296f4c2": {
          "model_module": "@jupyter-widgets/controls",
          "model_name": "FloatProgressModel",
          "state": {
            "_view_name": "ProgressView",
            "style": "IPY_MODEL_b9440d5d0d84400195ce450a0df4b3f4",
            "_dom_classes": [],
            "description": "100%",
            "_model_name": "FloatProgressModel",
            "bar_style": "success",
            "max": 808,
            "_view_module": "@jupyter-widgets/controls",
            "_model_module_version": "1.5.0",
            "value": 808,
            "_view_count": null,
            "_view_module_version": "1.5.0",
            "orientation": "horizontal",
            "min": 0,
            "description_tooltip": null,
            "_model_module": "@jupyter-widgets/controls",
            "layout": "IPY_MODEL_5e4df211a6c1468db411dc02fbbf0248"
          }
        },
        "7ed73425ef9f407cb23677b5a3d9a1a4": {
          "model_module": "@jupyter-widgets/controls",
          "model_name": "HTMLModel",
          "state": {
            "_view_name": "HTMLView",
            "style": "IPY_MODEL_e683e8f937ad4c8fa25902beac5edd83",
            "_dom_classes": [],
            "description": "",
            "_model_name": "HTMLModel",
            "placeholder": "​",
            "_view_module": "@jupyter-widgets/controls",
            "_model_module_version": "1.5.0",
            "value": " 808/808 [08:50&lt;00:00,  1.52ex/s]",
            "_view_count": null,
            "_view_module_version": "1.5.0",
            "description_tooltip": null,
            "_model_module": "@jupyter-widgets/controls",
            "layout": "IPY_MODEL_1388db83bae9422d916661a816bce3ae"
          }
        },
        "b9440d5d0d84400195ce450a0df4b3f4": {
          "model_module": "@jupyter-widgets/controls",
          "model_name": "ProgressStyleModel",
          "state": {
            "_view_name": "StyleView",
            "_model_name": "ProgressStyleModel",
            "description_width": "initial",
            "_view_module": "@jupyter-widgets/base",
            "_model_module_version": "1.5.0",
            "_view_count": null,
            "_view_module_version": "1.2.0",
            "bar_color": null,
            "_model_module": "@jupyter-widgets/controls"
          }
        },
        "5e4df211a6c1468db411dc02fbbf0248": {
          "model_module": "@jupyter-widgets/base",
          "model_name": "LayoutModel",
          "state": {
            "_view_name": "LayoutView",
            "grid_template_rows": null,
            "right": null,
            "justify_content": null,
            "_view_module": "@jupyter-widgets/base",
            "overflow": null,
            "_model_module_version": "1.2.0",
            "_view_count": null,
            "flex_flow": null,
            "width": null,
            "min_width": null,
            "border": null,
            "align_items": null,
            "bottom": null,
            "_model_module": "@jupyter-widgets/base",
            "top": null,
            "grid_column": null,
            "overflow_y": null,
            "overflow_x": null,
            "grid_auto_flow": null,
            "grid_area": null,
            "grid_template_columns": null,
            "flex": null,
            "_model_name": "LayoutModel",
            "justify_items": null,
            "grid_row": null,
            "max_height": null,
            "align_content": null,
            "visibility": null,
            "align_self": null,
            "height": null,
            "min_height": null,
            "padding": null,
            "grid_auto_rows": null,
            "grid_gap": null,
            "max_width": null,
            "order": null,
            "_view_module_version": "1.2.0",
            "grid_template_areas": null,
            "object_position": null,
            "object_fit": null,
            "grid_auto_columns": null,
            "margin": null,
            "display": null,
            "left": null
          }
        },
        "e683e8f937ad4c8fa25902beac5edd83": {
          "model_module": "@jupyter-widgets/controls",
          "model_name": "DescriptionStyleModel",
          "state": {
            "_view_name": "StyleView",
            "_model_name": "DescriptionStyleModel",
            "description_width": "",
            "_view_module": "@jupyter-widgets/base",
            "_model_module_version": "1.5.0",
            "_view_count": null,
            "_view_module_version": "1.2.0",
            "_model_module": "@jupyter-widgets/controls"
          }
        },
        "1388db83bae9422d916661a816bce3ae": {
          "model_module": "@jupyter-widgets/base",
          "model_name": "LayoutModel",
          "state": {
            "_view_name": "LayoutView",
            "grid_template_rows": null,
            "right": null,
            "justify_content": null,
            "_view_module": "@jupyter-widgets/base",
            "overflow": null,
            "_model_module_version": "1.2.0",
            "_view_count": null,
            "flex_flow": null,
            "width": null,
            "min_width": null,
            "border": null,
            "align_items": null,
            "bottom": null,
            "_model_module": "@jupyter-widgets/base",
            "top": null,
            "grid_column": null,
            "overflow_y": null,
            "overflow_x": null,
            "grid_auto_flow": null,
            "grid_area": null,
            "grid_template_columns": null,
            "flex": null,
            "_model_name": "LayoutModel",
            "justify_items": null,
            "grid_row": null,
            "max_height": null,
            "align_content": null,
            "visibility": null,
            "align_self": null,
            "height": null,
            "min_height": null,
            "padding": null,
            "grid_auto_rows": null,
            "grid_gap": null,
            "max_width": null,
            "order": null,
            "_view_module_version": "1.2.0",
            "grid_template_areas": null,
            "object_position": null,
            "object_fit": null,
            "grid_auto_columns": null,
            "margin": null,
            "display": null,
            "left": null
          }
        },
        "5c34dae34ef24da8a9d4228a35ab9f38": {
          "model_module": "@jupyter-widgets/controls",
          "model_name": "HBoxModel",
          "state": {
            "_view_name": "HBoxView",
            "_dom_classes": [],
            "_model_name": "HBoxModel",
            "_view_module": "@jupyter-widgets/controls",
            "_model_module_version": "1.5.0",
            "_view_count": null,
            "_view_module_version": "1.5.0",
            "box_style": "",
            "layout": "IPY_MODEL_c0cbd444c08e4b0bad75515f909ed3dd",
            "_model_module": "@jupyter-widgets/controls",
            "children": [
              "IPY_MODEL_cfaaa2f7351f485aa7f1391d3c43c82b",
              "IPY_MODEL_1117102e312f49b3ae7b04b8119ce771"
            ]
          }
        },
        "c0cbd444c08e4b0bad75515f909ed3dd": {
          "model_module": "@jupyter-widgets/base",
          "model_name": "LayoutModel",
          "state": {
            "_view_name": "LayoutView",
            "grid_template_rows": null,
            "right": null,
            "justify_content": null,
            "_view_module": "@jupyter-widgets/base",
            "overflow": null,
            "_model_module_version": "1.2.0",
            "_view_count": null,
            "flex_flow": null,
            "width": null,
            "min_width": null,
            "border": null,
            "align_items": null,
            "bottom": null,
            "_model_module": "@jupyter-widgets/base",
            "top": null,
            "grid_column": null,
            "overflow_y": null,
            "overflow_x": null,
            "grid_auto_flow": null,
            "grid_area": null,
            "grid_template_columns": null,
            "flex": null,
            "_model_name": "LayoutModel",
            "justify_items": null,
            "grid_row": null,
            "max_height": null,
            "align_content": null,
            "visibility": null,
            "align_self": null,
            "height": null,
            "min_height": null,
            "padding": null,
            "grid_auto_rows": null,
            "grid_gap": null,
            "max_width": null,
            "order": null,
            "_view_module_version": "1.2.0",
            "grid_template_areas": null,
            "object_position": null,
            "object_fit": null,
            "grid_auto_columns": null,
            "margin": null,
            "display": null,
            "left": null
          }
        },
        "cfaaa2f7351f485aa7f1391d3c43c82b": {
          "model_module": "@jupyter-widgets/controls",
          "model_name": "FloatProgressModel",
          "state": {
            "_view_name": "ProgressView",
            "style": "IPY_MODEL_46c5d5522a5548eab1212a699c336e7f",
            "_dom_classes": [],
            "description": "#0: 100%",
            "_model_name": "FloatProgressModel",
            "bar_style": "success",
            "max": 202,
            "_view_module": "@jupyter-widgets/controls",
            "_model_module_version": "1.5.0",
            "value": 202,
            "_view_count": null,
            "_view_module_version": "1.5.0",
            "orientation": "horizontal",
            "min": 0,
            "description_tooltip": null,
            "_model_module": "@jupyter-widgets/controls",
            "layout": "IPY_MODEL_07ddf07dc8724e268b4ec7dcb8b02f40"
          }
        },
        "1117102e312f49b3ae7b04b8119ce771": {
          "model_module": "@jupyter-widgets/controls",
          "model_name": "HTMLModel",
          "state": {
            "_view_name": "HTMLView",
            "style": "IPY_MODEL_ddda24f83354468fbefc2e498a878cf2",
            "_dom_classes": [],
            "description": "",
            "_model_name": "HTMLModel",
            "placeholder": "​",
            "_view_module": "@jupyter-widgets/controls",
            "_model_module_version": "1.5.0",
            "value": " 202/202 [02:11&lt;00:00,  1.54ex/s]",
            "_view_count": null,
            "_view_module_version": "1.5.0",
            "description_tooltip": null,
            "_model_module": "@jupyter-widgets/controls",
            "layout": "IPY_MODEL_7bb5fd372cc6474aaf45ce41b304509e"
          }
        },
        "46c5d5522a5548eab1212a699c336e7f": {
          "model_module": "@jupyter-widgets/controls",
          "model_name": "ProgressStyleModel",
          "state": {
            "_view_name": "StyleView",
            "_model_name": "ProgressStyleModel",
            "description_width": "initial",
            "_view_module": "@jupyter-widgets/base",
            "_model_module_version": "1.5.0",
            "_view_count": null,
            "_view_module_version": "1.2.0",
            "bar_color": null,
            "_model_module": "@jupyter-widgets/controls"
          }
        },
        "07ddf07dc8724e268b4ec7dcb8b02f40": {
          "model_module": "@jupyter-widgets/base",
          "model_name": "LayoutModel",
          "state": {
            "_view_name": "LayoutView",
            "grid_template_rows": null,
            "right": null,
            "justify_content": null,
            "_view_module": "@jupyter-widgets/base",
            "overflow": null,
            "_model_module_version": "1.2.0",
            "_view_count": null,
            "flex_flow": null,
            "width": null,
            "min_width": null,
            "border": null,
            "align_items": null,
            "bottom": null,
            "_model_module": "@jupyter-widgets/base",
            "top": null,
            "grid_column": null,
            "overflow_y": null,
            "overflow_x": null,
            "grid_auto_flow": null,
            "grid_area": null,
            "grid_template_columns": null,
            "flex": null,
            "_model_name": "LayoutModel",
            "justify_items": null,
            "grid_row": null,
            "max_height": null,
            "align_content": null,
            "visibility": null,
            "align_self": null,
            "height": null,
            "min_height": null,
            "padding": null,
            "grid_auto_rows": null,
            "grid_gap": null,
            "max_width": null,
            "order": null,
            "_view_module_version": "1.2.0",
            "grid_template_areas": null,
            "object_position": null,
            "object_fit": null,
            "grid_auto_columns": null,
            "margin": null,
            "display": null,
            "left": null
          }
        },
        "ddda24f83354468fbefc2e498a878cf2": {
          "model_module": "@jupyter-widgets/controls",
          "model_name": "DescriptionStyleModel",
          "state": {
            "_view_name": "StyleView",
            "_model_name": "DescriptionStyleModel",
            "description_width": "",
            "_view_module": "@jupyter-widgets/base",
            "_model_module_version": "1.5.0",
            "_view_count": null,
            "_view_module_version": "1.2.0",
            "_model_module": "@jupyter-widgets/controls"
          }
        },
        "7bb5fd372cc6474aaf45ce41b304509e": {
          "model_module": "@jupyter-widgets/base",
          "model_name": "LayoutModel",
          "state": {
            "_view_name": "LayoutView",
            "grid_template_rows": null,
            "right": null,
            "justify_content": null,
            "_view_module": "@jupyter-widgets/base",
            "overflow": null,
            "_model_module_version": "1.2.0",
            "_view_count": null,
            "flex_flow": null,
            "width": null,
            "min_width": null,
            "border": null,
            "align_items": null,
            "bottom": null,
            "_model_module": "@jupyter-widgets/base",
            "top": null,
            "grid_column": null,
            "overflow_y": null,
            "overflow_x": null,
            "grid_auto_flow": null,
            "grid_area": null,
            "grid_template_columns": null,
            "flex": null,
            "_model_name": "LayoutModel",
            "justify_items": null,
            "grid_row": null,
            "max_height": null,
            "align_content": null,
            "visibility": null,
            "align_self": null,
            "height": null,
            "min_height": null,
            "padding": null,
            "grid_auto_rows": null,
            "grid_gap": null,
            "max_width": null,
            "order": null,
            "_view_module_version": "1.2.0",
            "grid_template_areas": null,
            "object_position": null,
            "object_fit": null,
            "grid_auto_columns": null,
            "margin": null,
            "display": null,
            "left": null
          }
        },
        "ad5e398d24cd48c1ae73e270e4c212b6": {
          "model_module": "@jupyter-widgets/controls",
          "model_name": "HBoxModel",
          "state": {
            "_view_name": "HBoxView",
            "_dom_classes": [],
            "_model_name": "HBoxModel",
            "_view_module": "@jupyter-widgets/controls",
            "_model_module_version": "1.5.0",
            "_view_count": null,
            "_view_module_version": "1.5.0",
            "box_style": "",
            "layout": "IPY_MODEL_91a5ea5eefbd47bf98b0dcc1323c01dd",
            "_model_module": "@jupyter-widgets/controls",
            "children": [
              "IPY_MODEL_17e2314cecb94fa893f7465fb69a6e09",
              "IPY_MODEL_f2c12cfe8b61421cb92ad7f3ab486f14"
            ]
          }
        },
        "91a5ea5eefbd47bf98b0dcc1323c01dd": {
          "model_module": "@jupyter-widgets/base",
          "model_name": "LayoutModel",
          "state": {
            "_view_name": "LayoutView",
            "grid_template_rows": null,
            "right": null,
            "justify_content": null,
            "_view_module": "@jupyter-widgets/base",
            "overflow": null,
            "_model_module_version": "1.2.0",
            "_view_count": null,
            "flex_flow": null,
            "width": null,
            "min_width": null,
            "border": null,
            "align_items": null,
            "bottom": null,
            "_model_module": "@jupyter-widgets/base",
            "top": null,
            "grid_column": null,
            "overflow_y": null,
            "overflow_x": null,
            "grid_auto_flow": null,
            "grid_area": null,
            "grid_template_columns": null,
            "flex": null,
            "_model_name": "LayoutModel",
            "justify_items": null,
            "grid_row": null,
            "max_height": null,
            "align_content": null,
            "visibility": null,
            "align_self": null,
            "height": null,
            "min_height": null,
            "padding": null,
            "grid_auto_rows": null,
            "grid_gap": null,
            "max_width": null,
            "order": null,
            "_view_module_version": "1.2.0",
            "grid_template_areas": null,
            "object_position": null,
            "object_fit": null,
            "grid_auto_columns": null,
            "margin": null,
            "display": null,
            "left": null
          }
        },
        "17e2314cecb94fa893f7465fb69a6e09": {
          "model_module": "@jupyter-widgets/controls",
          "model_name": "FloatProgressModel",
          "state": {
            "_view_name": "ProgressView",
            "style": "IPY_MODEL_30e287dfa15a445d958765448a4c749c",
            "_dom_classes": [],
            "description": "#2: 100%",
            "_model_name": "FloatProgressModel",
            "bar_style": "success",
            "max": 202,
            "_view_module": "@jupyter-widgets/controls",
            "_model_module_version": "1.5.0",
            "value": 202,
            "_view_count": null,
            "_view_module_version": "1.5.0",
            "orientation": "horizontal",
            "min": 0,
            "description_tooltip": null,
            "_model_module": "@jupyter-widgets/controls",
            "layout": "IPY_MODEL_8ee1bc2659f6416e93e083f79b697c5b"
          }
        },
        "f2c12cfe8b61421cb92ad7f3ab486f14": {
          "model_module": "@jupyter-widgets/controls",
          "model_name": "HTMLModel",
          "state": {
            "_view_name": "HTMLView",
            "style": "IPY_MODEL_63822aa8f7c9492f878786fe3ea70c6c",
            "_dom_classes": [],
            "description": "",
            "_model_name": "HTMLModel",
            "placeholder": "​",
            "_view_module": "@jupyter-widgets/controls",
            "_model_module_version": "1.5.0",
            "value": " 202/202 [02:14&lt;00:00,  1.50ex/s]",
            "_view_count": null,
            "_view_module_version": "1.5.0",
            "description_tooltip": null,
            "_model_module": "@jupyter-widgets/controls",
            "layout": "IPY_MODEL_407d5acf1eeb4dfb8ff32a255dd610bd"
          }
        },
        "30e287dfa15a445d958765448a4c749c": {
          "model_module": "@jupyter-widgets/controls",
          "model_name": "ProgressStyleModel",
          "state": {
            "_view_name": "StyleView",
            "_model_name": "ProgressStyleModel",
            "description_width": "initial",
            "_view_module": "@jupyter-widgets/base",
            "_model_module_version": "1.5.0",
            "_view_count": null,
            "_view_module_version": "1.2.0",
            "bar_color": null,
            "_model_module": "@jupyter-widgets/controls"
          }
        },
        "8ee1bc2659f6416e93e083f79b697c5b": {
          "model_module": "@jupyter-widgets/base",
          "model_name": "LayoutModel",
          "state": {
            "_view_name": "LayoutView",
            "grid_template_rows": null,
            "right": null,
            "justify_content": null,
            "_view_module": "@jupyter-widgets/base",
            "overflow": null,
            "_model_module_version": "1.2.0",
            "_view_count": null,
            "flex_flow": null,
            "width": null,
            "min_width": null,
            "border": null,
            "align_items": null,
            "bottom": null,
            "_model_module": "@jupyter-widgets/base",
            "top": null,
            "grid_column": null,
            "overflow_y": null,
            "overflow_x": null,
            "grid_auto_flow": null,
            "grid_area": null,
            "grid_template_columns": null,
            "flex": null,
            "_model_name": "LayoutModel",
            "justify_items": null,
            "grid_row": null,
            "max_height": null,
            "align_content": null,
            "visibility": null,
            "align_self": null,
            "height": null,
            "min_height": null,
            "padding": null,
            "grid_auto_rows": null,
            "grid_gap": null,
            "max_width": null,
            "order": null,
            "_view_module_version": "1.2.0",
            "grid_template_areas": null,
            "object_position": null,
            "object_fit": null,
            "grid_auto_columns": null,
            "margin": null,
            "display": null,
            "left": null
          }
        },
        "63822aa8f7c9492f878786fe3ea70c6c": {
          "model_module": "@jupyter-widgets/controls",
          "model_name": "DescriptionStyleModel",
          "state": {
            "_view_name": "StyleView",
            "_model_name": "DescriptionStyleModel",
            "description_width": "",
            "_view_module": "@jupyter-widgets/base",
            "_model_module_version": "1.5.0",
            "_view_count": null,
            "_view_module_version": "1.2.0",
            "_model_module": "@jupyter-widgets/controls"
          }
        },
        "407d5acf1eeb4dfb8ff32a255dd610bd": {
          "model_module": "@jupyter-widgets/base",
          "model_name": "LayoutModel",
          "state": {
            "_view_name": "LayoutView",
            "grid_template_rows": null,
            "right": null,
            "justify_content": null,
            "_view_module": "@jupyter-widgets/base",
            "overflow": null,
            "_model_module_version": "1.2.0",
            "_view_count": null,
            "flex_flow": null,
            "width": null,
            "min_width": null,
            "border": null,
            "align_items": null,
            "bottom": null,
            "_model_module": "@jupyter-widgets/base",
            "top": null,
            "grid_column": null,
            "overflow_y": null,
            "overflow_x": null,
            "grid_auto_flow": null,
            "grid_area": null,
            "grid_template_columns": null,
            "flex": null,
            "_model_name": "LayoutModel",
            "justify_items": null,
            "grid_row": null,
            "max_height": null,
            "align_content": null,
            "visibility": null,
            "align_self": null,
            "height": null,
            "min_height": null,
            "padding": null,
            "grid_auto_rows": null,
            "grid_gap": null,
            "max_width": null,
            "order": null,
            "_view_module_version": "1.2.0",
            "grid_template_areas": null,
            "object_position": null,
            "object_fit": null,
            "grid_auto_columns": null,
            "margin": null,
            "display": null,
            "left": null
          }
        },
        "382f68147e174d5ead03023959073b13": {
          "model_module": "@jupyter-widgets/controls",
          "model_name": "HBoxModel",
          "state": {
            "_view_name": "HBoxView",
            "_dom_classes": [],
            "_model_name": "HBoxModel",
            "_view_module": "@jupyter-widgets/controls",
            "_model_module_version": "1.5.0",
            "_view_count": null,
            "_view_module_version": "1.5.0",
            "box_style": "",
            "layout": "IPY_MODEL_01711f8e146649f7a9c005aed826b8cd",
            "_model_module": "@jupyter-widgets/controls",
            "children": [
              "IPY_MODEL_943081c77b124853847fefa0a69556ce",
              "IPY_MODEL_7d94ac6a1f2f423e8a8cbdf5bdfea2e1"
            ]
          }
        },
        "01711f8e146649f7a9c005aed826b8cd": {
          "model_module": "@jupyter-widgets/base",
          "model_name": "LayoutModel",
          "state": {
            "_view_name": "LayoutView",
            "grid_template_rows": null,
            "right": null,
            "justify_content": null,
            "_view_module": "@jupyter-widgets/base",
            "overflow": null,
            "_model_module_version": "1.2.0",
            "_view_count": null,
            "flex_flow": null,
            "width": null,
            "min_width": null,
            "border": null,
            "align_items": null,
            "bottom": null,
            "_model_module": "@jupyter-widgets/base",
            "top": null,
            "grid_column": null,
            "overflow_y": null,
            "overflow_x": null,
            "grid_auto_flow": null,
            "grid_area": null,
            "grid_template_columns": null,
            "flex": null,
            "_model_name": "LayoutModel",
            "justify_items": null,
            "grid_row": null,
            "max_height": null,
            "align_content": null,
            "visibility": null,
            "align_self": null,
            "height": null,
            "min_height": null,
            "padding": null,
            "grid_auto_rows": null,
            "grid_gap": null,
            "max_width": null,
            "order": null,
            "_view_module_version": "1.2.0",
            "grid_template_areas": null,
            "object_position": null,
            "object_fit": null,
            "grid_auto_columns": null,
            "margin": null,
            "display": null,
            "left": null
          }
        },
        "943081c77b124853847fefa0a69556ce": {
          "model_module": "@jupyter-widgets/controls",
          "model_name": "FloatProgressModel",
          "state": {
            "_view_name": "ProgressView",
            "style": "IPY_MODEL_52f3bb03f4ee4f2c9207e912f75d3009",
            "_dom_classes": [],
            "description": "#3: 100%",
            "_model_name": "FloatProgressModel",
            "bar_style": "success",
            "max": 202,
            "_view_module": "@jupyter-widgets/controls",
            "_model_module_version": "1.5.0",
            "value": 202,
            "_view_count": null,
            "_view_module_version": "1.5.0",
            "orientation": "horizontal",
            "min": 0,
            "description_tooltip": null,
            "_model_module": "@jupyter-widgets/controls",
            "layout": "IPY_MODEL_4d2dbddb5fd44bb49b16b2a2a3c099da"
          }
        },
        "7d94ac6a1f2f423e8a8cbdf5bdfea2e1": {
          "model_module": "@jupyter-widgets/controls",
          "model_name": "HTMLModel",
          "state": {
            "_view_name": "HTMLView",
            "style": "IPY_MODEL_919882d5f4394394845080abfd177b7c",
            "_dom_classes": [],
            "description": "",
            "_model_name": "HTMLModel",
            "placeholder": "​",
            "_view_module": "@jupyter-widgets/controls",
            "_model_module_version": "1.5.0",
            "value": " 202/202 [02:20&lt;00:00,  1.43ex/s]",
            "_view_count": null,
            "_view_module_version": "1.5.0",
            "description_tooltip": null,
            "_model_module": "@jupyter-widgets/controls",
            "layout": "IPY_MODEL_10f674a6250c458287c3d999b1b95d95"
          }
        },
        "52f3bb03f4ee4f2c9207e912f75d3009": {
          "model_module": "@jupyter-widgets/controls",
          "model_name": "ProgressStyleModel",
          "state": {
            "_view_name": "StyleView",
            "_model_name": "ProgressStyleModel",
            "description_width": "initial",
            "_view_module": "@jupyter-widgets/base",
            "_model_module_version": "1.5.0",
            "_view_count": null,
            "_view_module_version": "1.2.0",
            "bar_color": null,
            "_model_module": "@jupyter-widgets/controls"
          }
        },
        "4d2dbddb5fd44bb49b16b2a2a3c099da": {
          "model_module": "@jupyter-widgets/base",
          "model_name": "LayoutModel",
          "state": {
            "_view_name": "LayoutView",
            "grid_template_rows": null,
            "right": null,
            "justify_content": null,
            "_view_module": "@jupyter-widgets/base",
            "overflow": null,
            "_model_module_version": "1.2.0",
            "_view_count": null,
            "flex_flow": null,
            "width": null,
            "min_width": null,
            "border": null,
            "align_items": null,
            "bottom": null,
            "_model_module": "@jupyter-widgets/base",
            "top": null,
            "grid_column": null,
            "overflow_y": null,
            "overflow_x": null,
            "grid_auto_flow": null,
            "grid_area": null,
            "grid_template_columns": null,
            "flex": null,
            "_model_name": "LayoutModel",
            "justify_items": null,
            "grid_row": null,
            "max_height": null,
            "align_content": null,
            "visibility": null,
            "align_self": null,
            "height": null,
            "min_height": null,
            "padding": null,
            "grid_auto_rows": null,
            "grid_gap": null,
            "max_width": null,
            "order": null,
            "_view_module_version": "1.2.0",
            "grid_template_areas": null,
            "object_position": null,
            "object_fit": null,
            "grid_auto_columns": null,
            "margin": null,
            "display": null,
            "left": null
          }
        },
        "919882d5f4394394845080abfd177b7c": {
          "model_module": "@jupyter-widgets/controls",
          "model_name": "DescriptionStyleModel",
          "state": {
            "_view_name": "StyleView",
            "_model_name": "DescriptionStyleModel",
            "description_width": "",
            "_view_module": "@jupyter-widgets/base",
            "_model_module_version": "1.5.0",
            "_view_count": null,
            "_view_module_version": "1.2.0",
            "_model_module": "@jupyter-widgets/controls"
          }
        },
        "10f674a6250c458287c3d999b1b95d95": {
          "model_module": "@jupyter-widgets/base",
          "model_name": "LayoutModel",
          "state": {
            "_view_name": "LayoutView",
            "grid_template_rows": null,
            "right": null,
            "justify_content": null,
            "_view_module": "@jupyter-widgets/base",
            "overflow": null,
            "_model_module_version": "1.2.0",
            "_view_count": null,
            "flex_flow": null,
            "width": null,
            "min_width": null,
            "border": null,
            "align_items": null,
            "bottom": null,
            "_model_module": "@jupyter-widgets/base",
            "top": null,
            "grid_column": null,
            "overflow_y": null,
            "overflow_x": null,
            "grid_auto_flow": null,
            "grid_area": null,
            "grid_template_columns": null,
            "flex": null,
            "_model_name": "LayoutModel",
            "justify_items": null,
            "grid_row": null,
            "max_height": null,
            "align_content": null,
            "visibility": null,
            "align_self": null,
            "height": null,
            "min_height": null,
            "padding": null,
            "grid_auto_rows": null,
            "grid_gap": null,
            "max_width": null,
            "order": null,
            "_view_module_version": "1.2.0",
            "grid_template_areas": null,
            "object_position": null,
            "object_fit": null,
            "grid_auto_columns": null,
            "margin": null,
            "display": null,
            "left": null
          }
        },
        "e58bffa0cc6947bea3bbdfe6f4f5a687": {
          "model_module": "@jupyter-widgets/controls",
          "model_name": "HBoxModel",
          "state": {
            "_view_name": "HBoxView",
            "_dom_classes": [],
            "_model_name": "HBoxModel",
            "_view_module": "@jupyter-widgets/controls",
            "_model_module_version": "1.5.0",
            "_view_count": null,
            "_view_module_version": "1.5.0",
            "box_style": "",
            "layout": "IPY_MODEL_1611e8763d8a49818d30eda48ac9a473",
            "_model_module": "@jupyter-widgets/controls",
            "children": [
              "IPY_MODEL_4b281b09684a4173b3f360d2507339bb",
              "IPY_MODEL_39ae602bbb864f2f86d2e310b79d5f3d"
            ]
          }
        },
        "1611e8763d8a49818d30eda48ac9a473": {
          "model_module": "@jupyter-widgets/base",
          "model_name": "LayoutModel",
          "state": {
            "_view_name": "LayoutView",
            "grid_template_rows": null,
            "right": null,
            "justify_content": null,
            "_view_module": "@jupyter-widgets/base",
            "overflow": null,
            "_model_module_version": "1.2.0",
            "_view_count": null,
            "flex_flow": null,
            "width": null,
            "min_width": null,
            "border": null,
            "align_items": null,
            "bottom": null,
            "_model_module": "@jupyter-widgets/base",
            "top": null,
            "grid_column": null,
            "overflow_y": null,
            "overflow_x": null,
            "grid_auto_flow": null,
            "grid_area": null,
            "grid_template_columns": null,
            "flex": null,
            "_model_name": "LayoutModel",
            "justify_items": null,
            "grid_row": null,
            "max_height": null,
            "align_content": null,
            "visibility": null,
            "align_self": null,
            "height": null,
            "min_height": null,
            "padding": null,
            "grid_auto_rows": null,
            "grid_gap": null,
            "max_width": null,
            "order": null,
            "_view_module_version": "1.2.0",
            "grid_template_areas": null,
            "object_position": null,
            "object_fit": null,
            "grid_auto_columns": null,
            "margin": null,
            "display": null,
            "left": null
          }
        },
        "4b281b09684a4173b3f360d2507339bb": {
          "model_module": "@jupyter-widgets/controls",
          "model_name": "FloatProgressModel",
          "state": {
            "_view_name": "ProgressView",
            "style": "IPY_MODEL_1c59d650e4aa464bad42b9fb679d1b8a",
            "_dom_classes": [],
            "description": "#1: 100%",
            "_model_name": "FloatProgressModel",
            "bar_style": "success",
            "max": 202,
            "_view_module": "@jupyter-widgets/controls",
            "_model_module_version": "1.5.0",
            "value": 202,
            "_view_count": null,
            "_view_module_version": "1.5.0",
            "orientation": "horizontal",
            "min": 0,
            "description_tooltip": null,
            "_model_module": "@jupyter-widgets/controls",
            "layout": "IPY_MODEL_fe1f5782cc134178aef5a4b31b6ba34c"
          }
        },
        "39ae602bbb864f2f86d2e310b79d5f3d": {
          "model_module": "@jupyter-widgets/controls",
          "model_name": "HTMLModel",
          "state": {
            "_view_name": "HTMLView",
            "style": "IPY_MODEL_ba96fd5674db4051af52892006f78d1e",
            "_dom_classes": [],
            "description": "",
            "_model_name": "HTMLModel",
            "placeholder": "​",
            "_view_module": "@jupyter-widgets/controls",
            "_model_module_version": "1.5.0",
            "value": " 202/202 [02:09&lt;00:00,  1.56ex/s]",
            "_view_count": null,
            "_view_module_version": "1.5.0",
            "description_tooltip": null,
            "_model_module": "@jupyter-widgets/controls",
            "layout": "IPY_MODEL_efe5c009fca14b35b447a2ba49306714"
          }
        },
        "1c59d650e4aa464bad42b9fb679d1b8a": {
          "model_module": "@jupyter-widgets/controls",
          "model_name": "ProgressStyleModel",
          "state": {
            "_view_name": "StyleView",
            "_model_name": "ProgressStyleModel",
            "description_width": "initial",
            "_view_module": "@jupyter-widgets/base",
            "_model_module_version": "1.5.0",
            "_view_count": null,
            "_view_module_version": "1.2.0",
            "bar_color": null,
            "_model_module": "@jupyter-widgets/controls"
          }
        },
        "fe1f5782cc134178aef5a4b31b6ba34c": {
          "model_module": "@jupyter-widgets/base",
          "model_name": "LayoutModel",
          "state": {
            "_view_name": "LayoutView",
            "grid_template_rows": null,
            "right": null,
            "justify_content": null,
            "_view_module": "@jupyter-widgets/base",
            "overflow": null,
            "_model_module_version": "1.2.0",
            "_view_count": null,
            "flex_flow": null,
            "width": null,
            "min_width": null,
            "border": null,
            "align_items": null,
            "bottom": null,
            "_model_module": "@jupyter-widgets/base",
            "top": null,
            "grid_column": null,
            "overflow_y": null,
            "overflow_x": null,
            "grid_auto_flow": null,
            "grid_area": null,
            "grid_template_columns": null,
            "flex": null,
            "_model_name": "LayoutModel",
            "justify_items": null,
            "grid_row": null,
            "max_height": null,
            "align_content": null,
            "visibility": null,
            "align_self": null,
            "height": null,
            "min_height": null,
            "padding": null,
            "grid_auto_rows": null,
            "grid_gap": null,
            "max_width": null,
            "order": null,
            "_view_module_version": "1.2.0",
            "grid_template_areas": null,
            "object_position": null,
            "object_fit": null,
            "grid_auto_columns": null,
            "margin": null,
            "display": null,
            "left": null
          }
        },
        "ba96fd5674db4051af52892006f78d1e": {
          "model_module": "@jupyter-widgets/controls",
          "model_name": "DescriptionStyleModel",
          "state": {
            "_view_name": "StyleView",
            "_model_name": "DescriptionStyleModel",
            "description_width": "",
            "_view_module": "@jupyter-widgets/base",
            "_model_module_version": "1.5.0",
            "_view_count": null,
            "_view_module_version": "1.2.0",
            "_model_module": "@jupyter-widgets/controls"
          }
        },
        "efe5c009fca14b35b447a2ba49306714": {
          "model_module": "@jupyter-widgets/base",
          "model_name": "LayoutModel",
          "state": {
            "_view_name": "LayoutView",
            "grid_template_rows": null,
            "right": null,
            "justify_content": null,
            "_view_module": "@jupyter-widgets/base",
            "overflow": null,
            "_model_module_version": "1.2.0",
            "_view_count": null,
            "flex_flow": null,
            "width": null,
            "min_width": null,
            "border": null,
            "align_items": null,
            "bottom": null,
            "_model_module": "@jupyter-widgets/base",
            "top": null,
            "grid_column": null,
            "overflow_y": null,
            "overflow_x": null,
            "grid_auto_flow": null,
            "grid_area": null,
            "grid_template_columns": null,
            "flex": null,
            "_model_name": "LayoutModel",
            "justify_items": null,
            "grid_row": null,
            "max_height": null,
            "align_content": null,
            "visibility": null,
            "align_self": null,
            "height": null,
            "min_height": null,
            "padding": null,
            "grid_auto_rows": null,
            "grid_gap": null,
            "max_width": null,
            "order": null,
            "_view_module_version": "1.2.0",
            "grid_template_areas": null,
            "object_position": null,
            "object_fit": null,
            "grid_auto_columns": null,
            "margin": null,
            "display": null,
            "left": null
          }
        },
        "5b789a31a3844c098b2693c07f3cee6a": {
          "model_module": "@jupyter-widgets/controls",
          "model_name": "HBoxModel",
          "state": {
            "_view_name": "HBoxView",
            "_dom_classes": [],
            "_model_name": "HBoxModel",
            "_view_module": "@jupyter-widgets/controls",
            "_model_module_version": "1.5.0",
            "_view_count": null,
            "_view_module_version": "1.5.0",
            "box_style": "",
            "layout": "IPY_MODEL_b0cbbf334e814da5a9eda52801dfe8ae",
            "_model_module": "@jupyter-widgets/controls",
            "children": [
              "IPY_MODEL_f403d2ed57184bc5b199b821a4c02224",
              "IPY_MODEL_6a652875ff944bb292ad6057b68478e2"
            ]
          }
        },
        "b0cbbf334e814da5a9eda52801dfe8ae": {
          "model_module": "@jupyter-widgets/base",
          "model_name": "LayoutModel",
          "state": {
            "_view_name": "LayoutView",
            "grid_template_rows": null,
            "right": null,
            "justify_content": null,
            "_view_module": "@jupyter-widgets/base",
            "overflow": null,
            "_model_module_version": "1.2.0",
            "_view_count": null,
            "flex_flow": null,
            "width": null,
            "min_width": null,
            "border": null,
            "align_items": null,
            "bottom": null,
            "_model_module": "@jupyter-widgets/base",
            "top": null,
            "grid_column": null,
            "overflow_y": null,
            "overflow_x": null,
            "grid_auto_flow": null,
            "grid_area": null,
            "grid_template_columns": null,
            "flex": null,
            "_model_name": "LayoutModel",
            "justify_items": null,
            "grid_row": null,
            "max_height": null,
            "align_content": null,
            "visibility": null,
            "align_self": null,
            "height": null,
            "min_height": null,
            "padding": null,
            "grid_auto_rows": null,
            "grid_gap": null,
            "max_width": null,
            "order": null,
            "_view_module_version": "1.2.0",
            "grid_template_areas": null,
            "object_position": null,
            "object_fit": null,
            "grid_auto_columns": null,
            "margin": null,
            "display": null,
            "left": null
          }
        },
        "f403d2ed57184bc5b199b821a4c02224": {
          "model_module": "@jupyter-widgets/controls",
          "model_name": "FloatProgressModel",
          "state": {
            "_view_name": "ProgressView",
            "style": "IPY_MODEL_f39b4542590048b49d0e3e9e7fce980c",
            "_dom_classes": [],
            "description": "#2: 100%",
            "_model_name": "FloatProgressModel",
            "bar_style": "success",
            "max": 26,
            "_view_module": "@jupyter-widgets/controls",
            "_model_module_version": "1.5.0",
            "value": 26,
            "_view_count": null,
            "_view_module_version": "1.5.0",
            "orientation": "horizontal",
            "min": 0,
            "description_tooltip": null,
            "_model_module": "@jupyter-widgets/controls",
            "layout": "IPY_MODEL_46601e8d197a466ebb4038568db75af6"
          }
        },
        "6a652875ff944bb292ad6057b68478e2": {
          "model_module": "@jupyter-widgets/controls",
          "model_name": "HTMLModel",
          "state": {
            "_view_name": "HTMLView",
            "style": "IPY_MODEL_875c6fc00af94d849b8d19f13562de0d",
            "_dom_classes": [],
            "description": "",
            "_model_name": "HTMLModel",
            "placeholder": "​",
            "_view_module": "@jupyter-widgets/controls",
            "_model_module_version": "1.5.0",
            "value": " 26/26 [00:23&lt;00:00,  1.10ba/s]",
            "_view_count": null,
            "_view_module_version": "1.5.0",
            "description_tooltip": null,
            "_model_module": "@jupyter-widgets/controls",
            "layout": "IPY_MODEL_98c41b4ae582477baff759d0f1d84e3b"
          }
        },
        "f39b4542590048b49d0e3e9e7fce980c": {
          "model_module": "@jupyter-widgets/controls",
          "model_name": "ProgressStyleModel",
          "state": {
            "_view_name": "StyleView",
            "_model_name": "ProgressStyleModel",
            "description_width": "initial",
            "_view_module": "@jupyter-widgets/base",
            "_model_module_version": "1.5.0",
            "_view_count": null,
            "_view_module_version": "1.2.0",
            "bar_color": null,
            "_model_module": "@jupyter-widgets/controls"
          }
        },
        "46601e8d197a466ebb4038568db75af6": {
          "model_module": "@jupyter-widgets/base",
          "model_name": "LayoutModel",
          "state": {
            "_view_name": "LayoutView",
            "grid_template_rows": null,
            "right": null,
            "justify_content": null,
            "_view_module": "@jupyter-widgets/base",
            "overflow": null,
            "_model_module_version": "1.2.0",
            "_view_count": null,
            "flex_flow": null,
            "width": null,
            "min_width": null,
            "border": null,
            "align_items": null,
            "bottom": null,
            "_model_module": "@jupyter-widgets/base",
            "top": null,
            "grid_column": null,
            "overflow_y": null,
            "overflow_x": null,
            "grid_auto_flow": null,
            "grid_area": null,
            "grid_template_columns": null,
            "flex": null,
            "_model_name": "LayoutModel",
            "justify_items": null,
            "grid_row": null,
            "max_height": null,
            "align_content": null,
            "visibility": null,
            "align_self": null,
            "height": null,
            "min_height": null,
            "padding": null,
            "grid_auto_rows": null,
            "grid_gap": null,
            "max_width": null,
            "order": null,
            "_view_module_version": "1.2.0",
            "grid_template_areas": null,
            "object_position": null,
            "object_fit": null,
            "grid_auto_columns": null,
            "margin": null,
            "display": null,
            "left": null
          }
        },
        "875c6fc00af94d849b8d19f13562de0d": {
          "model_module": "@jupyter-widgets/controls",
          "model_name": "DescriptionStyleModel",
          "state": {
            "_view_name": "StyleView",
            "_model_name": "DescriptionStyleModel",
            "description_width": "",
            "_view_module": "@jupyter-widgets/base",
            "_model_module_version": "1.5.0",
            "_view_count": null,
            "_view_module_version": "1.2.0",
            "_model_module": "@jupyter-widgets/controls"
          }
        },
        "98c41b4ae582477baff759d0f1d84e3b": {
          "model_module": "@jupyter-widgets/base",
          "model_name": "LayoutModel",
          "state": {
            "_view_name": "LayoutView",
            "grid_template_rows": null,
            "right": null,
            "justify_content": null,
            "_view_module": "@jupyter-widgets/base",
            "overflow": null,
            "_model_module_version": "1.2.0",
            "_view_count": null,
            "flex_flow": null,
            "width": null,
            "min_width": null,
            "border": null,
            "align_items": null,
            "bottom": null,
            "_model_module": "@jupyter-widgets/base",
            "top": null,
            "grid_column": null,
            "overflow_y": null,
            "overflow_x": null,
            "grid_auto_flow": null,
            "grid_area": null,
            "grid_template_columns": null,
            "flex": null,
            "_model_name": "LayoutModel",
            "justify_items": null,
            "grid_row": null,
            "max_height": null,
            "align_content": null,
            "visibility": null,
            "align_self": null,
            "height": null,
            "min_height": null,
            "padding": null,
            "grid_auto_rows": null,
            "grid_gap": null,
            "max_width": null,
            "order": null,
            "_view_module_version": "1.2.0",
            "grid_template_areas": null,
            "object_position": null,
            "object_fit": null,
            "grid_auto_columns": null,
            "margin": null,
            "display": null,
            "left": null
          }
        },
        "6b2f4485671245c6ba523dc73e4f55eb": {
          "model_module": "@jupyter-widgets/controls",
          "model_name": "HBoxModel",
          "state": {
            "_view_name": "HBoxView",
            "_dom_classes": [],
            "_model_name": "HBoxModel",
            "_view_module": "@jupyter-widgets/controls",
            "_model_module_version": "1.5.0",
            "_view_count": null,
            "_view_module_version": "1.5.0",
            "box_style": "",
            "layout": "IPY_MODEL_77b569e2386f4cb49d10ebd83bc1ea8c",
            "_model_module": "@jupyter-widgets/controls",
            "children": [
              "IPY_MODEL_6e59f84f3e824923a8c2297a20f0032c",
              "IPY_MODEL_1e88956c48704458a2fdd09d6e8e035c"
            ]
          }
        },
        "77b569e2386f4cb49d10ebd83bc1ea8c": {
          "model_module": "@jupyter-widgets/base",
          "model_name": "LayoutModel",
          "state": {
            "_view_name": "LayoutView",
            "grid_template_rows": null,
            "right": null,
            "justify_content": null,
            "_view_module": "@jupyter-widgets/base",
            "overflow": null,
            "_model_module_version": "1.2.0",
            "_view_count": null,
            "flex_flow": null,
            "width": null,
            "min_width": null,
            "border": null,
            "align_items": null,
            "bottom": null,
            "_model_module": "@jupyter-widgets/base",
            "top": null,
            "grid_column": null,
            "overflow_y": null,
            "overflow_x": null,
            "grid_auto_flow": null,
            "grid_area": null,
            "grid_template_columns": null,
            "flex": null,
            "_model_name": "LayoutModel",
            "justify_items": null,
            "grid_row": null,
            "max_height": null,
            "align_content": null,
            "visibility": null,
            "align_self": null,
            "height": null,
            "min_height": null,
            "padding": null,
            "grid_auto_rows": null,
            "grid_gap": null,
            "max_width": null,
            "order": null,
            "_view_module_version": "1.2.0",
            "grid_template_areas": null,
            "object_position": null,
            "object_fit": null,
            "grid_auto_columns": null,
            "margin": null,
            "display": null,
            "left": null
          }
        },
        "6e59f84f3e824923a8c2297a20f0032c": {
          "model_module": "@jupyter-widgets/controls",
          "model_name": "FloatProgressModel",
          "state": {
            "_view_name": "ProgressView",
            "style": "IPY_MODEL_eeec742f892d43fa91ef4a7eaa3400fd",
            "_dom_classes": [],
            "description": "#0: 100%",
            "_model_name": "FloatProgressModel",
            "bar_style": "success",
            "max": 26,
            "_view_module": "@jupyter-widgets/controls",
            "_model_module_version": "1.5.0",
            "value": 26,
            "_view_count": null,
            "_view_module_version": "1.5.0",
            "orientation": "horizontal",
            "min": 0,
            "description_tooltip": null,
            "_model_module": "@jupyter-widgets/controls",
            "layout": "IPY_MODEL_d6410370c5cd48d78810dbf1a29f7891"
          }
        },
        "1e88956c48704458a2fdd09d6e8e035c": {
          "model_module": "@jupyter-widgets/controls",
          "model_name": "HTMLModel",
          "state": {
            "_view_name": "HTMLView",
            "style": "IPY_MODEL_2943c0f367954bfaacc7be7677beb978",
            "_dom_classes": [],
            "description": "",
            "_model_name": "HTMLModel",
            "placeholder": "​",
            "_view_module": "@jupyter-widgets/controls",
            "_model_module_version": "1.5.0",
            "value": " 26/26 [00:23&lt;00:00,  1.13ba/s]",
            "_view_count": null,
            "_view_module_version": "1.5.0",
            "description_tooltip": null,
            "_model_module": "@jupyter-widgets/controls",
            "layout": "IPY_MODEL_2c428b1ecc2a4d46a5150818f1bbe9a7"
          }
        },
        "eeec742f892d43fa91ef4a7eaa3400fd": {
          "model_module": "@jupyter-widgets/controls",
          "model_name": "ProgressStyleModel",
          "state": {
            "_view_name": "StyleView",
            "_model_name": "ProgressStyleModel",
            "description_width": "initial",
            "_view_module": "@jupyter-widgets/base",
            "_model_module_version": "1.5.0",
            "_view_count": null,
            "_view_module_version": "1.2.0",
            "bar_color": null,
            "_model_module": "@jupyter-widgets/controls"
          }
        },
        "d6410370c5cd48d78810dbf1a29f7891": {
          "model_module": "@jupyter-widgets/base",
          "model_name": "LayoutModel",
          "state": {
            "_view_name": "LayoutView",
            "grid_template_rows": null,
            "right": null,
            "justify_content": null,
            "_view_module": "@jupyter-widgets/base",
            "overflow": null,
            "_model_module_version": "1.2.0",
            "_view_count": null,
            "flex_flow": null,
            "width": null,
            "min_width": null,
            "border": null,
            "align_items": null,
            "bottom": null,
            "_model_module": "@jupyter-widgets/base",
            "top": null,
            "grid_column": null,
            "overflow_y": null,
            "overflow_x": null,
            "grid_auto_flow": null,
            "grid_area": null,
            "grid_template_columns": null,
            "flex": null,
            "_model_name": "LayoutModel",
            "justify_items": null,
            "grid_row": null,
            "max_height": null,
            "align_content": null,
            "visibility": null,
            "align_self": null,
            "height": null,
            "min_height": null,
            "padding": null,
            "grid_auto_rows": null,
            "grid_gap": null,
            "max_width": null,
            "order": null,
            "_view_module_version": "1.2.0",
            "grid_template_areas": null,
            "object_position": null,
            "object_fit": null,
            "grid_auto_columns": null,
            "margin": null,
            "display": null,
            "left": null
          }
        },
        "2943c0f367954bfaacc7be7677beb978": {
          "model_module": "@jupyter-widgets/controls",
          "model_name": "DescriptionStyleModel",
          "state": {
            "_view_name": "StyleView",
            "_model_name": "DescriptionStyleModel",
            "description_width": "",
            "_view_module": "@jupyter-widgets/base",
            "_model_module_version": "1.5.0",
            "_view_count": null,
            "_view_module_version": "1.2.0",
            "_model_module": "@jupyter-widgets/controls"
          }
        },
        "2c428b1ecc2a4d46a5150818f1bbe9a7": {
          "model_module": "@jupyter-widgets/base",
          "model_name": "LayoutModel",
          "state": {
            "_view_name": "LayoutView",
            "grid_template_rows": null,
            "right": null,
            "justify_content": null,
            "_view_module": "@jupyter-widgets/base",
            "overflow": null,
            "_model_module_version": "1.2.0",
            "_view_count": null,
            "flex_flow": null,
            "width": null,
            "min_width": null,
            "border": null,
            "align_items": null,
            "bottom": null,
            "_model_module": "@jupyter-widgets/base",
            "top": null,
            "grid_column": null,
            "overflow_y": null,
            "overflow_x": null,
            "grid_auto_flow": null,
            "grid_area": null,
            "grid_template_columns": null,
            "flex": null,
            "_model_name": "LayoutModel",
            "justify_items": null,
            "grid_row": null,
            "max_height": null,
            "align_content": null,
            "visibility": null,
            "align_self": null,
            "height": null,
            "min_height": null,
            "padding": null,
            "grid_auto_rows": null,
            "grid_gap": null,
            "max_width": null,
            "order": null,
            "_view_module_version": "1.2.0",
            "grid_template_areas": null,
            "object_position": null,
            "object_fit": null,
            "grid_auto_columns": null,
            "margin": null,
            "display": null,
            "left": null
          }
        },
        "984122310f4d49f59f6078d7ee2615d5": {
          "model_module": "@jupyter-widgets/controls",
          "model_name": "HBoxModel",
          "state": {
            "_view_name": "HBoxView",
            "_dom_classes": [],
            "_model_name": "HBoxModel",
            "_view_module": "@jupyter-widgets/controls",
            "_model_module_version": "1.5.0",
            "_view_count": null,
            "_view_module_version": "1.5.0",
            "box_style": "",
            "layout": "IPY_MODEL_a29096004f674dcea67d89d9f982a905",
            "_model_module": "@jupyter-widgets/controls",
            "children": [
              "IPY_MODEL_df1c9f5c73df4238bba729222d7325b7",
              "IPY_MODEL_84918a25411d45ca8e6e3386ab366010"
            ]
          }
        },
        "a29096004f674dcea67d89d9f982a905": {
          "model_module": "@jupyter-widgets/base",
          "model_name": "LayoutModel",
          "state": {
            "_view_name": "LayoutView",
            "grid_template_rows": null,
            "right": null,
            "justify_content": null,
            "_view_module": "@jupyter-widgets/base",
            "overflow": null,
            "_model_module_version": "1.2.0",
            "_view_count": null,
            "flex_flow": null,
            "width": null,
            "min_width": null,
            "border": null,
            "align_items": null,
            "bottom": null,
            "_model_module": "@jupyter-widgets/base",
            "top": null,
            "grid_column": null,
            "overflow_y": null,
            "overflow_x": null,
            "grid_auto_flow": null,
            "grid_area": null,
            "grid_template_columns": null,
            "flex": null,
            "_model_name": "LayoutModel",
            "justify_items": null,
            "grid_row": null,
            "max_height": null,
            "align_content": null,
            "visibility": null,
            "align_self": null,
            "height": null,
            "min_height": null,
            "padding": null,
            "grid_auto_rows": null,
            "grid_gap": null,
            "max_width": null,
            "order": null,
            "_view_module_version": "1.2.0",
            "grid_template_areas": null,
            "object_position": null,
            "object_fit": null,
            "grid_auto_columns": null,
            "margin": null,
            "display": null,
            "left": null
          }
        },
        "df1c9f5c73df4238bba729222d7325b7": {
          "model_module": "@jupyter-widgets/controls",
          "model_name": "FloatProgressModel",
          "state": {
            "_view_name": "ProgressView",
            "style": "IPY_MODEL_5136a250943443d0ae3dcc553343c42c",
            "_dom_classes": [],
            "description": "#1: 100%",
            "_model_name": "FloatProgressModel",
            "bar_style": "success",
            "max": 26,
            "_view_module": "@jupyter-widgets/controls",
            "_model_module_version": "1.5.0",
            "value": 26,
            "_view_count": null,
            "_view_module_version": "1.5.0",
            "orientation": "horizontal",
            "min": 0,
            "description_tooltip": null,
            "_model_module": "@jupyter-widgets/controls",
            "layout": "IPY_MODEL_94c3b6dfea0d45119c7da0881fc24cc7"
          }
        },
        "84918a25411d45ca8e6e3386ab366010": {
          "model_module": "@jupyter-widgets/controls",
          "model_name": "HTMLModel",
          "state": {
            "_view_name": "HTMLView",
            "style": "IPY_MODEL_a639b863bdda4e12a61b24c47281187a",
            "_dom_classes": [],
            "description": "",
            "_model_name": "HTMLModel",
            "placeholder": "​",
            "_view_module": "@jupyter-widgets/controls",
            "_model_module_version": "1.5.0",
            "value": " 26/26 [00:22&lt;00:00,  1.14ba/s]",
            "_view_count": null,
            "_view_module_version": "1.5.0",
            "description_tooltip": null,
            "_model_module": "@jupyter-widgets/controls",
            "layout": "IPY_MODEL_300ce93f1eed47b39a6ead50144975c6"
          }
        },
        "5136a250943443d0ae3dcc553343c42c": {
          "model_module": "@jupyter-widgets/controls",
          "model_name": "ProgressStyleModel",
          "state": {
            "_view_name": "StyleView",
            "_model_name": "ProgressStyleModel",
            "description_width": "initial",
            "_view_module": "@jupyter-widgets/base",
            "_model_module_version": "1.5.0",
            "_view_count": null,
            "_view_module_version": "1.2.0",
            "bar_color": null,
            "_model_module": "@jupyter-widgets/controls"
          }
        },
        "94c3b6dfea0d45119c7da0881fc24cc7": {
          "model_module": "@jupyter-widgets/base",
          "model_name": "LayoutModel",
          "state": {
            "_view_name": "LayoutView",
            "grid_template_rows": null,
            "right": null,
            "justify_content": null,
            "_view_module": "@jupyter-widgets/base",
            "overflow": null,
            "_model_module_version": "1.2.0",
            "_view_count": null,
            "flex_flow": null,
            "width": null,
            "min_width": null,
            "border": null,
            "align_items": null,
            "bottom": null,
            "_model_module": "@jupyter-widgets/base",
            "top": null,
            "grid_column": null,
            "overflow_y": null,
            "overflow_x": null,
            "grid_auto_flow": null,
            "grid_area": null,
            "grid_template_columns": null,
            "flex": null,
            "_model_name": "LayoutModel",
            "justify_items": null,
            "grid_row": null,
            "max_height": null,
            "align_content": null,
            "visibility": null,
            "align_self": null,
            "height": null,
            "min_height": null,
            "padding": null,
            "grid_auto_rows": null,
            "grid_gap": null,
            "max_width": null,
            "order": null,
            "_view_module_version": "1.2.0",
            "grid_template_areas": null,
            "object_position": null,
            "object_fit": null,
            "grid_auto_columns": null,
            "margin": null,
            "display": null,
            "left": null
          }
        },
        "a639b863bdda4e12a61b24c47281187a": {
          "model_module": "@jupyter-widgets/controls",
          "model_name": "DescriptionStyleModel",
          "state": {
            "_view_name": "StyleView",
            "_model_name": "DescriptionStyleModel",
            "description_width": "",
            "_view_module": "@jupyter-widgets/base",
            "_model_module_version": "1.5.0",
            "_view_count": null,
            "_view_module_version": "1.2.0",
            "_model_module": "@jupyter-widgets/controls"
          }
        },
        "300ce93f1eed47b39a6ead50144975c6": {
          "model_module": "@jupyter-widgets/base",
          "model_name": "LayoutModel",
          "state": {
            "_view_name": "LayoutView",
            "grid_template_rows": null,
            "right": null,
            "justify_content": null,
            "_view_module": "@jupyter-widgets/base",
            "overflow": null,
            "_model_module_version": "1.2.0",
            "_view_count": null,
            "flex_flow": null,
            "width": null,
            "min_width": null,
            "border": null,
            "align_items": null,
            "bottom": null,
            "_model_module": "@jupyter-widgets/base",
            "top": null,
            "grid_column": null,
            "overflow_y": null,
            "overflow_x": null,
            "grid_auto_flow": null,
            "grid_area": null,
            "grid_template_columns": null,
            "flex": null,
            "_model_name": "LayoutModel",
            "justify_items": null,
            "grid_row": null,
            "max_height": null,
            "align_content": null,
            "visibility": null,
            "align_self": null,
            "height": null,
            "min_height": null,
            "padding": null,
            "grid_auto_rows": null,
            "grid_gap": null,
            "max_width": null,
            "order": null,
            "_view_module_version": "1.2.0",
            "grid_template_areas": null,
            "object_position": null,
            "object_fit": null,
            "grid_auto_columns": null,
            "margin": null,
            "display": null,
            "left": null
          }
        },
        "f3e6b5ea58924425a9a268f0a1eaf66e": {
          "model_module": "@jupyter-widgets/controls",
          "model_name": "HBoxModel",
          "state": {
            "_view_name": "HBoxView",
            "_dom_classes": [],
            "_model_name": "HBoxModel",
            "_view_module": "@jupyter-widgets/controls",
            "_model_module_version": "1.5.0",
            "_view_count": null,
            "_view_module_version": "1.5.0",
            "box_style": "",
            "layout": "IPY_MODEL_ecb349fe96a04f3c98fd3dcf5efb15be",
            "_model_module": "@jupyter-widgets/controls",
            "children": [
              "IPY_MODEL_49b3bb9be65544f892d1ebefe5c2a12d",
              "IPY_MODEL_86f3a70fea474f92a290cfbfe474b230"
            ]
          }
        },
        "ecb349fe96a04f3c98fd3dcf5efb15be": {
          "model_module": "@jupyter-widgets/base",
          "model_name": "LayoutModel",
          "state": {
            "_view_name": "LayoutView",
            "grid_template_rows": null,
            "right": null,
            "justify_content": null,
            "_view_module": "@jupyter-widgets/base",
            "overflow": null,
            "_model_module_version": "1.2.0",
            "_view_count": null,
            "flex_flow": null,
            "width": null,
            "min_width": null,
            "border": null,
            "align_items": null,
            "bottom": null,
            "_model_module": "@jupyter-widgets/base",
            "top": null,
            "grid_column": null,
            "overflow_y": null,
            "overflow_x": null,
            "grid_auto_flow": null,
            "grid_area": null,
            "grid_template_columns": null,
            "flex": null,
            "_model_name": "LayoutModel",
            "justify_items": null,
            "grid_row": null,
            "max_height": null,
            "align_content": null,
            "visibility": null,
            "align_self": null,
            "height": null,
            "min_height": null,
            "padding": null,
            "grid_auto_rows": null,
            "grid_gap": null,
            "max_width": null,
            "order": null,
            "_view_module_version": "1.2.0",
            "grid_template_areas": null,
            "object_position": null,
            "object_fit": null,
            "grid_auto_columns": null,
            "margin": null,
            "display": null,
            "left": null
          }
        },
        "49b3bb9be65544f892d1ebefe5c2a12d": {
          "model_module": "@jupyter-widgets/controls",
          "model_name": "FloatProgressModel",
          "state": {
            "_view_name": "ProgressView",
            "style": "IPY_MODEL_05de8063a7394d64816cc9cf5c108d58",
            "_dom_classes": [],
            "description": "#3: 100%",
            "_model_name": "FloatProgressModel",
            "bar_style": "success",
            "max": 26,
            "_view_module": "@jupyter-widgets/controls",
            "_model_module_version": "1.5.0",
            "value": 26,
            "_view_count": null,
            "_view_module_version": "1.5.0",
            "orientation": "horizontal",
            "min": 0,
            "description_tooltip": null,
            "_model_module": "@jupyter-widgets/controls",
            "layout": "IPY_MODEL_d03b2c3c395f49f883b8cfb3e6d16881"
          }
        },
        "86f3a70fea474f92a290cfbfe474b230": {
          "model_module": "@jupyter-widgets/controls",
          "model_name": "HTMLModel",
          "state": {
            "_view_name": "HTMLView",
            "style": "IPY_MODEL_0eab265306eb4cf5b3b954fce56f3126",
            "_dom_classes": [],
            "description": "",
            "_model_name": "HTMLModel",
            "placeholder": "​",
            "_view_module": "@jupyter-widgets/controls",
            "_model_module_version": "1.5.0",
            "value": " 26/26 [00:24&lt;00:00,  1.05ba/s]",
            "_view_count": null,
            "_view_module_version": "1.5.0",
            "description_tooltip": null,
            "_model_module": "@jupyter-widgets/controls",
            "layout": "IPY_MODEL_08f25b703ae841e8840bed0d14064e92"
          }
        },
        "05de8063a7394d64816cc9cf5c108d58": {
          "model_module": "@jupyter-widgets/controls",
          "model_name": "ProgressStyleModel",
          "state": {
            "_view_name": "StyleView",
            "_model_name": "ProgressStyleModel",
            "description_width": "initial",
            "_view_module": "@jupyter-widgets/base",
            "_model_module_version": "1.5.0",
            "_view_count": null,
            "_view_module_version": "1.2.0",
            "bar_color": null,
            "_model_module": "@jupyter-widgets/controls"
          }
        },
        "d03b2c3c395f49f883b8cfb3e6d16881": {
          "model_module": "@jupyter-widgets/base",
          "model_name": "LayoutModel",
          "state": {
            "_view_name": "LayoutView",
            "grid_template_rows": null,
            "right": null,
            "justify_content": null,
            "_view_module": "@jupyter-widgets/base",
            "overflow": null,
            "_model_module_version": "1.2.0",
            "_view_count": null,
            "flex_flow": null,
            "width": null,
            "min_width": null,
            "border": null,
            "align_items": null,
            "bottom": null,
            "_model_module": "@jupyter-widgets/base",
            "top": null,
            "grid_column": null,
            "overflow_y": null,
            "overflow_x": null,
            "grid_auto_flow": null,
            "grid_area": null,
            "grid_template_columns": null,
            "flex": null,
            "_model_name": "LayoutModel",
            "justify_items": null,
            "grid_row": null,
            "max_height": null,
            "align_content": null,
            "visibility": null,
            "align_self": null,
            "height": null,
            "min_height": null,
            "padding": null,
            "grid_auto_rows": null,
            "grid_gap": null,
            "max_width": null,
            "order": null,
            "_view_module_version": "1.2.0",
            "grid_template_areas": null,
            "object_position": null,
            "object_fit": null,
            "grid_auto_columns": null,
            "margin": null,
            "display": null,
            "left": null
          }
        },
        "0eab265306eb4cf5b3b954fce56f3126": {
          "model_module": "@jupyter-widgets/controls",
          "model_name": "DescriptionStyleModel",
          "state": {
            "_view_name": "StyleView",
            "_model_name": "DescriptionStyleModel",
            "description_width": "",
            "_view_module": "@jupyter-widgets/base",
            "_model_module_version": "1.5.0",
            "_view_count": null,
            "_view_module_version": "1.2.0",
            "_model_module": "@jupyter-widgets/controls"
          }
        },
        "08f25b703ae841e8840bed0d14064e92": {
          "model_module": "@jupyter-widgets/base",
          "model_name": "LayoutModel",
          "state": {
            "_view_name": "LayoutView",
            "grid_template_rows": null,
            "right": null,
            "justify_content": null,
            "_view_module": "@jupyter-widgets/base",
            "overflow": null,
            "_model_module_version": "1.2.0",
            "_view_count": null,
            "flex_flow": null,
            "width": null,
            "min_width": null,
            "border": null,
            "align_items": null,
            "bottom": null,
            "_model_module": "@jupyter-widgets/base",
            "top": null,
            "grid_column": null,
            "overflow_y": null,
            "overflow_x": null,
            "grid_auto_flow": null,
            "grid_area": null,
            "grid_template_columns": null,
            "flex": null,
            "_model_name": "LayoutModel",
            "justify_items": null,
            "grid_row": null,
            "max_height": null,
            "align_content": null,
            "visibility": null,
            "align_self": null,
            "height": null,
            "min_height": null,
            "padding": null,
            "grid_auto_rows": null,
            "grid_gap": null,
            "max_width": null,
            "order": null,
            "_view_module_version": "1.2.0",
            "grid_template_areas": null,
            "object_position": null,
            "object_fit": null,
            "grid_auto_columns": null,
            "margin": null,
            "display": null,
            "left": null
          }
        },
        "0ebb09dc729a4c3a81176af74eede4fe": {
          "model_module": "@jupyter-widgets/controls",
          "model_name": "HBoxModel",
          "state": {
            "_view_name": "HBoxView",
            "_dom_classes": [],
            "_model_name": "HBoxModel",
            "_view_module": "@jupyter-widgets/controls",
            "_model_module_version": "1.5.0",
            "_view_count": null,
            "_view_module_version": "1.5.0",
            "box_style": "",
            "layout": "IPY_MODEL_88b29d06999c454f9aa0a81e0f2a3297",
            "_model_module": "@jupyter-widgets/controls",
            "children": [
              "IPY_MODEL_5d56515929064f788f4d60b946355d1d",
              "IPY_MODEL_549deafa599743f79944784283f4b8f5"
            ]
          }
        },
        "88b29d06999c454f9aa0a81e0f2a3297": {
          "model_module": "@jupyter-widgets/base",
          "model_name": "LayoutModel",
          "state": {
            "_view_name": "LayoutView",
            "grid_template_rows": null,
            "right": null,
            "justify_content": null,
            "_view_module": "@jupyter-widgets/base",
            "overflow": null,
            "_model_module_version": "1.2.0",
            "_view_count": null,
            "flex_flow": null,
            "width": null,
            "min_width": null,
            "border": null,
            "align_items": null,
            "bottom": null,
            "_model_module": "@jupyter-widgets/base",
            "top": null,
            "grid_column": null,
            "overflow_y": null,
            "overflow_x": null,
            "grid_auto_flow": null,
            "grid_area": null,
            "grid_template_columns": null,
            "flex": null,
            "_model_name": "LayoutModel",
            "justify_items": null,
            "grid_row": null,
            "max_height": null,
            "align_content": null,
            "visibility": null,
            "align_self": null,
            "height": null,
            "min_height": null,
            "padding": null,
            "grid_auto_rows": null,
            "grid_gap": null,
            "max_width": null,
            "order": null,
            "_view_module_version": "1.2.0",
            "grid_template_areas": null,
            "object_position": null,
            "object_fit": null,
            "grid_auto_columns": null,
            "margin": null,
            "display": null,
            "left": null
          }
        },
        "5d56515929064f788f4d60b946355d1d": {
          "model_module": "@jupyter-widgets/controls",
          "model_name": "FloatProgressModel",
          "state": {
            "_view_name": "ProgressView",
            "style": "IPY_MODEL_9f733fbea70f4b41bb9889b45520217c",
            "_dom_classes": [],
            "description": "Downloading: ",
            "_model_name": "FloatProgressModel",
            "bar_style": "success",
            "max": 1764,
            "_view_module": "@jupyter-widgets/controls",
            "_model_module_version": "1.5.0",
            "value": 1764,
            "_view_count": null,
            "_view_module_version": "1.5.0",
            "orientation": "horizontal",
            "min": 0,
            "description_tooltip": null,
            "_model_module": "@jupyter-widgets/controls",
            "layout": "IPY_MODEL_55feda0b72014fa4b57a1bd16325915d"
          }
        },
        "549deafa599743f79944784283f4b8f5": {
          "model_module": "@jupyter-widgets/controls",
          "model_name": "HTMLModel",
          "state": {
            "_view_name": "HTMLView",
            "style": "IPY_MODEL_04f1cd519bf04a92a630751a46908fec",
            "_dom_classes": [],
            "description": "",
            "_model_name": "HTMLModel",
            "placeholder": "​",
            "_view_module": "@jupyter-widgets/controls",
            "_model_module_version": "1.5.0",
            "value": " 3.90k/? [00:00&lt;00:00, 7.96kB/s]",
            "_view_count": null,
            "_view_module_version": "1.5.0",
            "description_tooltip": null,
            "_model_module": "@jupyter-widgets/controls",
            "layout": "IPY_MODEL_f8eb9c7beb194bb49089d9dcb248bbdd"
          }
        },
        "9f733fbea70f4b41bb9889b45520217c": {
          "model_module": "@jupyter-widgets/controls",
          "model_name": "ProgressStyleModel",
          "state": {
            "_view_name": "StyleView",
            "_model_name": "ProgressStyleModel",
            "description_width": "initial",
            "_view_module": "@jupyter-widgets/base",
            "_model_module_version": "1.5.0",
            "_view_count": null,
            "_view_module_version": "1.2.0",
            "bar_color": null,
            "_model_module": "@jupyter-widgets/controls"
          }
        },
        "55feda0b72014fa4b57a1bd16325915d": {
          "model_module": "@jupyter-widgets/base",
          "model_name": "LayoutModel",
          "state": {
            "_view_name": "LayoutView",
            "grid_template_rows": null,
            "right": null,
            "justify_content": null,
            "_view_module": "@jupyter-widgets/base",
            "overflow": null,
            "_model_module_version": "1.2.0",
            "_view_count": null,
            "flex_flow": null,
            "width": null,
            "min_width": null,
            "border": null,
            "align_items": null,
            "bottom": null,
            "_model_module": "@jupyter-widgets/base",
            "top": null,
            "grid_column": null,
            "overflow_y": null,
            "overflow_x": null,
            "grid_auto_flow": null,
            "grid_area": null,
            "grid_template_columns": null,
            "flex": null,
            "_model_name": "LayoutModel",
            "justify_items": null,
            "grid_row": null,
            "max_height": null,
            "align_content": null,
            "visibility": null,
            "align_self": null,
            "height": null,
            "min_height": null,
            "padding": null,
            "grid_auto_rows": null,
            "grid_gap": null,
            "max_width": null,
            "order": null,
            "_view_module_version": "1.2.0",
            "grid_template_areas": null,
            "object_position": null,
            "object_fit": null,
            "grid_auto_columns": null,
            "margin": null,
            "display": null,
            "left": null
          }
        },
        "04f1cd519bf04a92a630751a46908fec": {
          "model_module": "@jupyter-widgets/controls",
          "model_name": "DescriptionStyleModel",
          "state": {
            "_view_name": "StyleView",
            "_model_name": "DescriptionStyleModel",
            "description_width": "",
            "_view_module": "@jupyter-widgets/base",
            "_model_module_version": "1.5.0",
            "_view_count": null,
            "_view_module_version": "1.2.0",
            "_model_module": "@jupyter-widgets/controls"
          }
        },
        "f8eb9c7beb194bb49089d9dcb248bbdd": {
          "model_module": "@jupyter-widgets/base",
          "model_name": "LayoutModel",
          "state": {
            "_view_name": "LayoutView",
            "grid_template_rows": null,
            "right": null,
            "justify_content": null,
            "_view_module": "@jupyter-widgets/base",
            "overflow": null,
            "_model_module_version": "1.2.0",
            "_view_count": null,
            "flex_flow": null,
            "width": null,
            "min_width": null,
            "border": null,
            "align_items": null,
            "bottom": null,
            "_model_module": "@jupyter-widgets/base",
            "top": null,
            "grid_column": null,
            "overflow_y": null,
            "overflow_x": null,
            "grid_auto_flow": null,
            "grid_area": null,
            "grid_template_columns": null,
            "flex": null,
            "_model_name": "LayoutModel",
            "justify_items": null,
            "grid_row": null,
            "max_height": null,
            "align_content": null,
            "visibility": null,
            "align_self": null,
            "height": null,
            "min_height": null,
            "padding": null,
            "grid_auto_rows": null,
            "grid_gap": null,
            "max_width": null,
            "order": null,
            "_view_module_version": "1.2.0",
            "grid_template_areas": null,
            "object_position": null,
            "object_fit": null,
            "grid_auto_columns": null,
            "margin": null,
            "display": null,
            "left": null
          }
        },
        "179635caf9e840b9a36d72c01697d64c": {
          "model_module": "@jupyter-widgets/controls",
          "model_name": "HBoxModel",
          "state": {
            "_view_name": "HBoxView",
            "_dom_classes": [],
            "_model_name": "HBoxModel",
            "_view_module": "@jupyter-widgets/controls",
            "_model_module_version": "1.5.0",
            "_view_count": null,
            "_view_module_version": "1.5.0",
            "box_style": "",
            "layout": "IPY_MODEL_012e1811e5814b5a9de3bc3b3c153e48",
            "_model_module": "@jupyter-widgets/controls",
            "children": [
              "IPY_MODEL_2b76873b5709461ab98d1e36b13cad61",
              "IPY_MODEL_d4bd74a2ef474b4d9d20e5b47669873c"
            ]
          }
        },
        "012e1811e5814b5a9de3bc3b3c153e48": {
          "model_module": "@jupyter-widgets/base",
          "model_name": "LayoutModel",
          "state": {
            "_view_name": "LayoutView",
            "grid_template_rows": null,
            "right": null,
            "justify_content": null,
            "_view_module": "@jupyter-widgets/base",
            "overflow": null,
            "_model_module_version": "1.2.0",
            "_view_count": null,
            "flex_flow": null,
            "width": null,
            "min_width": null,
            "border": null,
            "align_items": null,
            "bottom": null,
            "_model_module": "@jupyter-widgets/base",
            "top": null,
            "grid_column": null,
            "overflow_y": null,
            "overflow_x": null,
            "grid_auto_flow": null,
            "grid_area": null,
            "grid_template_columns": null,
            "flex": null,
            "_model_name": "LayoutModel",
            "justify_items": null,
            "grid_row": null,
            "max_height": null,
            "align_content": null,
            "visibility": null,
            "align_self": null,
            "height": null,
            "min_height": null,
            "padding": null,
            "grid_auto_rows": null,
            "grid_gap": null,
            "max_width": null,
            "order": null,
            "_view_module_version": "1.2.0",
            "grid_template_areas": null,
            "object_position": null,
            "object_fit": null,
            "grid_auto_columns": null,
            "margin": null,
            "display": null,
            "left": null
          }
        },
        "2b76873b5709461ab98d1e36b13cad61": {
          "model_module": "@jupyter-widgets/controls",
          "model_name": "FloatProgressModel",
          "state": {
            "_view_name": "ProgressView",
            "style": "IPY_MODEL_05c743659863423bb543fe725fcd8ee0",
            "_dom_classes": [],
            "description": "Downloading: 100%",
            "_model_name": "FloatProgressModel",
            "bar_style": "success",
            "max": 1451,
            "_view_module": "@jupyter-widgets/controls",
            "_model_module_version": "1.5.0",
            "value": 1451,
            "_view_count": null,
            "_view_module_version": "1.5.0",
            "orientation": "horizontal",
            "min": 0,
            "description_tooltip": null,
            "_model_module": "@jupyter-widgets/controls",
            "layout": "IPY_MODEL_bd900680e3c74b7ea6c516df506700b1"
          }
        },
        "d4bd74a2ef474b4d9d20e5b47669873c": {
          "model_module": "@jupyter-widgets/controls",
          "model_name": "HTMLModel",
          "state": {
            "_view_name": "HTMLView",
            "style": "IPY_MODEL_510768a5f1464878805c8930fe3f4eb7",
            "_dom_classes": [],
            "description": "",
            "_model_name": "HTMLModel",
            "placeholder": "​",
            "_view_module": "@jupyter-widgets/controls",
            "_model_module_version": "1.5.0",
            "value": " 1.45k/1.45k [00:00&lt;00:00, 1.52kB/s]",
            "_view_count": null,
            "_view_module_version": "1.5.0",
            "description_tooltip": null,
            "_model_module": "@jupyter-widgets/controls",
            "layout": "IPY_MODEL_a3160fee11c94f02b4cb7c1df696f597"
          }
        },
        "05c743659863423bb543fe725fcd8ee0": {
          "model_module": "@jupyter-widgets/controls",
          "model_name": "ProgressStyleModel",
          "state": {
            "_view_name": "StyleView",
            "_model_name": "ProgressStyleModel",
            "description_width": "initial",
            "_view_module": "@jupyter-widgets/base",
            "_model_module_version": "1.5.0",
            "_view_count": null,
            "_view_module_version": "1.2.0",
            "bar_color": null,
            "_model_module": "@jupyter-widgets/controls"
          }
        },
        "bd900680e3c74b7ea6c516df506700b1": {
          "model_module": "@jupyter-widgets/base",
          "model_name": "LayoutModel",
          "state": {
            "_view_name": "LayoutView",
            "grid_template_rows": null,
            "right": null,
            "justify_content": null,
            "_view_module": "@jupyter-widgets/base",
            "overflow": null,
            "_model_module_version": "1.2.0",
            "_view_count": null,
            "flex_flow": null,
            "width": null,
            "min_width": null,
            "border": null,
            "align_items": null,
            "bottom": null,
            "_model_module": "@jupyter-widgets/base",
            "top": null,
            "grid_column": null,
            "overflow_y": null,
            "overflow_x": null,
            "grid_auto_flow": null,
            "grid_area": null,
            "grid_template_columns": null,
            "flex": null,
            "_model_name": "LayoutModel",
            "justify_items": null,
            "grid_row": null,
            "max_height": null,
            "align_content": null,
            "visibility": null,
            "align_self": null,
            "height": null,
            "min_height": null,
            "padding": null,
            "grid_auto_rows": null,
            "grid_gap": null,
            "max_width": null,
            "order": null,
            "_view_module_version": "1.2.0",
            "grid_template_areas": null,
            "object_position": null,
            "object_fit": null,
            "grid_auto_columns": null,
            "margin": null,
            "display": null,
            "left": null
          }
        },
        "510768a5f1464878805c8930fe3f4eb7": {
          "model_module": "@jupyter-widgets/controls",
          "model_name": "DescriptionStyleModel",
          "state": {
            "_view_name": "StyleView",
            "_model_name": "DescriptionStyleModel",
            "description_width": "",
            "_view_module": "@jupyter-widgets/base",
            "_model_module_version": "1.5.0",
            "_view_count": null,
            "_view_module_version": "1.2.0",
            "_model_module": "@jupyter-widgets/controls"
          }
        },
        "a3160fee11c94f02b4cb7c1df696f597": {
          "model_module": "@jupyter-widgets/base",
          "model_name": "LayoutModel",
          "state": {
            "_view_name": "LayoutView",
            "grid_template_rows": null,
            "right": null,
            "justify_content": null,
            "_view_module": "@jupyter-widgets/base",
            "overflow": null,
            "_model_module_version": "1.2.0",
            "_view_count": null,
            "flex_flow": null,
            "width": null,
            "min_width": null,
            "border": null,
            "align_items": null,
            "bottom": null,
            "_model_module": "@jupyter-widgets/base",
            "top": null,
            "grid_column": null,
            "overflow_y": null,
            "overflow_x": null,
            "grid_auto_flow": null,
            "grid_area": null,
            "grid_template_columns": null,
            "flex": null,
            "_model_name": "LayoutModel",
            "justify_items": null,
            "grid_row": null,
            "max_height": null,
            "align_content": null,
            "visibility": null,
            "align_self": null,
            "height": null,
            "min_height": null,
            "padding": null,
            "grid_auto_rows": null,
            "grid_gap": null,
            "max_width": null,
            "order": null,
            "_view_module_version": "1.2.0",
            "grid_template_areas": null,
            "object_position": null,
            "object_fit": null,
            "grid_auto_columns": null,
            "margin": null,
            "display": null,
            "left": null
          }
        },
        "e318916d8b1e4596be0dee6a95d78ff7": {
          "model_module": "@jupyter-widgets/controls",
          "model_name": "HBoxModel",
          "state": {
            "_view_name": "HBoxView",
            "_dom_classes": [],
            "_model_name": "HBoxModel",
            "_view_module": "@jupyter-widgets/controls",
            "_model_module_version": "1.5.0",
            "_view_count": null,
            "_view_module_version": "1.5.0",
            "box_style": "",
            "layout": "IPY_MODEL_f1be1fc94f2c44808a0533de8a044ca8",
            "_model_module": "@jupyter-widgets/controls",
            "children": [
              "IPY_MODEL_1e2db12092f24e689e79e3e3c97b304c",
              "IPY_MODEL_dbd338d41e5e4e14a24b9553beadf8d8"
            ]
          }
        },
        "f1be1fc94f2c44808a0533de8a044ca8": {
          "model_module": "@jupyter-widgets/base",
          "model_name": "LayoutModel",
          "state": {
            "_view_name": "LayoutView",
            "grid_template_rows": null,
            "right": null,
            "justify_content": null,
            "_view_module": "@jupyter-widgets/base",
            "overflow": null,
            "_model_module_version": "1.2.0",
            "_view_count": null,
            "flex_flow": null,
            "width": null,
            "min_width": null,
            "border": null,
            "align_items": null,
            "bottom": null,
            "_model_module": "@jupyter-widgets/base",
            "top": null,
            "grid_column": null,
            "overflow_y": null,
            "overflow_x": null,
            "grid_auto_flow": null,
            "grid_area": null,
            "grid_template_columns": null,
            "flex": null,
            "_model_name": "LayoutModel",
            "justify_items": null,
            "grid_row": null,
            "max_height": null,
            "align_content": null,
            "visibility": null,
            "align_self": null,
            "height": null,
            "min_height": null,
            "padding": null,
            "grid_auto_rows": null,
            "grid_gap": null,
            "max_width": null,
            "order": null,
            "_view_module_version": "1.2.0",
            "grid_template_areas": null,
            "object_position": null,
            "object_fit": null,
            "grid_auto_columns": null,
            "margin": null,
            "display": null,
            "left": null
          }
        },
        "1e2db12092f24e689e79e3e3c97b304c": {
          "model_module": "@jupyter-widgets/controls",
          "model_name": "FloatProgressModel",
          "state": {
            "_view_name": "ProgressView",
            "style": "IPY_MODEL_161c6e768439413f9e20d18006b473be",
            "_dom_classes": [],
            "description": "Downloading: 100%",
            "_model_name": "FloatProgressModel",
            "bar_style": "success",
            "max": 1261920069,
            "_view_module": "@jupyter-widgets/controls",
            "_model_module_version": "1.5.0",
            "value": 1261920069,
            "_view_count": null,
            "_view_module_version": "1.5.0",
            "orientation": "horizontal",
            "min": 0,
            "description_tooltip": null,
            "_model_module": "@jupyter-widgets/controls",
            "layout": "IPY_MODEL_527193280fa14aaca993e706b2cbf727"
          }
        },
        "dbd338d41e5e4e14a24b9553beadf8d8": {
          "model_module": "@jupyter-widgets/controls",
          "model_name": "HTMLModel",
          "state": {
            "_view_name": "HTMLView",
            "style": "IPY_MODEL_c01c8ef6c8374275ad88969385e08751",
            "_dom_classes": [],
            "description": "",
            "_model_name": "HTMLModel",
            "placeholder": "​",
            "_view_module": "@jupyter-widgets/controls",
            "_model_module_version": "1.5.0",
            "value": " 1.26G/1.26G [00:26&lt;00:00, 48.0MB/s]",
            "_view_count": null,
            "_view_module_version": "1.5.0",
            "description_tooltip": null,
            "_model_module": "@jupyter-widgets/controls",
            "layout": "IPY_MODEL_6d542bdae1f6406495fbf83d5dd0a01a"
          }
        },
        "161c6e768439413f9e20d18006b473be": {
          "model_module": "@jupyter-widgets/controls",
          "model_name": "ProgressStyleModel",
          "state": {
            "_view_name": "StyleView",
            "_model_name": "ProgressStyleModel",
            "description_width": "initial",
            "_view_module": "@jupyter-widgets/base",
            "_model_module_version": "1.5.0",
            "_view_count": null,
            "_view_module_version": "1.2.0",
            "bar_color": null,
            "_model_module": "@jupyter-widgets/controls"
          }
        },
        "527193280fa14aaca993e706b2cbf727": {
          "model_module": "@jupyter-widgets/base",
          "model_name": "LayoutModel",
          "state": {
            "_view_name": "LayoutView",
            "grid_template_rows": null,
            "right": null,
            "justify_content": null,
            "_view_module": "@jupyter-widgets/base",
            "overflow": null,
            "_model_module_version": "1.2.0",
            "_view_count": null,
            "flex_flow": null,
            "width": null,
            "min_width": null,
            "border": null,
            "align_items": null,
            "bottom": null,
            "_model_module": "@jupyter-widgets/base",
            "top": null,
            "grid_column": null,
            "overflow_y": null,
            "overflow_x": null,
            "grid_auto_flow": null,
            "grid_area": null,
            "grid_template_columns": null,
            "flex": null,
            "_model_name": "LayoutModel",
            "justify_items": null,
            "grid_row": null,
            "max_height": null,
            "align_content": null,
            "visibility": null,
            "align_self": null,
            "height": null,
            "min_height": null,
            "padding": null,
            "grid_auto_rows": null,
            "grid_gap": null,
            "max_width": null,
            "order": null,
            "_view_module_version": "1.2.0",
            "grid_template_areas": null,
            "object_position": null,
            "object_fit": null,
            "grid_auto_columns": null,
            "margin": null,
            "display": null,
            "left": null
          }
        },
        "c01c8ef6c8374275ad88969385e08751": {
          "model_module": "@jupyter-widgets/controls",
          "model_name": "DescriptionStyleModel",
          "state": {
            "_view_name": "StyleView",
            "_model_name": "DescriptionStyleModel",
            "description_width": "",
            "_view_module": "@jupyter-widgets/base",
            "_model_module_version": "1.5.0",
            "_view_count": null,
            "_view_module_version": "1.2.0",
            "_model_module": "@jupyter-widgets/controls"
          }
        },
        "6d542bdae1f6406495fbf83d5dd0a01a": {
          "model_module": "@jupyter-widgets/base",
          "model_name": "LayoutModel",
          "state": {
            "_view_name": "LayoutView",
            "grid_template_rows": null,
            "right": null,
            "justify_content": null,
            "_view_module": "@jupyter-widgets/base",
            "overflow": null,
            "_model_module_version": "1.2.0",
            "_view_count": null,
            "flex_flow": null,
            "width": null,
            "min_width": null,
            "border": null,
            "align_items": null,
            "bottom": null,
            "_model_module": "@jupyter-widgets/base",
            "top": null,
            "grid_column": null,
            "overflow_y": null,
            "overflow_x": null,
            "grid_auto_flow": null,
            "grid_area": null,
            "grid_template_columns": null,
            "flex": null,
            "_model_name": "LayoutModel",
            "justify_items": null,
            "grid_row": null,
            "max_height": null,
            "align_content": null,
            "visibility": null,
            "align_self": null,
            "height": null,
            "min_height": null,
            "padding": null,
            "grid_auto_rows": null,
            "grid_gap": null,
            "max_width": null,
            "order": null,
            "_view_module_version": "1.2.0",
            "grid_template_areas": null,
            "object_position": null,
            "object_fit": null,
            "grid_auto_columns": null,
            "margin": null,
            "display": null,
            "left": null
          }
        }
      }
    },
    "accelerator": "GPU"
  },
  "cells": [
    {
      "cell_type": "markdown",
      "metadata": {
        "id": "LBSYoWbi-45k"
      },
      "source": [
        "# **Fine-tuning XLSR-Wav2Vec2 for Multi-Lingual ASR with 🤗 Transformers**"
      ]
    },
    {
      "cell_type": "markdown",
      "metadata": {
        "id": "V7YOT2mnUiea"
      },
      "source": [
        "Wav2Vec2 is a pretrained model for Automatic Speech Recognition (ASR) and was released in [September 2020](https://ai.facebook.com/blog/wav2vec-20-learning-the-structure-of-speech-from-raw-audio/) by Alexei Baevski, Michael Auli, and Alex Conneau.  Soon after the superior performance of Wav2Vec2 was demonstrated on the English ASR dataset LibriSpeech, *Facebook AI* presented XLSR-Wav2Vec2 (click [here](https://arxiv.org/abs/2006.13979)). XLSR stands for *cross-lingual  speech representations* and refers to XLSR-Wav2Vec2`s ability to learn speech representations that are useful across multiple languages.\n",
        "\n",
        "Similar to Wav2Vec2, XLSR-Wav2Vec2 learns powerful speech representations from hundreds of thousands of hours of speech in more than 50 languages of unlabeled speech. Similar, to [BERT's masked language modeling](http://jalammar.github.io/illustrated-bert/), the model learns contextualized speech representations by randomly masking feature vectors before passing them to a transformer network.\n",
        "\n",
        "![wav2vec2_structure](https://raw.githubusercontent.com/patrickvonplaten/scientific_images/master/xlsr_wav2vec2.png)\n",
        "\n",
        "The authors show for the first time that massively pretraining an ASR model on cross-lingual unlabeled speech data, followed by language-specific fine-tuning on very little labeled data achieves state-of-the-art results. See Table 1-5 of the official [paper](https://arxiv.org/pdf/2006.13979.pdf)."
      ]
    },
    {
      "cell_type": "markdown",
      "metadata": {
        "id": "nT_QrfWtsxIz"
      },
      "source": [
        "In this notebook, we will give an in-detail explanation of how XLSR-Wav2Vec2's pretrained checkpoint can be fine-tuned on a low-resource ASR dataset of any language. Note that in this notebook, we will fine-tune XLSR-Wav2Vec2 without making use of a language model. It is much simpler and more efficient to use XLSR-Wav2Vec2 without a language model, but better results can be achieved by including a language model. \n",
        "\n",
        "For demonstration purposes, we fine-tune the [wav2vec2-large-xlsr-53](https://huggingface.co/facebook/wav2vec2-large-xlsr-53) on the low resource Turkish ASR dataset of [Common Voice](https://huggingface.co/datasets/common_voice) that contains just ~6h of validated training data."
      ]
    },
    {
      "cell_type": "markdown",
      "metadata": {
        "id": "Gx9OdDYrCtQ1"
      },
      "source": [
        "XLSR-Wav2Vec2 is fine-tuned using Connectionist Temporal Classification (CTC), which is an algorithm that is used to train neural networks for sequence-to-sequence problems and mainly in Automatic Speech Recognition and handwriting recognition. \n",
        "\n",
        "I highly recommend reading the blog post [Sequence Modeling with CTC (2017)](https://distill.pub/2017/ctc/) very well-written blog post by Awni Hannun."
      ]
    },
    {
      "cell_type": "markdown",
      "metadata": {
        "id": "e335hPmdtASZ"
      },
      "source": [
        "Before we start, let's install both `datasets` and `transformers` from master. Also, we need the `torchaudio` and `librosa` package to load audio files and the `jiwer` to evaluate our fine-tuned model using the [word error rate (WER)](https://huggingface.co/metrics/wer) metric ${}^1$."
      ]
    },
    {
      "cell_type": "code",
      "metadata": {
        "id": "c8eh87Hoee5d"
      },
      "source": [
        "%%capture\n",
        "!pip install datasets==1.4.1\n",
        "!pip install transformers==4.4.0\n",
        "!pip install torchaudio\n",
        "!pip install librosa\n",
        "!pip install jiwer"
      ],
      "execution_count": null,
      "outputs": []
    },
    {
      "cell_type": "markdown",
      "metadata": {
        "id": "Mn9swf6EQ9Vd"
      },
      "source": [
        "\n",
        "\n",
        "\n",
        "---\n",
        "\n",
        "${}^1$ In the [paper](https://arxiv.org/pdf/2006.13979.pdf), the model was evaluated using the phoneme error rate (PER), but by far the most common metric in ASR is the word error rate (WER). To keep this notebook as general as possible we decided to evaluate the model using WER."
      ]
    },
    {
      "cell_type": "markdown",
      "metadata": {
        "id": "0mW-C1Nt-j7k"
      },
      "source": [
        "## Prepare Data, Tokenizer, Feature Extractor"
      ]
    },
    {
      "cell_type": "markdown",
      "metadata": {
        "id": "BeBosnY9BH3e"
      },
      "source": [
        "ASR models transcribe speech to text, which means that we both need a feature extractor that processes the speech signal to the model's input format, *e.g.* a feature vector, and a tokenizer that processes the model's output format to text. \n",
        "\n",
        "In 🤗 Transformers, the XLSR-Wav2Vec2 model is thus accompanied by both a tokenizer, called [Wav2Vec2CTCTokenizer](https://huggingface.co/transformers/master/model_doc/wav2vec2.html#wav2vec2ctctokenizer), and a feature extractor, called [Wav2Vec2FeatureExtractor](https://huggingface.co/transformers/master/model_doc/wav2vec2.html#wav2vec2featureextractor).\n",
        "\n",
        "Let's start by creating the tokenizer responsible for decoding the model's predictions."
      ]
    },
    {
      "cell_type": "markdown",
      "metadata": {
        "id": "sEXEWEJGQPqD"
      },
      "source": [
        "### Create Wav2Vec2CTCTokenizer"
      ]
    },
    {
      "cell_type": "markdown",
      "metadata": {
        "id": "tWmMikuNEKl_"
      },
      "source": [
        "The [pretrained Wav2Vec2 checkpoint]( ) maps the speech signal to a sequence of context representations as illustrated in the figure above. A fine-tuned XLSR-Wav2Vec2 checkpoint needs to map this sequence of context representations to its corresponding transcription so that a linear layer has to be added on top of the transformer block (shown in yellow). This linear layer is used to classifies each context representation to a token class analogous how, *e.g.*, after pretraining a linear layer is added on top of BERT's embeddings for further classification - *cf.* with *\"BERT\"* section of this [blog post](https://huggingface.co/blog/warm-starting-encoder-decoder).\n",
        "\n",
        "The output size of this layer corresponds to the number of tokens in the vocabulary, which does **not** depend on XLSR-Wav2Vec2's pretraining task, but only on the labeled dataset used for fine-tuning. So in the first step, we will take a look at Common Voice and define a vocabulary based on the dataset's transcriptions."
      ]
    },
    {
      "cell_type": "markdown",
      "metadata": {
        "id": "idBczw8mWzgt"
      },
      "source": [
        "First, let's go to [Common Voice](https://commonvoice.mozilla.org/en/datasets) and pick a language to fine-tune XLSR-Wav2Vec2 on. For this notebook, we will use Turkish. \n",
        "\n",
        "For each language-specific dataset, you can find a language code corresponding to your chosen language. On [Common Voice](https://commonvoice.mozilla.org/en/datasets), look for the field \"Version\". The language code then corresponds to the prefix before the underscore. For Turkish, *e.g.* the language code is `\"tr\"`.\n",
        "\n",
        "Great, now we can use 🤗 Datasets' simple API to download the data. The dataset name will be `\"common_voice\"`, the config name corresponds to the language code - `\"tr\"` in our case."
      ]
    },
    {
      "cell_type": "markdown",
      "metadata": {
        "id": "bee4g9rpLxll"
      },
      "source": [
        "Common Voice has many different splits including `invalidated`, which refers to data that was not rated as \"clean enough\" to be considered useful. In this notebook, we will only make use of the splits `\"train\"`, `\"validation\"` and `\"test\"`. \n",
        "\n",
        "Because the Turkish dataset is so small, we will merge both the validation and training data into a training dataset and simply use the test data for validation."
      ]
    },
    {
      "cell_type": "code",
      "metadata": {
        "colab": {
          "base_uri": "https://localhost:8080/"
        },
        "id": "EJ1hihwo5TKl",
        "outputId": "244c5fe4-9dc4-4426-cd53-59149121cd6e"
      },
      "source": [
        "from google.colab import drive\n",
        "drive.mount('/content/drive')"
      ],
      "execution_count": null,
      "outputs": [
        {
          "output_type": "stream",
          "text": [
            "Mounted at /content/drive\n"
          ],
          "name": "stdout"
        }
      ]
    },
    {
      "cell_type": "code",
      "metadata": {
        "id": "2MMXcWFFgCXU",
        "colab": {
          "base_uri": "https://localhost:8080/",
          "height": 88,
          "referenced_widgets": [
            "d058f1c61dc14ae7b023647591a05731",
            "70d199e79f894c31927393fe454ff51b",
            "5a6b6a7cd6c4438a9ad0355de2dd29e6",
            "d0c0397b4b0c4ea98befa27355f992bc",
            "34fe44f273754ca892c6f678313c1b09",
            "3ee9da49a7384281b21e9d4df3747b8c",
            "5f9ca4f1a295423196314a1dbfa19a91",
            "b225810e0e704899aec2abe54a58592c"
          ]
        },
        "outputId": "a71d7837-3ab4-46fa-8d18-69267dc16b65"
      },
      "source": [
        "\n",
        "from datasets import load_dataset, load_metric\n",
        "\n",
        "common_voice_train = load_dataset(\"json\", data_files=[\"/content/drive/MyDrive/speech/elra/elra_train_manifest.json\"])['train']\n",
        "common_voice_test = load_dataset(\"json\", data_files=[\"/content/drive/MyDrive/speech/elra/elra_val_manifest.json\"])['train']\n"
      ],
      "execution_count": null,
      "outputs": [
        {
          "output_type": "stream",
          "text": [
            "Using custom data configuration default-c44e9774811e0745\n"
          ],
          "name": "stderr"
        },
        {
          "output_type": "stream",
          "text": [
            "Downloading and preparing dataset json/default (download: Unknown size, generated: Unknown size, post-processed: Unknown size, total: Unknown size) to /root/.cache/huggingface/datasets/json/default-c44e9774811e0745/0.0.0/dc7ee63ec8b554c48ecc5a8a6fbe27af8071408c244e4347cf9222d6206d83a2...\n"
          ],
          "name": "stdout"
        },
        {
          "output_type": "display_data",
          "data": {
            "application/vnd.jupyter.widget-view+json": {
              "model_id": "d058f1c61dc14ae7b023647591a05731",
              "version_minor": 0,
              "version_major": 2
            },
            "text/plain": [
              "HBox(children=(FloatProgress(value=1.0, bar_style='info', max=1.0), HTML(value='')))"
            ]
          },
          "metadata": {
            "tags": []
          }
        },
        {
          "output_type": "stream",
          "text": [
            "\rDataset json downloaded and prepared to /root/.cache/huggingface/datasets/json/default-c44e9774811e0745/0.0.0/dc7ee63ec8b554c48ecc5a8a6fbe27af8071408c244e4347cf9222d6206d83a2. Subsequent calls will reuse this data.\n"
          ],
          "name": "stdout"
        }
      ]
    },
    {
      "cell_type": "markdown",
      "metadata": {
        "id": "Go9Hq4e4NDT9"
      },
      "source": [
        "Let's write a short function to display some random samples of the dataset and run it a couple of times to get a feeling for the transcriptions."
      ]
    },
    {
      "cell_type": "code",
      "metadata": {
        "id": "72737oog2F6U"
      },
      "source": [
        "from datasets import ClassLabel\n",
        "import random\n",
        "import pandas as pd\n",
        "from IPython.display import display, HTML\n",
        "\n",
        "def show_random_elements(dataset, num_examples=10):\n",
        "    assert num_examples <= len(dataset), \"Can't pick more elements than there are in the dataset.\"\n",
        "    picks = []\n",
        "    for _ in range(num_examples):\n",
        "        pick = random.randint(0, len(dataset)-1)\n",
        "        while pick in picks:\n",
        "            pick = random.randint(0, len(dataset)-1)\n",
        "        picks.append(pick)\n",
        "    \n",
        "    df = pd.DataFrame(dataset[picks])\n",
        "    display(HTML(df.to_html()))"
      ],
      "execution_count": null,
      "outputs": []
    },
    {
      "cell_type": "code",
      "metadata": {
        "colab": {
          "base_uri": "https://localhost:8080/",
          "height": 669
        },
        "id": "K_JUmf3G3b9S",
        "outputId": "2cb5672e-ed76-4ad5-bd94-74fbb704392a"
      },
      "source": [
        "show_random_elements(common_voice_train.remove_columns([\"audio_filepath\"]), num_examples=20)"
      ],
      "execution_count": null,
      "outputs": [
        {
          "output_type": "display_data",
          "data": {
            "text/html": [
              "<table border=\"1\" class=\"dataframe\">\n",
              "  <thead>\n",
              "    <tr style=\"text-align: right;\">\n",
              "      <th></th>\n",
              "      <th>duration</th>\n",
              "      <th>text</th>\n",
              "    </tr>\n",
              "  </thead>\n",
              "  <tbody>\n",
              "    <tr>\n",
              "      <th>0</th>\n",
              "      <td>3.328000</td>\n",
              "      <td>chama ao cero setenta e un\\n</td>\n",
              "    </tr>\n",
              "    <tr>\n",
              "      <th>1</th>\n",
              "      <td>5.461333</td>\n",
              "      <td>ninguén interpretou mellor o quixote que fernando rey\\n</td>\n",
              "    </tr>\n",
              "    <tr>\n",
              "      <th>2</th>\n",
              "      <td>5.290667</td>\n",
              "      <td>para envasar é mellor falar con poligal.\\n</td>\n",
              "    </tr>\n",
              "    <tr>\n",
              "      <th>3</th>\n",
              "      <td>6.058667</td>\n",
              "      <td>brooklyn beckham é fillo da famosa parella constituída por david e victoria\\n</td>\n",
              "    </tr>\n",
              "    <tr>\n",
              "      <th>4</th>\n",
              "      <td>5.546667</td>\n",
              "      <td>ardán é unha empresa que se dedica ao servizo de información empresarial\\n</td>\n",
              "    </tr>\n",
              "    <tr>\n",
              "      <th>5</th>\n",
              "      <td>5.973333</td>\n",
              "      <td>no ano dous mil catro xa esquecemos a peseta.\\n</td>\n",
              "    </tr>\n",
              "    <tr>\n",
              "      <th>6</th>\n",
              "      <td>6.229333</td>\n",
              "      <td>dores villarino expulsou_s do pleno aos dous deputados\\n</td>\n",
              "    </tr>\n",
              "    <tr>\n",
              "      <th>7</th>\n",
              "      <td>6.144000</td>\n",
              "      <td>marc márquez foi o piloto máis novo en gañar un campionato de moto gp\\n</td>\n",
              "    </tr>\n",
              "    <tr>\n",
              "      <th>8</th>\n",
              "      <td>8.533333</td>\n",
              "      <td>podemos lembrar o pasado fidalgo de baralla a través dos seus pazos e casas grandes\\n</td>\n",
              "    </tr>\n",
              "    <tr>\n",
              "      <th>9</th>\n",
              "      <td>5.973333</td>\n",
              "      <td>case todo o mundo coñece a miguel de lira como currás\\n</td>\n",
              "    </tr>\n",
              "    <tr>\n",
              "      <th>10</th>\n",
              "      <td>7.765333</td>\n",
              "      <td>colorado foi o único estado que rexeitou a oportunidade de celebrar uns xogos olímpicos en mil novecentos setenta e seis\\n</td>\n",
              "    </tr>\n",
              "    <tr>\n",
              "      <th>11</th>\n",
              "      <td>8.106667</td>\n",
              "      <td>xiaomi, o teléfono de moda nos últimos tempos!\\n</td>\n",
              "    </tr>\n",
              "    <tr>\n",
              "      <th>12</th>\n",
              "      <td>4.096000</td>\n",
              "      <td>agasallouna cun libro de fina casaldarrey\\n</td>\n",
              "    </tr>\n",
              "    <tr>\n",
              "      <th>13</th>\n",
              "      <td>7.338667</td>\n",
              "      <td>a moda galega xa non conta con caramelo unha das súas marcas máis emblemáticas\\n</td>\n",
              "    </tr>\n",
              "    <tr>\n",
              "      <th>14</th>\n",
              "      <td>8.021333</td>\n",
              "      <td>o presidente dos estados unidos bill clinton rematou o seu mandato marcado polos escándalos sexuais cunha bolseira da casa branca\\n</td>\n",
              "    </tr>\n",
              "    <tr>\n",
              "      <th>15</th>\n",
              "      <td>7.936000</td>\n",
              "      <td>o nome de iggy azalea mestura o da súa primeira cadela e o da rúa onde vivía cando era pequena\\n</td>\n",
              "    </tr>\n",
              "    <tr>\n",
              "      <th>16</th>\n",
              "      <td>7.082667</td>\n",
              "      <td>non lle gusta nada o nome de iria\\n</td>\n",
              "    </tr>\n",
              "    <tr>\n",
              "      <th>17</th>\n",
              "      <td>7.680000</td>\n",
              "      <td>podemos gozar do luxo dun hotel four seasons en calquera parte do mundo.\\n</td>\n",
              "    </tr>\n",
              "    <tr>\n",
              "      <th>18</th>\n",
              "      <td>5.546667</td>\n",
              "      <td>para coñecer ben o nacionalismo galego hai que falar de xosé manuel beiras\\n</td>\n",
              "    </tr>\n",
              "    <tr>\n",
              "      <th>19</th>\n",
              "      <td>5.120000</td>\n",
              "      <td>aínda non se coñece a nova colección de roberto verino.\\n</td>\n",
              "    </tr>\n",
              "  </tbody>\n",
              "</table>"
            ],
            "text/plain": [
              "<IPython.core.display.HTML object>"
            ]
          },
          "metadata": {
            "tags": []
          }
        }
      ]
    },
    {
      "cell_type": "markdown",
      "metadata": {
        "id": "fowcOllGNNju"
      },
      "source": [
        "Alright! The transcriptions look fairly clean. Having translated the transcribed sentences (I'm sadly not a native speaker in Turkish), it seems that the language corresponds more to written text than noisy dialogue. This makes sense taking into account that [Common Voice](https://huggingface.co/datasets/common_voice) is a crowd-sourced read speech corpus."
      ]
    },
    {
      "cell_type": "markdown",
      "metadata": {
        "id": "vq7OR50LN49m"
      },
      "source": [
        "We can see that the transcriptions contain some special characters, such as `,.?!;:`. Without a language model, it is much harder to classify speech chunks to such special characters because they don't really correspond to a characteristic sound unit. *E.g.*, the letter `\"s\"` has a more or less clear sound, whereas the special character `\".\"` does not.\n",
        "Also in order to understand the meaning of a speech signal, it is usually not necessary to include special characters in the transcription.\n",
        "\n",
        "In addition, we normalize the text to only have lower case letters and append a word separator token at the end."
      ]
    },
    {
      "cell_type": "code",
      "metadata": {
        "id": "svKzVJ_hQGK6"
      },
      "source": [
        "import re\n",
        "#chars_to_ignore_regex = '[\\,\\?\\.\\!\\-\\;\\:\\\"\\“\\%\\‘\\”\\�]'\n",
        "chars_to_ignore_regex = '[^a-záéíóúñ ]'\n",
        "\n",
        "def remove_special_characters(batch):\n",
        "    batch[\"sentence\"] = re.sub(chars_to_ignore_regex, '', batch[\"text\"]).lower() + \" \"\n",
        "    return batch"
      ],
      "execution_count": null,
      "outputs": []
    },
    {
      "cell_type": "code",
      "metadata": {
        "colab": {
          "base_uri": "https://localhost:8080/",
          "height": 66,
          "referenced_widgets": [
            "a414ee1ac41b4c628eddbefee800524e",
            "b9329b91210644e3a56c188708d4d5b7",
            "040b457cbc5545e19fcee21b0116f460",
            "3bad7624669c49a0a65ef47fa637eb18",
            "cf5886e8c5cc424cbea202376ab23cab",
            "e1fef2f7ebee4308920be475878c275b",
            "d87b760346be4439b2b4bc4ef4e569af",
            "fe8c4a51b2954223a65da5d5165401a2"
          ]
        },
        "id": "XIHocAuTQbBR",
        "outputId": "0a68f215-0101-440e-aa62-0ebd6a1a120f"
      },
      "source": [
        "common_voice_train = common_voice_train.map(remove_special_characters)\n",
        "common_voice_test = common_voice_test.map(remove_special_characters)"
      ],
      "execution_count": null,
      "outputs": [
        {
          "output_type": "display_data",
          "data": {
            "application/vnd.jupyter.widget-view+json": {
              "model_id": "a414ee1ac41b4c628eddbefee800524e",
              "version_minor": 0,
              "version_major": 2
            },
            "text/plain": [
              "HBox(children=(FloatProgress(value=0.0, max=808.0), HTML(value='')))"
            ]
          },
          "metadata": {
            "tags": []
          }
        },
        {
          "output_type": "stream",
          "text": [
            "\n"
          ],
          "name": "stdout"
        }
      ]
    },
    {
      "cell_type": "code",
      "metadata": {
        "colab": {
          "base_uri": "https://localhost:8080/",
          "height": 410
        },
        "id": "RBDRAAYxRE6n",
        "outputId": "00953794-51dc-4d22-b14e-226234464308"
      },
      "source": [
        "show_random_elements(common_voice_train.remove_columns([\"audio_filepath\"]))"
      ],
      "execution_count": null,
      "outputs": [
        {
          "output_type": "display_data",
          "data": {
            "text/html": [
              "<table border=\"1\" class=\"dataframe\">\n",
              "  <thead>\n",
              "    <tr style=\"text-align: right;\">\n",
              "      <th></th>\n",
              "      <th>duration</th>\n",
              "      <th>sentence</th>\n",
              "      <th>text</th>\n",
              "    </tr>\n",
              "  </thead>\n",
              "  <tbody>\n",
              "    <tr>\n",
              "      <th>0</th>\n",
              "      <td>4.437333</td>\n",
              "      <td>anduriña é un nome moi pouco común</td>\n",
              "      <td>anduriña é un nome moi pouco común\\n</td>\n",
              "    </tr>\n",
              "    <tr>\n",
              "      <th>1</th>\n",
              "      <td>6.912000</td>\n",
              "      <td>a empresa de deportes puma leva no mercado setenta anos</td>\n",
              "      <td>a empresa de deportes puma leva no mercado setenta anos\\n</td>\n",
              "    </tr>\n",
              "    <tr>\n",
              "      <th>2</th>\n",
              "      <td>9.130667</td>\n",
              "      <td>a bandeira de luxemburgosh é igual cá holandesa coa única diferenza de que a súa franxa azul é máis clara</td>\n",
              "      <td>a bandeira de luxemburgo_sh é igual cá holandesa coa única diferenza de que a súa franxa azul é máis clara\\n</td>\n",
              "    </tr>\n",
              "    <tr>\n",
              "      <th>3</th>\n",
              "      <td>10.922667</td>\n",
              "      <td>antes da construción do circuíto de philip island disputábanse carreiras de motociclismo nas rúas da illa</td>\n",
              "      <td>antes da construción do circuíto de philip island disputábanse carreiras de motociclismo nas rúas da illa\\n</td>\n",
              "    </tr>\n",
              "    <tr>\n",
              "      <th>4</th>\n",
              "      <td>6.314667</td>\n",
              "      <td>disque mercedes peón vai presentar o seu novo disco este mesmo ano</td>\n",
              "      <td>disque mercedes peón vai presentar o seu novo disco este mesmo ano\\n</td>\n",
              "    </tr>\n",
              "    <tr>\n",
              "      <th>5</th>\n",
              "      <td>8.448000</td>\n",
              "      <td>case todo o mundo coñece a miguel de lira como currás</td>\n",
              "      <td>case todo o mundo coñece a miguel de lira como currás\\n</td>\n",
              "    </tr>\n",
              "    <tr>\n",
              "      <th>6</th>\n",
              "      <td>8.533333</td>\n",
              "      <td>o mosteiro de santa maría de montederramo é un dos mellores expoñentess da arquitectura renacentista en galicia</td>\n",
              "      <td>o mosteiro de santa maría de montederramo é un dos mellores expoñentes_s da arquitectura renacentista en galicia\\n</td>\n",
              "    </tr>\n",
              "    <tr>\n",
              "      <th>7</th>\n",
              "      <td>5.546667</td>\n",
              "      <td>falar de dior é falar de moda e de alta costura</td>\n",
              "      <td>falar de dior é falar de moda e de alta costura\\n</td>\n",
              "    </tr>\n",
              "    <tr>\n",
              "      <th>8</th>\n",
              "      <td>2.730667</td>\n",
              "      <td>quen se chama luar</td>\n",
              "      <td>quen se chama luar\\n</td>\n",
              "    </tr>\n",
              "    <tr>\n",
              "      <th>9</th>\n",
              "      <td>5.546667</td>\n",
              "      <td>a serra dos ancares separa galicia de castela e león</td>\n",
              "      <td>a serra dos ancares separa galicia de castela e león\\n</td>\n",
              "    </tr>\n",
              "  </tbody>\n",
              "</table>"
            ],
            "text/plain": [
              "<IPython.core.display.HTML object>"
            ]
          },
          "metadata": {
            "tags": []
          }
        }
      ]
    },
    {
      "cell_type": "markdown",
      "metadata": {
        "id": "jwfaptH5RJwA"
      },
      "source": [
        "Good! This looks better. We have removed most special characters from transcriptions and normalized them to lower-case only.\n",
        "\n",
        "In CTC, it is common to classify speech chunks into letters, so we will do the same here. \n",
        "Let's extract all distinct letters of the training and test data and build our vocabulary from this set of letters.\n",
        "\n",
        "We write a mapping function that concatenates all transcriptions into one long transcription and then transforms the string into a set of chars. \n",
        "It is important to pass the argument `batched=True` to the `map(...)` function so that the mapping function has access to all transcriptions at once."
      ]
    },
    {
      "cell_type": "code",
      "metadata": {
        "id": "LwCshNbbeRZR"
      },
      "source": [
        "def extract_all_chars(batch):\n",
        "  all_text = \" \".join(batch[\"sentence\"])\n",
        "  vocab = list(set(all_text))\n",
        "  return {\"vocab\": [vocab], \"all_text\": [all_text]}"
      ],
      "execution_count": null,
      "outputs": []
    },
    {
      "cell_type": "code",
      "metadata": {
        "colab": {
          "base_uri": "https://localhost:8080/",
          "height": 66,
          "referenced_widgets": [
            "e41d14028e1b4b879c3b85354f442464",
            "be323a31564540c49cd80ed2f4942327",
            "513bcbd5fa1445d78c95413c5f0c6bfe",
            "9797a1b432c64f1aafd7f9ac220b25f9",
            "3dc7666a1cca43ac8da48d938ccec9bf",
            "6f164ad53caf4fcfa367075ceefd5e38",
            "945cb153b671480aa47fca3f671bfbbd",
            "1297e577384d438baf63d352dac1145c"
          ]
        },
        "id": "_m6uUjjcfbjH",
        "outputId": "2a5c6236-0b30-448a-f74c-9a2cc5543376"
      },
      "source": [
        "vocab_train = common_voice_train.map(extract_all_chars, batched=True, batch_size=-1, keep_in_memory=True, remove_columns=common_voice_train.column_names)\n",
        "vocab_test = common_voice_test.map(extract_all_chars, batched=True, batch_size=-1, keep_in_memory=True, remove_columns=common_voice_test.column_names)"
      ],
      "execution_count": null,
      "outputs": [
        {
          "output_type": "display_data",
          "data": {
            "application/vnd.jupyter.widget-view+json": {
              "model_id": "e41d14028e1b4b879c3b85354f442464",
              "version_minor": 0,
              "version_major": 2
            },
            "text/plain": [
              "HBox(children=(FloatProgress(value=0.0, max=1.0), HTML(value='')))"
            ]
          },
          "metadata": {
            "tags": []
          }
        },
        {
          "output_type": "stream",
          "text": [
            "\n"
          ],
          "name": "stdout"
        }
      ]
    },
    {
      "cell_type": "markdown",
      "metadata": {
        "id": "7oVgE8RZSJNP"
      },
      "source": [
        "Now, we create the union of all distinct letters in the training dataset and test dataset and convert the resulting list into an enumerated dictionary."
      ]
    },
    {
      "cell_type": "code",
      "metadata": {
        "id": "aQfneNsmlJI0"
      },
      "source": [
        "vocab_list = list(set(vocab_train[\"vocab\"][0]) | set(vocab_test[\"vocab\"][0]))"
      ],
      "execution_count": null,
      "outputs": []
    },
    {
      "cell_type": "code",
      "metadata": {
        "colab": {
          "base_uri": "https://localhost:8080/"
        },
        "id": "_0kRndSvqaKk",
        "outputId": "9cc2f6fc-4d4b-43b7-a677-71d0dcc17ca6"
      },
      "source": [
        "vocab_dict = {v: k for k, v in enumerate(vocab_list)}\n",
        "vocab_dict"
      ],
      "execution_count": null,
      "outputs": [
        {
          "output_type": "execute_result",
          "data": {
            "text/plain": [
              "{' ': 17,\n",
              " 'a': 18,\n",
              " 'b': 31,\n",
              " 'c': 16,\n",
              " 'd': 1,\n",
              " 'e': 22,\n",
              " 'f': 3,\n",
              " 'g': 29,\n",
              " 'h': 10,\n",
              " 'i': 7,\n",
              " 'j': 2,\n",
              " 'k': 5,\n",
              " 'l': 25,\n",
              " 'm': 20,\n",
              " 'n': 8,\n",
              " 'o': 19,\n",
              " 'p': 21,\n",
              " 'q': 11,\n",
              " 'r': 6,\n",
              " 's': 15,\n",
              " 't': 30,\n",
              " 'u': 23,\n",
              " 'v': 14,\n",
              " 'w': 13,\n",
              " 'x': 32,\n",
              " 'y': 24,\n",
              " 'z': 26,\n",
              " 'á': 12,\n",
              " 'é': 9,\n",
              " 'í': 27,\n",
              " 'ñ': 28,\n",
              " 'ó': 0,\n",
              " 'ú': 4}"
            ]
          },
          "metadata": {
            "tags": []
          },
          "execution_count": 17
        }
      ]
    },
    {
      "cell_type": "markdown",
      "metadata": {
        "id": "JOSzbvs9SXT1"
      },
      "source": [
        "Cool, we see that all letters of the alphabet occur in the dataset (which is not really surprising) and we also extracted the special characters `\" \"` and `'`. Note that we did not exclude those special characters because: \n",
        "\n",
        "- The model has to learn to predict when a word is finished or else the model prediction would always be a sequence of chars which would make it impossible to separate words from each other.\n",
        "- From the transcriptions above it seems that words that include an apostrophe, such as `maktouf'un` do exist in Turkish, so I decided to keep the apostrophe in the dataset. This might be a wrong assumption though.\n",
        "\n",
        "One should always keep in mind that the data-preprocessing is a very important step before training your model. E.g., we don't want our model to differentiate between `a` and `A` just because we forgot to normalize the data. The difference between `a` and `A` does not depend on the \"sound\" of the letter at all, but more on grammatical rules - *e.g.* use a capitalized letter at the beginning of the sentence. So it is sensible to remove the difference between capitalized and non-capitalized letters so that the model has an easier time learning to transcribe speech. \n",
        "\n",
        "It is always advantageous to get help from a native speaker of the language you would like to transcribe to verify whether the assumptions you made are sensible, *e.g.* I should have made sure that keeping `'`, but removing other special characters is a sensible choice for Turkish. "
      ]
    },
    {
      "cell_type": "markdown",
      "metadata": {
        "id": "b1fBRCn-TRaO"
      },
      "source": [
        "To make it clearer that `\" \"` has its own token class, we give it a more visible character `|`. In addition, we also add an \"unknown\" token so that the model can later deal with characters not encountered in Common Voice's training set. \n",
        "\n",
        "Finally, we also add a padding token that corresponds to CTC's \"*blank token*\". The \"blank token\" is a core component of the CTC algorithm. For more information, please take a look at the \"Alignment\" section [here](https://distill.pub/2017/ctc/)."
      ]
    },
    {
      "cell_type": "code",
      "metadata": {
        "id": "npbIbBoLgaFX"
      },
      "source": [
        "vocab_dict[\"|\"] = vocab_dict[\" \"]\n",
        "del vocab_dict[\" \"]"
      ],
      "execution_count": null,
      "outputs": []
    },
    {
      "cell_type": "code",
      "metadata": {
        "id": "znF0bNunsjbl",
        "colab": {
          "base_uri": "https://localhost:8080/"
        },
        "outputId": "1bb7df17-96d2-4a0c-a6a7-8a63d5314a4c"
      },
      "source": [
        "vocab_dict[\"[UNK]\"] = len(vocab_dict)\n",
        "vocab_dict[\"[PAD]\"] = len(vocab_dict)\n",
        "len(vocab_dict)"
      ],
      "execution_count": null,
      "outputs": [
        {
          "output_type": "execute_result",
          "data": {
            "text/plain": [
              "35"
            ]
          },
          "metadata": {
            "tags": []
          },
          "execution_count": 48
        }
      ]
    },
    {
      "cell_type": "markdown",
      "metadata": {
        "id": "SFPGfet8U5sL"
      },
      "source": [
        "Cool, now our vocabulary is complete and consists of 39 tokens, which means that the linear layer that we will add on top of the pretrained XLSR-Wav2Vec2 checkpoint will have an output dimension of 39."
      ]
    },
    {
      "cell_type": "markdown",
      "metadata": {
        "id": "1CujRgBNVRaD"
      },
      "source": [
        "Let's now save the vocabulary as a json file."
      ]
    },
    {
      "cell_type": "code",
      "metadata": {
        "id": "ehyUoh9vk191"
      },
      "source": [
        "import json\n",
        "with open('vocab.json', 'w') as vocab_file:\n",
        "    json.dump(vocab_dict, vocab_file)"
      ],
      "execution_count": null,
      "outputs": []
    },
    {
      "cell_type": "markdown",
      "metadata": {
        "id": "SHJDaKlIVVim"
      },
      "source": [
        "In a final step, we use the json file to instantiate an object of the `Wav2Vec2CTCTokenizer` class."
      ]
    },
    {
      "cell_type": "code",
      "metadata": {
        "id": "xriFGEWQkO4M"
      },
      "source": [
        "from transformers import Wav2Vec2CTCTokenizer\n",
        "\n",
        "tokenizer = Wav2Vec2CTCTokenizer(\"/content/drive/MyDrive/wav2vec2-large-xlsr-gl/vocab.json\", unk_token=\"[UNK]\", pad_token=\"[PAD]\", word_delimiter_token=\"|\")"
      ],
      "execution_count": null,
      "outputs": []
    },
    {
      "cell_type": "markdown",
      "metadata": {
        "id": "KvL12DrNV4cx"
      },
      "source": [
        "Next, we will create the feature extractor."
      ]
    },
    {
      "cell_type": "markdown",
      "metadata": {
        "id": "mYcIiR2FQ96i"
      },
      "source": [
        "### Create XLSR-Wav2Vec2 Feature Extractor"
      ]
    },
    {
      "cell_type": "markdown",
      "metadata": {
        "id": "Y6mDEyW719rx"
      },
      "source": [
        "Speech is a continuous signal and to be treated by computers, it first has to be discretized, which is usually called **sampling**. The sampling rate hereby plays an important role in that it defines how many data points of the speech signal are measured per second. Therefore, sampling with a higher sampling rate results in a better approximation of the *real* speech signal but also necessitates more values per second.\n",
        "\n",
        "A pretrained checkpoint expects its input data to have been sampled more or less from the same distribution as the data it was trained on. The same speech signals sampled at two different rates have a very different distribution, *e.g.*, doubling the sampling rate results in data points being twice as long. Thus, \n",
        "before fine-tuning a pretrained checkpoint of an ASR model, it is crucial to verify that the sampling rate of the data that was used to pretrain the model matches the sampling rate of the dataset used to fine-tune the model.\n",
        "\n",
        "XLSR-Wav2Vec2 was pretrained on the audio data of [Babel](https://huggingface.co/datasets/librispeech_asr), \n",
        "[Multilingual LibriSpeech (MLS)](https://ai.facebook.com/blog/a-new-open-data-set-for-multilingual-speech-research/), and [Common Voice](https://huggingface.co/datasets/common_voice). Most of those datasets were sampled at 16kHz, so that Common Voice, sampled at 48kHz, has to be downsampled to 16kHz for training. Therefore, we will have to downsample our fine-tuning data to 16kHz in the following.\n",
        "\n"
      ]
    },
    {
      "cell_type": "markdown",
      "metadata": {
        "id": "KuUbPW7oV-B5"
      },
      "source": [
        "A XLSR-Wav2Vec2 feature extractor object requires the following parameters to be instantiated:\n",
        "\n",
        "- `feature_size`: Speech models take a sequence of feature vectors as an input. While the length of this sequence obviously varies, the feature size should not. In the case of Wav2Vec2, the feature size is 1 because the model was trained on the raw speech signal ${}^2$.\n",
        "- `sampling_rate`: The sampling rate at which the model is trained on.\n",
        "- `padding_value`: For batched inference, shorter inputs need to be padded with a specific value\n",
        "- `do_normalize`: Whether the input should be *zero-mean-unit-variance* normalized or not. Usually, speech models perform better when normalizing the input\n",
        "- `return_attention_mask`: Whether the model should make use of an `attention_mask` for batched inference. In general, XLSR-Wav2Vec2 models should **always** make use of the `attention_mask`."
      ]
    },
    {
      "cell_type": "code",
      "metadata": {
        "id": "kAR0-2KLkopp"
      },
      "source": [
        "from transformers import Wav2Vec2FeatureExtractor\n",
        "\n",
        "feature_extractor = Wav2Vec2FeatureExtractor(feature_size=1, sampling_rate=16000, padding_value=0.0, do_normalize=True, return_attention_mask=True)"
      ],
      "execution_count": null,
      "outputs": []
    },
    {
      "cell_type": "markdown",
      "metadata": {
        "id": "qUETetgqYC3W"
      },
      "source": [
        "Great, XLSR-Wav2Vec2's feature extraction pipeline is thereby fully defined!\n",
        "\n",
        "To make the usage of XLSR-Wav2Vec2 as user-friendly as possible, the feature extractor and tokenizer are *wrapped* into a single `Wav2Vec2Processor` class so that one only needs a `model` and `processor` object."
      ]
    },
    {
      "cell_type": "code",
      "metadata": {
        "id": "KYZtoW-tlZgl"
      },
      "source": [
        "from transformers import Wav2Vec2Processor\n",
        "\n",
        "processor = Wav2Vec2Processor(feature_extractor=feature_extractor, tokenizer=tokenizer)"
      ],
      "execution_count": null,
      "outputs": []
    },
    {
      "cell_type": "markdown",
      "metadata": {
        "id": "fTfFDSS0YfMN"
      },
      "source": [
        "If one wants to re-use the just created processor and the fine-tuned model of this notebook, one can mount his/her google drive to the notebook and save all relevant files there. To do so, please uncomment the following lines. \n",
        "\n",
        "We will give the fine-tuned model the name `\"wav2vec2-large-xlsr-turkish-demo\"`."
      ]
    },
    {
      "cell_type": "code",
      "metadata": {
        "id": "yq7Bzuzz4zjQ",
        "colab": {
          "base_uri": "https://localhost:8080/"
        },
        "outputId": "419faa94-b24f-4044-877a-ce511978c97d"
      },
      "source": [
        "# from google.colab import drive\n",
        "# drive.mount('/content/gdrive/')"
      ],
      "execution_count": null,
      "outputs": [
        {
          "output_type": "stream",
          "text": [
            "Mounted at /content/gdrive/\n"
          ],
          "name": "stdout"
        }
      ]
    },
    {
      "cell_type": "code",
      "metadata": {
        "id": "Par9rpypPsml"
      },
      "source": [
        "processor.save_pretrained(\"/content/drive/MyDrive/wav2vec2-large-xlsr-gl\")"
      ],
      "execution_count": null,
      "outputs": []
    },
    {
      "cell_type": "markdown",
      "metadata": {
        "id": "DrKnYuvDIoOO"
      },
      "source": [
        "Next, we can prepare the dataset."
      ]
    },
    {
      "cell_type": "markdown",
      "metadata": {
        "id": "YFmShnl7RE35"
      },
      "source": [
        "### Preprocess Data\n",
        "\n",
        "So far, we have not looked at the actual values of the speech signal but just kept the path to its file in the dataset. `XLSR-Wav2Vec2` expects the audio file in the format of a 1-dimensional array, so in the first step, let's load all audio files into the dataset object.\n",
        "\n",
        "Let's first check the serialization format of the downloaded audio files by looking at the first training sample."
      ]
    },
    {
      "cell_type": "code",
      "metadata": {
        "colab": {
          "base_uri": "https://localhost:8080/"
        },
        "id": "TTCS7W6XJ9BG",
        "outputId": "f155d43a-1654-47c2-c8e4-279f067d304d"
      },
      "source": [
        "common_voice_train[0]"
      ],
      "execution_count": null,
      "outputs": [
        {
          "output_type": "execute_result",
          "data": {
            "text/plain": [
              "{'audio_filepath': '/content/drive/MyDrive/speech/elra/glf_07049_00632876449.wav',\n",
              " 'duration': 5.290666666666667,\n",
              " 'sentence': 'washington dc é a capital dos estados unidos de américa ',\n",
              " 'text': 'washington dc é a capital dos estados unidos de américa\\n'}"
            ]
          },
          "metadata": {
            "tags": []
          },
          "execution_count": 54
        }
      ]
    },
    {
      "cell_type": "markdown",
      "metadata": {
        "id": "wSBIGEiaKHMn"
      },
      "source": [
        "Alright, the audio file is saved in the `.mp3` format. The `.mp3` format is usually not the easiest format to deal with. We found that the [`torchaudio`](https://pytorch.org/audio/stable/index.html) library works best for reading in `.mp3` data. \n",
        "\n",
        "An audio file usually stores both its values and the sampling rate with which the speech signal was digitalized. We want to store both in the dataset and write a `map(...)` function accordingly."
      ]
    },
    {
      "cell_type": "code",
      "metadata": {
        "id": "al9Luo4LPpwJ"
      },
      "source": [
        "import torchaudio\n",
        "\n",
        "def speech_file_to_array_fn(batch):\n",
        "    speech_array, sampling_rate = torchaudio.load(batch[\"audio_filepath\"])\n",
        "    batch[\"speech\"] = speech_array[0].numpy()\n",
        "    batch[\"sampling_rate\"] = sampling_rate\n",
        "    batch[\"target_text\"] = batch[\"sentence\"]\n",
        "    return batch"
      ],
      "execution_count": null,
      "outputs": []
    },
    {
      "cell_type": "code",
      "metadata": {
        "colab": {
          "base_uri": "https://localhost:8080/",
          "height": 66,
          "referenced_widgets": [
            "f5b5d8181edd4f9d83ade0f0f3106394",
            "cc0bebae427441edaa9a438633ac4f2e",
            "3c1c734473f341ec96a34adc7296f4c2",
            "7ed73425ef9f407cb23677b5a3d9a1a4",
            "b9440d5d0d84400195ce450a0df4b3f4",
            "5e4df211a6c1468db411dc02fbbf0248",
            "e683e8f937ad4c8fa25902beac5edd83",
            "1388db83bae9422d916661a816bce3ae"
          ]
        },
        "id": "afeicUeWlrRL",
        "outputId": "262f08e4-7d52-439f-a224-5abf390dc0ed"
      },
      "source": [
        "common_voice_train = common_voice_train.map(speech_file_to_array_fn, remove_columns=common_voice_train.column_names)\n",
        "common_voice_test = common_voice_test.map(speech_file_to_array_fn, remove_columns=common_voice_test.column_names)"
      ],
      "execution_count": null,
      "outputs": [
        {
          "output_type": "display_data",
          "data": {
            "application/vnd.jupyter.widget-view+json": {
              "model_id": "f5b5d8181edd4f9d83ade0f0f3106394",
              "version_minor": 0,
              "version_major": 2
            },
            "text/plain": [
              "HBox(children=(FloatProgress(value=0.0, max=808.0), HTML(value='')))"
            ]
          },
          "metadata": {
            "tags": []
          }
        },
        {
          "output_type": "stream",
          "text": [
            "\n"
          ],
          "name": "stdout"
        }
      ]
    },
    {
      "cell_type": "markdown",
      "metadata": {
        "id": "ki5sXmzucc9Q"
      },
      "source": [
        "Great, now we've successfully read in all the audio files, but since we know that Common Voice is sampled at 48kHz, we need to resample the audio files to 16kHz. \n",
        "\n",
        "Let's make use of the [`librosa`](https://github.com/librosa/librosa) library to downsample the data."
      ]
    },
    {
      "cell_type": "code",
      "metadata": {
        "id": "6Y6AK3Z-kHwP"
      },
      "source": [
        "import librosa\n",
        "import numpy as np\n",
        "\n",
        "def resample(batch):\n",
        "    batch[\"speech\"] = librosa.resample(np.asarray(batch[\"speech\"]), 48_000, 16_000)\n",
        "    batch[\"sampling_rate\"] = 16_000\n",
        "    return batch"
      ],
      "execution_count": null,
      "outputs": []
    },
    {
      "cell_type": "code",
      "metadata": {
        "colab": {
          "base_uri": "https://localhost:8080/",
          "height": 230,
          "referenced_widgets": [
            "5c34dae34ef24da8a9d4228a35ab9f38",
            "c0cbd444c08e4b0bad75515f909ed3dd",
            "cfaaa2f7351f485aa7f1391d3c43c82b",
            "1117102e312f49b3ae7b04b8119ce771",
            "46c5d5522a5548eab1212a699c336e7f",
            "07ddf07dc8724e268b4ec7dcb8b02f40",
            "ddda24f83354468fbefc2e498a878cf2",
            "7bb5fd372cc6474aaf45ce41b304509e",
            "ad5e398d24cd48c1ae73e270e4c212b6",
            "91a5ea5eefbd47bf98b0dcc1323c01dd",
            "17e2314cecb94fa893f7465fb69a6e09",
            "f2c12cfe8b61421cb92ad7f3ab486f14",
            "30e287dfa15a445d958765448a4c749c",
            "8ee1bc2659f6416e93e083f79b697c5b",
            "63822aa8f7c9492f878786fe3ea70c6c",
            "407d5acf1eeb4dfb8ff32a255dd610bd",
            "382f68147e174d5ead03023959073b13",
            "01711f8e146649f7a9c005aed826b8cd",
            "943081c77b124853847fefa0a69556ce",
            "7d94ac6a1f2f423e8a8cbdf5bdfea2e1",
            "52f3bb03f4ee4f2c9207e912f75d3009",
            "4d2dbddb5fd44bb49b16b2a2a3c099da",
            "919882d5f4394394845080abfd177b7c",
            "10f674a6250c458287c3d999b1b95d95",
            "e58bffa0cc6947bea3bbdfe6f4f5a687",
            "1611e8763d8a49818d30eda48ac9a473",
            "4b281b09684a4173b3f360d2507339bb",
            "39ae602bbb864f2f86d2e310b79d5f3d",
            "1c59d650e4aa464bad42b9fb679d1b8a",
            "fe1f5782cc134178aef5a4b31b6ba34c",
            "ba96fd5674db4051af52892006f78d1e",
            "efe5c009fca14b35b447a2ba49306714"
          ]
        },
        "id": "Ws8DyIL_kjwT",
        "outputId": "ebac7bf1-5002-47dd-e939-aebd94087eeb"
      },
      "source": [
        "common_voice_train = common_voice_train.map(resample, num_proc=4)\n",
        "common_voice_test = common_voice_test.map(resample, num_proc=4)"
      ],
      "execution_count": null,
      "outputs": [
        {
          "output_type": "stream",
          "text": [
            "    "
          ],
          "name": "stdout"
        },
        {
          "output_type": "display_data",
          "data": {
            "application/vnd.jupyter.widget-view+json": {
              "model_id": "5c34dae34ef24da8a9d4228a35ab9f38",
              "version_minor": 0,
              "version_major": 2
            },
            "text/plain": [
              "HBox(children=(FloatProgress(value=0.0, description='#0', max=202.0, style=ProgressStyle(description_width='in…"
            ]
          },
          "metadata": {
            "tags": []
          }
        },
        {
          "output_type": "display_data",
          "data": {
            "application/vnd.jupyter.widget-view+json": {
              "model_id": "ad5e398d24cd48c1ae73e270e4c212b6",
              "version_minor": 0,
              "version_major": 2
            },
            "text/plain": [
              "HBox(children=(FloatProgress(value=0.0, description='#2', max=202.0, style=ProgressStyle(description_width='in…"
            ]
          },
          "metadata": {
            "tags": []
          }
        },
        {
          "output_type": "display_data",
          "data": {
            "application/vnd.jupyter.widget-view+json": {
              "model_id": "382f68147e174d5ead03023959073b13",
              "version_minor": 0,
              "version_major": 2
            },
            "text/plain": [
              "HBox(children=(FloatProgress(value=0.0, description='#3', max=202.0, style=ProgressStyle(description_width='in…"
            ]
          },
          "metadata": {
            "tags": []
          }
        },
        {
          "output_type": "display_data",
          "data": {
            "application/vnd.jupyter.widget-view+json": {
              "model_id": "e58bffa0cc6947bea3bbdfe6f4f5a687",
              "version_minor": 0,
              "version_major": 2
            },
            "text/plain": [
              "HBox(children=(FloatProgress(value=0.0, description='#1', max=202.0, style=ProgressStyle(description_width='in…"
            ]
          },
          "metadata": {
            "tags": []
          }
        },
        {
          "output_type": "stream",
          "text": [
            "\n",
            "\n",
            "\n",
            "\n"
          ],
          "name": "stdout"
        }
      ]
    },
    {
      "cell_type": "markdown",
      "metadata": {
        "id": "SOckzFd4Mbzq"
      },
      "source": [
        "This seemed to have worked! Let's listen to a couple of audio files to better understand the dataset and verify that the audio was correctly loaded. \n",
        "\n",
        "**Note**: *You can click the following cell a couple of times to listen to different speech samples.*"
      ]
    },
    {
      "cell_type": "code",
      "metadata": {
        "colab": {
          "base_uri": "https://localhost:8080/",
          "height": 75
        },
        "id": "dueM6U7Ev0OA",
        "outputId": "ab950279-d460-426c-fa10-f99e677c6fd1"
      },
      "source": [
        "import IPython.display as ipd\n",
        "import numpy as np\n",
        "import random\n",
        "\n",
        "rand_int = random.randint(0, len(common_voice_train)-1)\n",
        "\n",
        "ipd.Audio(data=np.asarray(common_voice_train[rand_int][\"speech\"]), autoplay=True, rate=16000)"
      ],
      "execution_count": null,
      "outputs": [
        {
          "output_type": "execute_result",
          "data": {
            "text/html": [
              "\n",
              "                <audio controls=\"controls\" autoplay=\"autoplay\">\n",
              "                    <source src=\"data:audio/wav;base64,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\" type=\"audio/wav\" />\n",
              "                    Your browser does not support the audio element.\n",
              "                </audio>\n",
              "              "
            ],
            "text/plain": [
              "<IPython.lib.display.Audio object>"
            ]
          },
          "metadata": {
            "tags": []
          },
          "execution_count": 59
        }
      ]
    },
    {
      "cell_type": "markdown",
      "metadata": {
        "id": "1MaL9J2dNVtG"
      },
      "source": [
        "It can be heard, that the speakers change along with their speaking rate, accent, and background environment, etc. Overall, the recordings sound acceptably clear though, which is to be expected from a crowd-sourced read speech corpus.\n",
        "\n",
        "Let's do a final check that the data is correctly prepared, by printing the shape of the speech input, its transcription, and the corresponding sampling rate.\n",
        "\n",
        "**Note**: *You can click the following cell a couple of times to verify multiple samples.*"
      ]
    },
    {
      "cell_type": "code",
      "metadata": {
        "colab": {
          "base_uri": "https://localhost:8080/"
        },
        "id": "1Po2g7YPuRTx",
        "outputId": "028196e0-4bd9-4c1d-b102-06b1cbcf05e4"
      },
      "source": [
        "rand_int = random.randint(0, len(common_voice_train)-1)\n",
        "\n",
        "print(\"Target text:\", common_voice_train[rand_int][\"target_text\"])\n",
        "print(\"Input array shape:\", np.asarray(common_voice_train[rand_int][\"speech\"]).shape)\n",
        "print(\"Sampling rate:\", common_voice_train[rand_int][\"sampling_rate\"])"
      ],
      "execution_count": null,
      "outputs": [
        {
          "output_type": "stream",
          "text": [
            "Target text: a programación de discovery channel é moi boa \n",
            "Input array shape: (57344,)\n",
            "Sampling rate: 16000\n"
          ],
          "name": "stdout"
        }
      ]
    },
    {
      "cell_type": "markdown",
      "metadata": {
        "id": "M9teZcSwOBJ4"
      },
      "source": [
        "Good! Everything looks fine - the data is a 1-dimensional array, the sampling rate always corresponds to 16kHz, and the target text is normalized."
      ]
    },
    {
      "cell_type": "markdown",
      "metadata": {
        "id": "k3Pbn5WvOYZF"
      },
      "source": [
        "Finally, we can process the dataset to the format expected by the model for training. We will again make use of the `map(...)` function.\n",
        "\n",
        "First, we check that the data samples have the same sampling rate of 16kHz.\n",
        "Second, we extract the `input_values` from the loaded audio file. In our case, this includes only normalization, but for other speech models, this step could correspond to extracting, *e.g.* [Log-Mel features](https://en.wikipedia.org/wiki/Mel-frequency_cepstrum). \n",
        "Third, we encode the transcriptions to label ids.\n",
        "\n",
        "**Note**: This mapping function is a good example of how the `Wav2Vec2Processor` class should be used. In \"normal\" context, calling `processor(...)` is redirected to `Wav2Vec2FeatureExtractor`'s call method. When wrapping the processor into the `as_target_processor` context, however, the same method is redirected to `Wav2Vec2CTCTokenizer`'s call method.\n",
        "For more information please check the [docs](https://huggingface.co/transformers/master/model_doc/wav2vec2.html#transformers.Wav2Vec2Processor.__call__)."
      ]
    },
    {
      "cell_type": "code",
      "metadata": {
        "id": "eJY7I0XAwe9p"
      },
      "source": [
        "def prepare_dataset(batch):\n",
        "    # check that all files have the correct sampling rate\n",
        "    assert (\n",
        "        len(set(batch[\"sampling_rate\"])) == 1\n",
        "    ), f\"Make sure all inputs have the same sampling rate of {processor.feature_extractor.sampling_rate}.\"\n",
        "\n",
        "    batch[\"input_values\"] = processor(batch[\"speech\"], sampling_rate=batch[\"sampling_rate\"][0]).input_values\n",
        "    \n",
        "    with processor.as_target_processor():\n",
        "        batch[\"labels\"] = processor(batch[\"target_text\"]).input_ids\n",
        "    return batch"
      ],
      "execution_count": null,
      "outputs": []
    },
    {
      "cell_type": "code",
      "metadata": {
        "colab": {
          "base_uri": "https://localhost:8080/",
          "height": 284,
          "referenced_widgets": [
            "5b789a31a3844c098b2693c07f3cee6a",
            "b0cbbf334e814da5a9eda52801dfe8ae",
            "f403d2ed57184bc5b199b821a4c02224",
            "6a652875ff944bb292ad6057b68478e2",
            "f39b4542590048b49d0e3e9e7fce980c",
            "46601e8d197a466ebb4038568db75af6",
            "875c6fc00af94d849b8d19f13562de0d",
            "98c41b4ae582477baff759d0f1d84e3b",
            "6b2f4485671245c6ba523dc73e4f55eb",
            "77b569e2386f4cb49d10ebd83bc1ea8c",
            "6e59f84f3e824923a8c2297a20f0032c",
            "1e88956c48704458a2fdd09d6e8e035c",
            "eeec742f892d43fa91ef4a7eaa3400fd",
            "d6410370c5cd48d78810dbf1a29f7891",
            "2943c0f367954bfaacc7be7677beb978",
            "2c428b1ecc2a4d46a5150818f1bbe9a7",
            "984122310f4d49f59f6078d7ee2615d5",
            "a29096004f674dcea67d89d9f982a905",
            "df1c9f5c73df4238bba729222d7325b7",
            "84918a25411d45ca8e6e3386ab366010",
            "5136a250943443d0ae3dcc553343c42c",
            "94c3b6dfea0d45119c7da0881fc24cc7",
            "a639b863bdda4e12a61b24c47281187a",
            "300ce93f1eed47b39a6ead50144975c6",
            "f3e6b5ea58924425a9a268f0a1eaf66e",
            "ecb349fe96a04f3c98fd3dcf5efb15be",
            "49b3bb9be65544f892d1ebefe5c2a12d",
            "86f3a70fea474f92a290cfbfe474b230",
            "05de8063a7394d64816cc9cf5c108d58",
            "d03b2c3c395f49f883b8cfb3e6d16881",
            "0eab265306eb4cf5b3b954fce56f3126",
            "08f25b703ae841e8840bed0d14064e92"
          ]
        },
        "id": "-np9xYK-wl8q",
        "outputId": "89cb0b1c-f040-4eec-c4b0-61b70170541a"
      },
      "source": [
        "common_voice_train = common_voice_train.map(prepare_dataset, remove_columns=common_voice_train.column_names, batch_size=8, num_proc=4, batched=True)\n",
        "common_voice_test = common_voice_test.map(prepare_dataset, remove_columns=common_voice_test.column_names, batch_size=8, num_proc=4, batched=True)"
      ],
      "execution_count": null,
      "outputs": [
        {
          "output_type": "stream",
          "text": [
            "/usr/local/lib/python3.7/dist-packages/numpy/core/_asarray.py:83: VisibleDeprecationWarning: Creating an ndarray from ragged nested sequences (which is a list-or-tuple of lists-or-tuples-or ndarrays with different lengths or shapes) is deprecated. If you meant to do this, you must specify 'dtype=object' when creating the ndarray\n",
            "  return array(a, dtype, copy=False, order=order)\n"
          ],
          "name": "stderr"
        },
        {
          "output_type": "stream",
          "text": [
            "    "
          ],
          "name": "stdout"
        },
        {
          "output_type": "display_data",
          "data": {
            "application/vnd.jupyter.widget-view+json": {
              "model_id": "5b789a31a3844c098b2693c07f3cee6a",
              "version_minor": 0,
              "version_major": 2
            },
            "text/plain": [
              "HBox(children=(FloatProgress(value=0.0, description='#2', max=26.0, style=ProgressStyle(description_width='ini…"
            ]
          },
          "metadata": {
            "tags": []
          }
        },
        {
          "output_type": "display_data",
          "data": {
            "application/vnd.jupyter.widget-view+json": {
              "model_id": "6b2f4485671245c6ba523dc73e4f55eb",
              "version_minor": 0,
              "version_major": 2
            },
            "text/plain": [
              "HBox(children=(FloatProgress(value=0.0, description='#0', max=26.0, style=ProgressStyle(description_width='ini…"
            ]
          },
          "metadata": {
            "tags": []
          }
        },
        {
          "output_type": "display_data",
          "data": {
            "application/vnd.jupyter.widget-view+json": {
              "model_id": "984122310f4d49f59f6078d7ee2615d5",
              "version_minor": 0,
              "version_major": 2
            },
            "text/plain": [
              "HBox(children=(FloatProgress(value=0.0, description='#1', max=26.0, style=ProgressStyle(description_width='ini…"
            ]
          },
          "metadata": {
            "tags": []
          }
        },
        {
          "output_type": "display_data",
          "data": {
            "application/vnd.jupyter.widget-view+json": {
              "model_id": "f3e6b5ea58924425a9a268f0a1eaf66e",
              "version_minor": 0,
              "version_major": 2
            },
            "text/plain": [
              "HBox(children=(FloatProgress(value=0.0, description='#3', max=26.0, style=ProgressStyle(description_width='ini…"
            ]
          },
          "metadata": {
            "tags": []
          }
        },
        {
          "output_type": "stream",
          "text": [
            "\n",
            "\n",
            "\n",
            "\n"
          ],
          "name": "stdout"
        }
      ]
    },
    {
      "cell_type": "markdown",
      "metadata": {
        "id": "gYlQkKVoRUos"
      },
      "source": [
        "## Training\n",
        "\n",
        "The data is processed so that we are ready to start setting up the training pipeline. We will make use of 🤗's [Trainer](https://huggingface.co/transformers/master/main_classes/trainer.html?highlight=trainer) for which we essentially need to do the following:\n",
        "\n",
        "- Define a data collator. In contrast to most NLP models, XLSR-Wav2Vec2 has a much larger input length than output length. *E.g.*, a sample of input length 50000 has an output length of no more than 100. Given the large input sizes, it is much more efficient to pad the training batches dynamically meaning that all training samples should only be padded to the longest sample in their batch and not the overall longest sample. Therefore, fine-tuning XLSR-Wav2Vec2 requires a special padding data collator, which we will define below\n",
        "\n",
        "- Evaluation metric. During training, the model should be evaluated on the word error rate. We should define a `compute_metrics` function accordingly\n",
        "\n",
        "- Load a pretrained checkpoint. We need to load a pretrained checkpoint and configure it correctly for training.\n",
        "\n",
        "- Define the training configuration.\n",
        "\n",
        "After having fine-tuned the model, we will correctly evaluate it on the test data and verify that it has indeed learned to correctly transcribe speech."
      ]
    },
    {
      "cell_type": "markdown",
      "metadata": {
        "id": "Slk403unUS91"
      },
      "source": [
        "### Set-up Trainer\n",
        "\n",
        "Let's start by defining the data collator. The code for the data collator was copied from [this example](https://github.com/huggingface/transformers/blob/9a06b6b11bdfc42eea08fa91d0c737d1863c99e3/examples/research_projects/wav2vec2/run_asr.py#L81).\n",
        "\n",
        "Without going into too many details, in contrast to the common data collators, this data collator treats the `input_values` and `labels` differently and thus applies to separate padding functions on them (again making use of XLSR-Wav2Vec2's context manager). This is necessary because in speech input and output are of different modalities meaning that they should not be treated by the same padding function.\n",
        "Analogous to the common data collators, the padding tokens in the labels with `-100` so that those tokens are **not** taken into account when computing the loss."
      ]
    },
    {
      "cell_type": "code",
      "metadata": {
        "id": "tborvC9hx88e"
      },
      "source": [
        "import torch\n",
        "\n",
        "from dataclasses import dataclass, field\n",
        "from typing import Any, Dict, List, Optional, Union\n",
        "\n",
        "@dataclass\n",
        "class DataCollatorCTCWithPadding:\n",
        "    \"\"\"\n",
        "    Data collator that will dynamically pad the inputs received.\n",
        "    Args:\n",
        "        processor (:class:`~transformers.Wav2Vec2Processor`)\n",
        "            The processor used for proccessing the data.\n",
        "        padding (:obj:`bool`, :obj:`str` or :class:`~transformers.tokenization_utils_base.PaddingStrategy`, `optional`, defaults to :obj:`True`):\n",
        "            Select a strategy to pad the returned sequences (according to the model's padding side and padding index)\n",
        "            among:\n",
        "            * :obj:`True` or :obj:`'longest'`: Pad to the longest sequence in the batch (or no padding if only a single\n",
        "              sequence if provided).\n",
        "            * :obj:`'max_length'`: Pad to a maximum length specified with the argument :obj:`max_length` or to the\n",
        "              maximum acceptable input length for the model if that argument is not provided.\n",
        "            * :obj:`False` or :obj:`'do_not_pad'` (default): No padding (i.e., can output a batch with sequences of\n",
        "              different lengths).\n",
        "        max_length (:obj:`int`, `optional`):\n",
        "            Maximum length of the ``input_values`` of the returned list and optionally padding length (see above).\n",
        "        max_length_labels (:obj:`int`, `optional`):\n",
        "            Maximum length of the ``labels`` returned list and optionally padding length (see above).\n",
        "        pad_to_multiple_of (:obj:`int`, `optional`):\n",
        "            If set will pad the sequence to a multiple of the provided value.\n",
        "            This is especially useful to enable the use of Tensor Cores on NVIDIA hardware with compute capability >=\n",
        "            7.5 (Volta).\n",
        "    \"\"\"\n",
        "\n",
        "    processor: Wav2Vec2Processor\n",
        "    padding: Union[bool, str] = True\n",
        "    max_length: Optional[int] = None\n",
        "    max_length_labels: Optional[int] = None\n",
        "    pad_to_multiple_of: Optional[int] = None\n",
        "    pad_to_multiple_of_labels: Optional[int] = None\n",
        "\n",
        "    def __call__(self, features: List[Dict[str, Union[List[int], torch.Tensor]]]) -> Dict[str, torch.Tensor]:\n",
        "        # split inputs and labels since they have to be of different lenghts and need\n",
        "        # different padding methods\n",
        "        input_features = [{\"input_values\": feature[\"input_values\"]} for feature in features]\n",
        "        label_features = [{\"input_ids\": feature[\"labels\"]} for feature in features]\n",
        "\n",
        "        batch = self.processor.pad(\n",
        "            input_features,\n",
        "            padding=self.padding,\n",
        "            max_length=self.max_length,\n",
        "            pad_to_multiple_of=self.pad_to_multiple_of,\n",
        "            return_tensors=\"pt\",\n",
        "        )\n",
        "        with self.processor.as_target_processor():\n",
        "            labels_batch = self.processor.pad(\n",
        "                label_features,\n",
        "                padding=self.padding,\n",
        "                max_length=self.max_length_labels,\n",
        "                pad_to_multiple_of=self.pad_to_multiple_of_labels,\n",
        "                return_tensors=\"pt\",\n",
        "            )\n",
        "\n",
        "        # replace padding with -100 to ignore loss correctly\n",
        "        labels = labels_batch[\"input_ids\"].masked_fill(labels_batch.attention_mask.ne(1), -100)\n",
        "\n",
        "        batch[\"labels\"] = labels\n",
        "\n",
        "        return batch"
      ],
      "execution_count": null,
      "outputs": []
    },
    {
      "cell_type": "code",
      "metadata": {
        "id": "lbQf5GuZyQ4_"
      },
      "source": [
        "data_collator = DataCollatorCTCWithPadding(processor=processor, padding=True)"
      ],
      "execution_count": null,
      "outputs": []
    },
    {
      "cell_type": "markdown",
      "metadata": {
        "id": "xO-Zdj-5cxXp"
      },
      "source": [
        "Next, the evaluation metric is defined. As mentioned earlier, the \n",
        "predominant metric in ASR is the word error rate (WER), hence we will use it in this notebook as well."
      ]
    },
    {
      "cell_type": "code",
      "metadata": {
        "id": "9Xsux2gmyXso",
        "colab": {
          "base_uri": "https://localhost:8080/",
          "height": 66,
          "referenced_widgets": [
            "0ebb09dc729a4c3a81176af74eede4fe",
            "88b29d06999c454f9aa0a81e0f2a3297",
            "5d56515929064f788f4d60b946355d1d",
            "549deafa599743f79944784283f4b8f5",
            "9f733fbea70f4b41bb9889b45520217c",
            "55feda0b72014fa4b57a1bd16325915d",
            "04f1cd519bf04a92a630751a46908fec",
            "f8eb9c7beb194bb49089d9dcb248bbdd"
          ]
        },
        "outputId": "f0f3dd10-6048-4bd0-89fe-b8156bbd97d0"
      },
      "source": [
        "wer_metric = load_metric(\"wer\")"
      ],
      "execution_count": null,
      "outputs": [
        {
          "output_type": "display_data",
          "data": {
            "application/vnd.jupyter.widget-view+json": {
              "model_id": "0ebb09dc729a4c3a81176af74eede4fe",
              "version_minor": 0,
              "version_major": 2
            },
            "text/plain": [
              "HBox(children=(FloatProgress(value=0.0, description='Downloading', max=1764.0, style=ProgressStyle(description…"
            ]
          },
          "metadata": {
            "tags": []
          }
        },
        {
          "output_type": "stream",
          "text": [
            "\n"
          ],
          "name": "stdout"
        }
      ]
    },
    {
      "cell_type": "markdown",
      "metadata": {
        "id": "E1qZU5p-deqB"
      },
      "source": [
        "The model will return a sequence of logit vectors:\n",
        "$\\mathbf{y}_1, \\ldots, \\mathbf{y}_m$ with $\\mathbf{y}_1 = f_{\\theta}(x_1, \\ldots, x_n)[0]$ and $n >> m$.\n",
        "\n",
        "A logit vector $\\mathbf{y}_1$ contains the log-odds for each word in the vocabulary we defined earlier, thus $\\text{len}(\\mathbf{y}_i) =$ `config.vocab_size`. We are interested in the most likely prediction of the model and thus take the `argmax(...)` of the logits. Also, we transform the encoded labels back to the original string by replacing `-100` with the `pad_token_id` and decoding the ids while making sure that consecutive tokens are **not** grouped to the same token in CTC style ${}^1$."
      ]
    },
    {
      "cell_type": "code",
      "metadata": {
        "id": "1XZ-kjweyTy_"
      },
      "source": [
        "def compute_metrics(pred):\n",
        "    pred_logits = pred.predictions\n",
        "    pred_ids = np.argmax(pred_logits, axis=-1)\n",
        "\n",
        "    pred.label_ids[pred.label_ids == -100] = processor.tokenizer.pad_token_id\n",
        "\n",
        "    pred_str = processor.batch_decode(pred_ids)\n",
        "    # we do not want to group tokens when computing the metrics\n",
        "    label_str = processor.batch_decode(pred.label_ids, group_tokens=False)\n",
        "\n",
        "    wer = wer_metric.compute(predictions=pred_str, references=label_str)\n",
        "\n",
        "    return {\"wer\": wer}"
      ],
      "execution_count": null,
      "outputs": []
    },
    {
      "cell_type": "markdown",
      "metadata": {
        "id": "Xmgrx4bRwLIH"
      },
      "source": [
        "Now, we can load the pretrained `XLSR-Wav2Vec2` checkpoint. The tokenizer's `pad_token_id` must be to define the model's `pad_token_id` or in the case of `Wav2Vec2ForCTC` also CTC's *blank token* ${}^2$. To save GPU memory, we enable PyTorch's [gradient checkpointing](https://pytorch.org/docs/stable/checkpoint.html) and also set the loss reduction to \"*mean*\".\n",
        "\n",
        "Because the dataset is quite small (~6h of training data) and because Common Voice is quite noisy, fine-tuning Facebook's [wav2vec2-large-xlsr-53 checkpoint](https://huggingface.co/facebook/wav2vec2-large-xlsr-53) seems to require some hyper-parameter tuning. Therefore, I had to play around a bit with different values for dropout, [SpecAugment](https://arxiv.org/abs/1904.08779)'s masking dropout rate, layer dropout, and the learning rate until training seemed to be stable enough. \n",
        "\n",
        "**Note**: When using this notebook to train XLSR-Wav2Vec2 on another language of Common Voice those hyper-parameter settings might not work very well. Feel free to adapt those depending on your use case. "
      ]
    },
    {
      "cell_type": "code",
      "metadata": {
        "colab": {
          "base_uri": "https://localhost:8080/",
          "height": 169,
          "referenced_widgets": [
            "179635caf9e840b9a36d72c01697d64c",
            "012e1811e5814b5a9de3bc3b3c153e48",
            "2b76873b5709461ab98d1e36b13cad61",
            "d4bd74a2ef474b4d9d20e5b47669873c",
            "05c743659863423bb543fe725fcd8ee0",
            "bd900680e3c74b7ea6c516df506700b1",
            "510768a5f1464878805c8930fe3f4eb7",
            "a3160fee11c94f02b4cb7c1df696f597",
            "e318916d8b1e4596be0dee6a95d78ff7",
            "f1be1fc94f2c44808a0533de8a044ca8",
            "1e2db12092f24e689e79e3e3c97b304c",
            "dbd338d41e5e4e14a24b9553beadf8d8",
            "161c6e768439413f9e20d18006b473be",
            "527193280fa14aaca993e706b2cbf727",
            "c01c8ef6c8374275ad88969385e08751",
            "6d542bdae1f6406495fbf83d5dd0a01a"
          ]
        },
        "id": "e7cqAWIayn6w",
        "outputId": "74677dff-dcee-4106-b3c0-a785cce0a2c9"
      },
      "source": [
        "from transformers import Wav2Vec2ForCTC\n",
        "\n",
        "model = Wav2Vec2ForCTC.from_pretrained(\n",
        "    \"facebook/wav2vec2-large-xlsr-53\", \n",
        "    attention_dropout=0.1,\n",
        "    hidden_dropout=0.1,\n",
        "    feat_proj_dropout=0.0,\n",
        "    mask_time_prob=0.05,\n",
        "    layerdrop=0.1,\n",
        "    gradient_checkpointing=True, \n",
        "    ctc_loss_reduction=\"mean\", \n",
        "    pad_token_id=processor.tokenizer.pad_token_id,\n",
        "    vocab_size=len(processor.tokenizer)\n",
        ")"
      ],
      "execution_count": null,
      "outputs": [
        {
          "output_type": "display_data",
          "data": {
            "application/vnd.jupyter.widget-view+json": {
              "model_id": "179635caf9e840b9a36d72c01697d64c",
              "version_minor": 0,
              "version_major": 2
            },
            "text/plain": [
              "HBox(children=(FloatProgress(value=0.0, description='Downloading', max=1451.0, style=ProgressStyle(description…"
            ]
          },
          "metadata": {
            "tags": []
          }
        },
        {
          "output_type": "stream",
          "text": [
            "\n"
          ],
          "name": "stdout"
        },
        {
          "output_type": "display_data",
          "data": {
            "application/vnd.jupyter.widget-view+json": {
              "model_id": "e318916d8b1e4596be0dee6a95d78ff7",
              "version_minor": 0,
              "version_major": 2
            },
            "text/plain": [
              "HBox(children=(FloatProgress(value=0.0, description='Downloading', max=1261920069.0, style=ProgressStyle(descr…"
            ]
          },
          "metadata": {
            "tags": []
          }
        },
        {
          "output_type": "stream",
          "text": [
            "\n"
          ],
          "name": "stdout"
        },
        {
          "output_type": "stream",
          "text": [
            "Some weights of Wav2Vec2ForCTC were not initialized from the model checkpoint at facebook/wav2vec2-large-xlsr-53 and are newly initialized: ['lm_head.weight', 'lm_head.bias']\n",
            "You should probably TRAIN this model on a down-stream task to be able to use it for predictions and inference.\n"
          ],
          "name": "stderr"
        }
      ]
    },
    {
      "cell_type": "markdown",
      "metadata": {
        "id": "1DwR3XLSzGDD"
      },
      "source": [
        "The first component of XLSR-Wav2Vec2 consists of a stack of CNN layers that are used to extract acoustically meaningful - but contextually independent - features from the raw speech signal. This part of the model has already been sufficiently trained during pretraining and as stated in the [paper](https://arxiv.org/pdf/2006.13979.pdf) does not need to be fine-tuned anymore. \n",
        "Thus, we can set the `requires_grad` to `False` for all parameters of the *feature extraction* part."
      ]
    },
    {
      "cell_type": "code",
      "metadata": {
        "id": "oGI8zObtZ3V0"
      },
      "source": [
        "model.freeze_feature_extractor()"
      ],
      "execution_count": null,
      "outputs": []
    },
    {
      "cell_type": "markdown",
      "metadata": {
        "id": "lD4aGhQM0K-D"
      },
      "source": [
        "In a final step, we define all parameters related to training. \n",
        "To give more explanation on some of the parameters:\n",
        "- `group_by_length` makes training more efficient by grouping training samples of similar input length into one batch. This can significantly speed up training time by heavily reducing the overall number of useless padding tokens that are passed through the model\n",
        "- `learning_rate` and `weight_decay` were heuristically tuned until fine-tuning has become stable. Note that those parameters strongly depend on the Common Voice dataset and might be suboptimal for other speech datasets.\n",
        "\n",
        "For more explanations on other parameters, one can take a look at the [docs](https://huggingface.co/transformers/master/main_classes/trainer.html?highlight=trainer#trainingarguments).\n",
        "\n",
        "**Note**: If one wants to save the trained models in his/her google drive the commented-out `output_dir` can be used instead."
      ]
    },
    {
      "cell_type": "code",
      "metadata": {
        "id": "KbeKSV7uzGPP"
      },
      "source": [
        "from transformers import TrainingArguments\n",
        "\n",
        "training_args = TrainingArguments(\n",
        "  output_dir=\"/content/drive/MyDrive/wav2vec2-large-xlsr-gl\",\n",
        "  # output_dir=\"./wav2vec2-large-xlsr-turkish-demo\",\n",
        "  group_by_length=True,\n",
        "  per_device_train_batch_size=16,\n",
        "  gradient_accumulation_steps=2,\n",
        "  evaluation_strategy=\"steps\",\n",
        "  num_train_epochs=30,\n",
        "  fp16=True,\n",
        "  save_steps=400,\n",
        "  eval_steps=400,\n",
        "  logging_steps=400,\n",
        "  learning_rate=3e-4,\n",
        "  warmup_steps=500,\n",
        "  save_total_limit=2,\n",
        ")"
      ],
      "execution_count": null,
      "outputs": []
    },
    {
      "cell_type": "markdown",
      "metadata": {
        "id": "OsW-WZcL1ZtN"
      },
      "source": [
        "Now, all instances can be passed to Trainer and we are ready to start training!"
      ]
    },
    {
      "cell_type": "code",
      "metadata": {
        "id": "rY7vBmFCPFgC"
      },
      "source": [
        "from transformers import Trainer\n",
        "\n",
        "trainer = Trainer(\n",
        "    model=model,\n",
        "    data_collator=data_collator,\n",
        "    args=training_args,\n",
        "    compute_metrics=compute_metrics,\n",
        "    train_dataset=common_voice_train,\n",
        "    eval_dataset=common_voice_test,\n",
        "    tokenizer=processor.feature_extractor,\n",
        ")"
      ],
      "execution_count": null,
      "outputs": []
    },
    {
      "cell_type": "markdown",
      "metadata": {
        "id": "UoXBx1JAA0DX"
      },
      "source": [
        "\n",
        "\n",
        "---\n",
        "\n",
        "${}^1$ To allow models to become independent of the speaker rate, in CTC, consecutive tokens that are identical are simply grouped as a single token. However, the encoded labels should not be grouped when decoding since they don't correspond to the predicted tokens of the model, which is why the `group_tokens=False` parameter has to be passed. If we wouldn't pass this parameter a word like `\"hello\"` would incorrectly be encoded, and decoded as `\"helo\"`.\n",
        "\n",
        "${}^2$ The blank token allows the model to predict a word, such as `\"hello\"` by forcing it to insert the blank token between the two l's. A CTC-conform prediction of `\"hello\"` of our model would be `[PAD] [PAD] \"h\" \"e\" \"e\" \"l\" \"l\" [PAD] \"l\" \"o\" \"o\" [PAD]`."
      ]
    },
    {
      "cell_type": "markdown",
      "metadata": {
        "id": "rpvZHM1xReIW"
      },
      "source": [
        "### Training"
      ]
    },
    {
      "cell_type": "markdown",
      "metadata": {
        "id": "j-3oKSzZ1hGq"
      },
      "source": [
        "Training will take between 180 and 240 minutes depending on the GPU allocated to this notebook. While the trained model yields somewhat satisfying results on *Common Voice*'s test data of Turkish, it is by no means an optimally fine-tuned model. The purpose of this notebook is to demonstrate how XLSR-Wav2Vec2's [checkpoint](https://huggingface.co/facebook/wav2vec2-large-xlsr-53) can be fine-tuned on a low-resource ASR dataset.\n",
        "\n",
        "In case you want to use this google colab to fine-tune your model, you should make sure that your training doesn't stop due to inactivity. A simple hack to prevent this is to paste the following code into the console of this tab (*right mouse click -> inspect -> Console tab and insert code*)."
      ]
    },
    {
      "cell_type": "markdown",
      "metadata": {
        "id": "VYYAvgkW4P0m"
      },
      "source": [
        "```javascript\n",
        "function ConnectButton(){\n",
        "    console.log(\"Connect pushed\"); \n",
        "    document.querySelector(\"#top-toolbar > colab-connect-button\").shadowRoot.querySelector(\"#connect\").click() \n",
        "}\n",
        "setInterval(ConnectButton,60000);\n",
        "```"
      ]
    },
    {
      "cell_type": "code",
      "metadata": {
        "id": "_UEjJqGsQw24",
        "colab": {
          "base_uri": "https://localhost:8080/",
          "height": 346
        },
        "outputId": "03a93790-9abf-4227-d6a0-63f6abce9054"
      },
      "source": [
        "trainer.train()"
      ],
      "execution_count": null,
      "outputs": [
        {
          "output_type": "stream",
          "text": [
            "/usr/local/lib/python3.7/dist-packages/torch/optim/lr_scheduler.py:134: UserWarning: Detected call of `lr_scheduler.step()` before `optimizer.step()`. In PyTorch 1.1.0 and later, you should call them in the opposite order: `optimizer.step()` before `lr_scheduler.step()`.  Failure to do this will result in PyTorch skipping the first value of the learning rate schedule. See more details at https://pytorch.org/docs/stable/optim.html#how-to-adjust-learning-rate\n",
            "  \"https://pytorch.org/docs/stable/optim.html#how-to-adjust-learning-rate\", UserWarning)\n"
          ],
          "name": "stderr"
        },
        {
          "output_type": "display_data",
          "data": {
            "text/html": [
              "\n",
              "    <div>\n",
              "        <style>\n",
              "            /* Turns off some styling */\n",
              "            progress {\n",
              "                /* gets rid of default border in Firefox and Opera. */\n",
              "                border: none;\n",
              "                /* Needs to be in here for Safari polyfill so background images work as expected. */\n",
              "                background-size: auto;\n",
              "            }\n",
              "        </style>\n",
              "      \n",
              "      <progress value='3086' max='3690' style='width:300px; height:20px; vertical-align: middle;'></progress>\n",
              "      [3086/3690 7:04:50 < 1:23:12, 0.12 it/s, Epoch 25.08/30]\n",
              "    </div>\n",
              "    <table border=\"1\" class=\"dataframe\">\n",
              "  <thead>\n",
              "    <tr style=\"text-align: left;\">\n",
              "      <th>Step</th>\n",
              "      <th>Training Loss</th>\n",
              "      <th>Validation Loss</th>\n",
              "      <th>Wer</th>\n",
              "      <th>Runtime</th>\n",
              "      <th>Samples Per Second</th>\n",
              "    </tr>\n",
              "  </thead>\n",
              "  <tbody>\n",
              "    <tr>\n",
              "      <td>400</td>\n",
              "      <td>4.766900</td>\n",
              "      <td>0.921809</td>\n",
              "      <td>0.807914</td>\n",
              "      <td>137.118400</td>\n",
              "      <td>5.893000</td>\n",
              "    </tr>\n",
              "    <tr>\n",
              "      <td>800</td>\n",
              "      <td>0.408800</td>\n",
              "      <td>0.172705</td>\n",
              "      <td>0.245734</td>\n",
              "      <td>138.246500</td>\n",
              "      <td>5.845000</td>\n",
              "    </tr>\n",
              "    <tr>\n",
              "      <td>1200</td>\n",
              "      <td>0.156800</td>\n",
              "      <td>0.152202</td>\n",
              "      <td>0.204352</td>\n",
              "      <td>139.168900</td>\n",
              "      <td>5.806000</td>\n",
              "    </tr>\n",
              "    <tr>\n",
              "      <td>1600</td>\n",
              "      <td>0.099100</td>\n",
              "      <td>0.163582</td>\n",
              "      <td>0.191660</td>\n",
              "      <td>138.846900</td>\n",
              "      <td>5.819000</td>\n",
              "    </tr>\n",
              "    <tr>\n",
              "      <td>2000</td>\n",
              "      <td>0.070700</td>\n",
              "      <td>0.162363</td>\n",
              "      <td>0.182274</td>\n",
              "      <td>139.122500</td>\n",
              "      <td>5.808000</td>\n",
              "    </tr>\n",
              "    <tr>\n",
              "      <td>2400</td>\n",
              "      <td>0.054100</td>\n",
              "      <td>0.168034</td>\n",
              "      <td>0.175981</td>\n",
              "      <td>138.991000</td>\n",
              "      <td>5.813000</td>\n",
              "    </tr>\n",
              "    <tr>\n",
              "      <td>2800</td>\n",
              "      <td>0.041100</td>\n",
              "      <td>0.179742</td>\n",
              "      <td>0.167982</td>\n",
              "      <td>138.712800</td>\n",
              "      <td>5.825000</td>\n",
              "    </tr>\n",
              "  </tbody>\n",
              "</table><p>"
            ],
            "text/plain": [
              "<IPython.core.display.HTML object>"
            ]
          },
          "metadata": {
            "tags": []
          }
        }
      ]
    },
    {
      "cell_type": "markdown",
      "metadata": {
        "id": "RHIVc44_fY2N"
      },
      "source": [
        "The training loss goes down and we can see that the WER on the test set also improves nicely. Because this notebook is just for demonstration purposes, we can stop here.\n",
        "\n",
        "The resulting model of this notebook has been saved to [`patrickvonplaten/wav2vec2-large-xlsr-turkish-demo`](https://huggingface.co/patrickvonplaten/wav2vec2-large-xlsr-turkish-demo)\n",
        "\n",
        "As a final check, let's load the model and verify that it indeed has learned to transcribe Turkish speech.\n",
        "\n",
        "Let's first load the pretrained checkpoint."
      ]
    },
    {
      "cell_type": "code",
      "metadata": {
        "colab": {
          "base_uri": "https://localhost:8080/"
        },
        "id": "J8E8pxJ9hgZS",
        "outputId": "24e48dfe-2950-486f-e99f-9cd74fd7e667"
      },
      "source": [
        "from transformers import Wav2Vec2ForCTC\n",
        "from transformers import Wav2Vec2Processor\n",
        "\n",
        "\n",
        "model = Wav2Vec2ForCTC.from_pretrained(\"/content/drive/MyDrive/wav2vec2-large-xlsr-gl/checkpoint-2800\").to(\"cuda\")\n",
        "processor = Wav2Vec2Processor.from_pretrained(\"/content/drive/MyDrive/wav2vec2-large-xlsr-gl\")"
      ],
      "execution_count": null,
      "outputs": [
        {
          "output_type": "stream",
          "text": [
            "Special tokens have been added in the vocabulary, make sure the associated word embedding are fine-tuned or trained.\n"
          ],
          "name": "stderr"
        }
      ]
    },
    {
      "cell_type": "markdown",
      "metadata": {
        "id": "QsfGCQYSvY8C"
      },
      "source": [
        "Now, we will just take the first example of the test set, run it through the model and take the `argmax(...)` of the logits to retrieve the predicted token ids."
      ]
    },
    {
      "cell_type": "code",
      "metadata": {
        "colab": {
          "base_uri": "https://localhost:8080/"
        },
        "id": "EA6fxk-jiHby",
        "outputId": "0c5550c0-d4c2-4766-aca5-038ca97babd5"
      },
      "source": [
        "import torch\n",
        "\n",
        "input_dict = processor(common_voice_test[\"input_values\"][0], return_tensors=\"pt\", padding=True)\n",
        "\n",
        "logits = model(input_dict.input_values.to(\"cuda\")).logits\n",
        "\n",
        "pred_ids = torch.argmax(logits, dim=-1)[0]"
      ],
      "execution_count": null,
      "outputs": [
        {
          "output_type": "stream",
          "text": [
            "It is strongly recommended to pass the ``sampling_rate`` argument to this function.Failing to do so can result in silent errors that might be hard to debug.\n"
          ],
          "name": "stderr"
        }
      ]
    },
    {
      "cell_type": "markdown",
      "metadata": {
        "id": "1JDyVCMDvlYd"
      },
      "source": [
        "We adapted `common_voice_test` quite a bit so that the dataset instance does not contain the original sentence label anymore. Thus, we re-use the original dataset to get the label of the first example."
      ]
    },
    {
      "cell_type": "code",
      "metadata": {
        "colab": {
          "base_uri": "https://localhost:8080/"
        },
        "id": "8dPE2GRIgtx-",
        "outputId": "81915aec-5deb-44c2-fea5-955b23de84cb"
      },
      "source": [
        "common_voice_test_transcription = load_dataset(\"json\", data_files=[\"/content/drive/MyDrive/speech/elra/elra_val_manifest.json\"])['train']"
      ],
      "execution_count": null,
      "outputs": [
        {
          "output_type": "stream",
          "text": [
            "Using custom data configuration default-c44e9774811e0745\n",
            "Reusing dataset json (/root/.cache/huggingface/datasets/json/default-c44e9774811e0745/0.0.0/dc7ee63ec8b554c48ecc5a8a6fbe27af8071408c244e4347cf9222d6206d83a2)\n"
          ],
          "name": "stderr"
        }
      ]
    },
    {
      "cell_type": "markdown",
      "metadata": {
        "id": "ApS3MmN4v5P7"
      },
      "source": [
        "Finally, we can decode the example."
      ]
    },
    {
      "cell_type": "code",
      "metadata": {
        "colab": {
          "base_uri": "https://localhost:8080/"
        },
        "id": "Phqxa1O1jMDk",
        "outputId": "bcb4dec6-7c90-482c-bd8a-48369b194544"
      },
      "source": [
        "print(\"Prediction:\")\n",
        "print(processor.decode(pred_ids))\n",
        "\n",
        "print(\"\\nReference:\")\n",
        "print(common_voice_test_transcription[\"text\"][0].lower())\n"
      ],
      "execution_count": null,
      "outputs": [
        {
          "output_type": "stream",
          "text": [
            "Prediction:\n",
            "sabías que o territorio no que se senta bombai era orixinalmente un arquipélago de sete illas\n",
            "\n",
            "Reference:\n",
            "sabías que o terrritorio no que se asenta bombai era orixinalmente un arquipélago de sete illas\n",
            "\n"
          ],
          "name": "stdout"
        }
      ]
    },
    {
      "cell_type": "markdown",
      "metadata": {
        "id": "4n_8vhzUv7aw"
      },
      "source": [
        "Alright! The transcription can definitely be recognized from our prediction, but it is far from being perfect. Training the model a bit longer, spending more time on the data preprocessing, and especially using a language model for decoding would certainly improve the model's overall performance. \n",
        "\n",
        "For a demonstration model on a low-resource language, the results are acceptable, however 🤗."
      ]
    }
  ]
}